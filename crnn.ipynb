{
  "cells": [
    {
      "cell_type": "markdown",
      "metadata": {
        "id": "view-in-github",
        "colab_type": "text"
      },
      "source": [
        "<a href=\"https://colab.research.google.com/github/Sunbin-Lee/crnn_example/blob/main/crnn.ipynb\" target=\"_parent\"><img src=\"https://colab.research.google.com/assets/colab-badge.svg\" alt=\"Open In Colab\"/></a>"
      ]
    },
    {
      "cell_type": "markdown",
      "metadata": {
        "id": "CkdTMPb6AI3N"
      },
      "source": [
        "### 자동차 번호판 인식 - CRNN 구현\n",
        "#### 구조 구현 확인 (CNN 구조/ RNN 구조 확인) - o\n",
        "#### **loss 선언 확인 (blank/zero_infinity)** - o\n",
        "#### augmentation 적용 - o\n",
        "#### learning rate/ gradient clip\n",
        "\n"
      ]
    },
    {
      "cell_type": "code",
      "source": [
        "cd /content/drive/MyDrive/Colab Notebooks/crnn_example"
      ],
      "metadata": {
        "colab": {
          "base_uri": "https://localhost:8080/"
        },
        "id": "qbYUBd7FIBgK",
        "outputId": "7ad41113-73f3-4f5e-a6a5-869ea4b8c4e1"
      },
      "execution_count": null,
      "outputs": [
        {
          "output_type": "stream",
          "name": "stdout",
          "text": [
            "/content/drive/MyDrive/Colab Notebooks/crnn_example\n"
          ]
        }
      ]
    },
    {
      "cell_type": "markdown",
      "metadata": {
        "id": "e3EiiRFq7vHH"
      },
      "source": [
        "### data unzip"
      ]
    },
    {
      "cell_type": "code",
      "execution_count": null,
      "metadata": {
        "id": "h7PfbpROlvHE"
      },
      "outputs": [],
      "source": [
        "# %cd /content/drive/MyDrive/Colab Notebooks/crnn_example/data/train\n",
        "\n",
        "# !unzip -qq \"/content/drive/MyDrive/Colab Notebooks/crnn_example/data/train/[원천]자동차번호판OCR데이터.zip\""
      ]
    },
    {
      "cell_type": "code",
      "execution_count": null,
      "metadata": {
        "id": "30v2ywT_wtki"
      },
      "outputs": [],
      "source": [
        "# %cd /content/drive/MyDrive/Colab Notebooks/crnn_example/data/val\n",
        "\n",
        "# !unzip -qq \"/content/drive/MyDrive/Colab Notebooks/crnn_example/data/val/[원천]자동차번호판OCR데이터.zip\""
      ]
    },
    {
      "cell_type": "markdown",
      "source": [],
      "metadata": {
        "id": "BsqSBwrpiK-m"
      }
    },
    {
      "cell_type": "code",
      "execution_count": null,
      "metadata": {
        "id": "4fYEgdaY28nB"
      },
      "outputs": [],
      "source": [
        "# import os"
      ]
    },
    {
      "cell_type": "code",
      "execution_count": null,
      "metadata": {
        "id": "j95lMN7X2_63"
      },
      "outputs": [],
      "source": [
        "# train_list = os.listdir('/content/drive/MyDrive/Colab Notebooks/crnn_example/data/train')\n",
        "# train_list = [name for name in train_list if name.endswith('.jpg')]\n",
        "# train_list[:10]"
      ]
    },
    {
      "cell_type": "code",
      "execution_count": null,
      "metadata": {
        "id": "kLtIyVCG7uBW"
      },
      "outputs": [],
      "source": [
        "# val_list = os.listdir('/content/drive/MyDrive/Colab Notebooks/crnn_example/data/val')\n",
        "# val_list = [name for name in val_list if name.endswith('.jpg')]\n",
        "# val_list[:10]"
      ]
    },
    {
      "cell_type": "code",
      "source": [
        "# len(train_list), len(val_list)"
      ],
      "metadata": {
        "id": "SB98fJLEOYu9"
      },
      "execution_count": null,
      "outputs": []
    },
    {
      "cell_type": "markdown",
      "source": [
        "#### pickle로 저장"
      ],
      "metadata": {
        "id": "i5vxOxgtQ59B"
      }
    },
    {
      "cell_type": "code",
      "source": [
        "import pickle\n",
        "import numpy as np\n",
        "\n",
        "from PIL import Image"
      ],
      "metadata": {
        "id": "L3oiVYSSVF_I"
      },
      "execution_count": null,
      "outputs": []
    },
    {
      "cell_type": "code",
      "source": [
        "def make_pickle(data_dir, name_list):\n",
        "  X_list, y_list = [], []\n",
        "  for img_name in name_list:\n",
        "    img_path = os.path.join(data_dir, img_name)\n",
        "    image = Image.open(img_path).convert('L')\n",
        "    image = image.resize((100, 32))\n",
        "    label = img_name.split('.')[0].split('-')[0]\n",
        "    X_list.append(image)\n",
        "    y_list.append(label)\n",
        "\n",
        "  with open(f'{data_dir}.pickle', 'wb') as f:\n",
        "    pickle.dump([np.array(X_list), np.array(y_list)], f)"
      ],
      "metadata": {
        "id": "YHJARjzOTooL"
      },
      "execution_count": null,
      "outputs": []
    },
    {
      "cell_type": "code",
      "source": [
        "# train_list = os.listdir('/content/drive/MyDrive/Colab Notebooks/crnn_example/data/train')\n",
        "# train_list = [name for name in train_list if name.endswith('.jpg')]\n",
        "\n",
        "# make_pickle('/content/drive/MyDrive/Colab Notebooks/crnn_example/data/train', train_list)"
      ],
      "metadata": {
        "id": "PCpgS1EDS0-M"
      },
      "execution_count": null,
      "outputs": []
    },
    {
      "cell_type": "code",
      "source": [
        "# val_list = os.listdir('/content/drive/MyDrive/Colab Notebooks/crnn_example/data/val')\n",
        "# val_list = [name for name in val_list if name.endswith('.jpg')]\n",
        "\n",
        "# make_pickle('/content/drive/MyDrive/Colab Notebooks/crnn_example/data/val', val_list)"
      ],
      "metadata": {
        "id": "0gT9osEhVaRi"
      },
      "execution_count": null,
      "outputs": []
    },
    {
      "cell_type": "code",
      "source": [
        "# len(val_list)"
      ],
      "metadata": {
        "id": "0M-rvaqYgWNh"
      },
      "execution_count": null,
      "outputs": []
    },
    {
      "cell_type": "markdown",
      "metadata": {
        "id": "hPdAfO-57uhm"
      },
      "source": [
        "### 패키지 임포트"
      ]
    },
    {
      "cell_type": "code",
      "execution_count": null,
      "metadata": {
        "id": "a-e618HB8PKf"
      },
      "outputs": [],
      "source": [
        "import os\n",
        "from tqdm import tqdm\n",
        "\n",
        "from PIL import Image\n",
        "\n",
        "import pickle\n",
        "\n",
        "import numpy as np\n",
        "\n",
        "import torch\n",
        "import torch.nn as nn\n",
        "import torch.nn.functional as F\n",
        "import torch.optim as optim\n",
        "\n",
        "from torchvision import datasets, transforms\n",
        "from torch.utils.data import Dataset, DataLoader"
      ]
    },
    {
      "cell_type": "code",
      "execution_count": null,
      "metadata": {
        "id": "1WlWa_ojPiLT"
      },
      "outputs": [],
      "source": [
        "import unicodedata\n",
        "\n",
        "def trans(x):\n",
        "  return unicodedata.normalize('NFC', x)"
      ]
    },
    {
      "cell_type": "markdown",
      "source": [
        "### 토크나이저 정의"
      ],
      "metadata": {
        "id": "dYIxZF5vttBO"
      }
    },
    {
      "cell_type": "code",
      "execution_count": null,
      "metadata": {
        "id": "vAb8u2lILXgU"
      },
      "outputs": [],
      "source": [
        "# tokenizer = {'-':0, '0':1, '1':2, '2':3, '3':4, '4':5, '5':6, '6':7, '7':8, '8':9, '9':10,} ######### '-' 추가\n",
        "# idx = 11\n",
        "# for name in train_list+val_list:\n",
        "#   name = trans(name.split('.')[0].split('-')[0])\n",
        "#   for s in name:\n",
        "#     if s not in tokenizer:\n",
        "#       tokenizer[s] = idx\n",
        "#       idx += 1"
      ]
    },
    {
      "cell_type": "code",
      "execution_count": null,
      "metadata": {
        "id": "KLqVc15_Rcmr"
      },
      "outputs": [],
      "source": [
        "# # val_list\n",
        "# print(tokenizer)\n",
        "# print(len(tokenizer))"
      ]
    },
    {
      "cell_type": "code",
      "execution_count": null,
      "metadata": {
        "id": "_CZtBjpvMGSm"
      },
      "outputs": [],
      "source": [
        "# print(tokenizer)"
      ]
    },
    {
      "cell_type": "code",
      "source": [
        "import json"
      ],
      "metadata": {
        "id": "NllNgdxaWD0B"
      },
      "execution_count": null,
      "outputs": []
    },
    {
      "cell_type": "code",
      "source": [
        "# with open(f'/content/drive/MyDrive/Colab Notebooks/crnn_example/data/tokenizer.json', 'w') as f:\n",
        "#   json.dump(tokenizer, f)"
      ],
      "metadata": {
        "id": "TvChpidvVmeO"
      },
      "execution_count": null,
      "outputs": []
    },
    {
      "cell_type": "markdown",
      "source": [
        "### 데이터셋/모델 정의"
      ],
      "metadata": {
        "id": "y1fCtrwmtvt7"
      }
    },
    {
      "cell_type": "code",
      "execution_count": null,
      "metadata": {
        "id": "Ms1ixaBj9GlW"
      },
      "outputs": [],
      "source": [
        "class NumberPlateDataset(Dataset):\n",
        "    def __init__(self, X, y, transform=None):\n",
        "        self.X = X\n",
        "        self.y = y\n",
        "        self.transform = transform\n",
        "\n",
        "    def __len__(self):\n",
        "        return len(self.X)\n",
        "\n",
        "    def __getitem__(self, idx):\n",
        "        image, label = self.X[idx], self.y[idx]\n",
        "\n",
        "        if self.transform:\n",
        "            image = self.transform(image)\n",
        "\n",
        "        return image, label"
      ]
    },
    {
      "cell_type": "code",
      "source": [
        "train_transform = transforms.Compose([\n",
        "    # transforms.Resize((32, 100)),\n",
        "    transforms.RandomAdjustSharpness(sharpness_factor=0.2),\n",
        "    # transforms.GaussianBlur(kernel_size=5),\n",
        "    transforms.ToTensor(),\n",
        "    transforms.Normalize(mean=[0.5], std=[0.5])\n",
        "])"
      ],
      "metadata": {
        "id": "5JeM4bDlKiC0"
      },
      "execution_count": null,
      "outputs": []
    },
    {
      "cell_type": "code",
      "source": [
        "test_transform = transforms.Compose([\n",
        "    # transforms.Resize((32, 100)), # h, w\n",
        "    transforms.ToTensor(), # c, h, w\n",
        "    transforms.Normalize(mean=[0.5], std=[0.5])\n",
        "])"
      ],
      "metadata": {
        "id": "Z1ARzHfAKnWK"
      },
      "execution_count": null,
      "outputs": []
    },
    {
      "cell_type": "code",
      "execution_count": null,
      "metadata": {
        "id": "FFKP455tUmiz"
      },
      "outputs": [],
      "source": [
        "transform = transforms.Compose([\n",
        "    # transforms.Resize((32, 100)), # h, w\n",
        "    transforms.ToTensor(), # c, h, w\n",
        "    transforms.Normalize(mean=[0.5], std=[0.5])\n",
        "])"
      ]
    },
    {
      "cell_type": "code",
      "execution_count": null,
      "metadata": {
        "id": "IDSSNGGV-jR2"
      },
      "outputs": [],
      "source": [
        "class CRNN(nn.Module):\n",
        "    def __init__(self, num_classes, hidden_size):\n",
        "        super(CRNN, self).__init__()\n",
        "        self.convolutional_layers = nn.Sequential(\n",
        "            nn.Conv2d(1, 64, (3, 3), (1, 1), (1, 1), bias=True),\n",
        "            nn.ReLU(True),\n",
        "            nn.MaxPool2d((2, 2), (2, 2)),  # image size: 16 * 64\n",
        "\n",
        "            nn.Conv2d(64, 128, (3, 3), (1, 1), (1, 1), bias=True),\n",
        "            nn.ReLU(True),\n",
        "            nn.MaxPool2d((2, 2), (2, 2)),  # image size: 8 * 32\n",
        "\n",
        "            nn.Conv2d(128, 256, (3, 3), (1, 1), (1, 1), bias=False),\n",
        "            nn.BatchNorm2d(256),\n",
        "            nn.ReLU(True),\n",
        "            nn.Conv2d(256, 256, (3, 3), (1, 1), (1, 1), bias=True),\n",
        "            nn.ReLU(True),\n",
        "            nn.MaxPool2d((2, 2), (2, 1), (0, 1)),  # image size: 4 x 16\n",
        "\n",
        "            nn.Conv2d(256, 512, (3, 3), (1, 1), (1, 1), bias=False),\n",
        "            nn.BatchNorm2d(512),\n",
        "            nn.ReLU(True),\n",
        "            nn.Conv2d(512, 512, (3, 3), (1, 1), (1, 1), bias=True),\n",
        "            nn.ReLU(True),\n",
        "            nn.MaxPool2d((2, 2), (2, 1), (0, 1)),  # image size: 2 x 16\n",
        "\n",
        "            nn.Conv2d(512, 512, (2, 2), (1, 1), (0, 0), bias=False),\n",
        "            nn.BatchNorm2d(512),\n",
        "            nn.ReLU(True),  # image size: 1 x 16\n",
        "        )\n",
        "\n",
        "        self.rnn1 = nn.LSTM(512, hidden_size, bidirectional=True)\n",
        "        # self.rnn2 = nn.LSTM(512, hidden_size, bidirectional=True)\n",
        "\n",
        "        self.output = nn.Linear(hidden_size * 2, num_classes)\n",
        "\n",
        "    def forward(self, x):\n",
        "        x = self.convolutional_layers(x)  # [b, c, h, w]\n",
        "        x = x.squeeze(2) # [b, c, w]\n",
        "        x = x.permute(2, 0, 1) # [w, b, c]\n",
        "        # print(x.shape)\n",
        "\n",
        "        x, _ = self.rnn1(x) # [w, b, hidden*2]\n",
        "        # x, _ = self.rnn2(x)\n",
        "\n",
        "        sequence_length, batch_size, inputs_size = x.size()\n",
        "        x = x.view(sequence_length * batch_size, inputs_size) # [w*b, hidden*2]\n",
        "\n",
        "        x = self.output(x) # [w*b, c]\n",
        "        x = x.view(sequence_length, batch_size, -1) # [w, b, c]\n",
        "        return x"
      ]
    },
    {
      "cell_type": "code",
      "execution_count": null,
      "metadata": {
        "id": "w7f3B5JBU9HB"
      },
      "outputs": [],
      "source": [
        "with open('/content/drive/MyDrive/Colab Notebooks/crnn_example/data/train.pickle', 'rb') as f:\n",
        "  X, y = pickle.load(f)\n",
        "\n",
        "train_dataset = NumberPlateDataset(X, y, transform=train_transform) # c, h, w\n",
        "train_loader = DataLoader(train_dataset, batch_size=128, shuffle = True)"
      ]
    },
    {
      "cell_type": "code",
      "execution_count": null,
      "metadata": {
        "colab": {
          "base_uri": "https://localhost:8080/"
        },
        "id": "j6rIqe9dVqOU",
        "outputId": "595c81bd-f0bb-4a66-966a-1c2bcf8bf31c"
      },
      "outputs": [
        {
          "output_type": "execute_result",
          "data": {
            "text/plain": [
              "torch.Size([1, 32, 100])"
            ]
          },
          "metadata": {},
          "execution_count": 28
        }
      ],
      "source": [
        "train_dataset[0][0].shape"
      ]
    },
    {
      "cell_type": "code",
      "source": [
        "len(train_dataset)"
      ],
      "metadata": {
        "colab": {
          "base_uri": "https://localhost:8080/"
        },
        "id": "JO9G92CBh7Cv",
        "outputId": "e90a5f2d-4be8-4f9c-e7bb-94e62134d9f0"
      },
      "execution_count": null,
      "outputs": [
        {
          "output_type": "execute_result",
          "data": {
            "text/plain": [
              "80000"
            ]
          },
          "metadata": {},
          "execution_count": 29
        }
      ]
    },
    {
      "cell_type": "code",
      "execution_count": null,
      "metadata": {
        "id": "yLslXSszVr_y"
      },
      "outputs": [],
      "source": [
        "with open('/content/drive/MyDrive/Colab Notebooks/crnn_example/data/val.pickle', 'rb') as f:\n",
        "  X, y = pickle.load(f)\n",
        "\n",
        "val_dataset = NumberPlateDataset(X, y, transform=test_transform) # c, h, w\n",
        "val_loader = DataLoader(val_dataset, batch_size=128, shuffle = False)"
      ]
    },
    {
      "cell_type": "code",
      "execution_count": null,
      "metadata": {
        "id": "6NlTPHnwUjQq"
      },
      "outputs": [],
      "source": [
        "# val_dataset = NumberPlateDataset(data_dir='/content/drive/MyDrive/Colab Notebooks/data/val', transform=transform)\n",
        "# val_loader = DataLoader(val_dataset, batch_size=512, shuffle = True)"
      ]
    },
    {
      "cell_type": "code",
      "execution_count": null,
      "metadata": {
        "id": "YZGJl8jXUqW1"
      },
      "outputs": [],
      "source": [
        "with open(f'/content/drive/MyDrive/Colab Notebooks/crnn_example/data/tokenizer.json', 'r') as f:\n",
        "  tokenizer = json.load(f)"
      ]
    },
    {
      "cell_type": "markdown",
      "source": [
        "#### 인코딩 함수"
      ],
      "metadata": {
        "id": "Nnx6Jv6t4fAr"
      }
    },
    {
      "cell_type": "code",
      "source": [
        "def encode_label(label, tokenizer):\n",
        "  encode = []\n",
        "  for s in label:\n",
        "    encode.append(tokenizer[s])\n",
        "\n",
        "  return tuple(encode)\n",
        "\n",
        "def encode_text_batch(labels):\n",
        "  length_batch = tuple()\n",
        "  encode_batch = tuple()\n",
        "  for label in labels:\n",
        "    label = trans(label)\n",
        "    encode = encode_label(label, tokenizer)\n",
        "    encode_batch += (encode, )\n",
        "\n",
        "    length_batch += (len(label), )\n",
        "\n",
        "  return encode_batch, length_batch"
      ],
      "metadata": {
        "id": "sVeSLMGfqfGS"
      },
      "execution_count": null,
      "outputs": []
    },
    {
      "cell_type": "markdown",
      "source": [
        "#### 디코딩 함수"
      ],
      "metadata": {
        "id": "ufxj9Kx84lhD"
      }
    },
    {
      "cell_type": "code",
      "source": [
        "tokenizer_reverse = {v: k for k, v in tokenizer.items()}\n",
        "\n",
        "print(tokenizer_reverse)\n",
        "\n",
        "def decode_pred(pred, tokenizer): # tokenizer_reverse\n",
        "  decode = []\n",
        "  for i in range(len(pred)):\n",
        "    if i > 0 and pred[i] == pred[i-1]:\n",
        "      continue\n",
        "    if pred[i] == 0 or pred[i] == 97:\n",
        "      continue\n",
        "    decode.append(tokenizer[pred[i]])\n",
        "\n",
        "  return decode\n",
        "\n",
        "def decode_batch(outputs, tokenizer): # tokenizer_reverse\n",
        "  batch_decode = []\n",
        "  for pred in outputs:\n",
        "    decode = decode_pred(pred, tokenizer)\n",
        "    batch_decode.append(decode)\n",
        "\n",
        "  return batch_decode"
      ],
      "metadata": {
        "colab": {
          "base_uri": "https://localhost:8080/"
        },
        "id": "er8yx3Je4m64",
        "outputId": "4a3640f1-be3a-4dca-a444-e7f399a2fe8c"
      },
      "execution_count": null,
      "outputs": [
        {
          "output_type": "stream",
          "name": "stdout",
          "text": [
            "{0: '-', 1: '0', 2: '1', 3: '2', 4: '3', 5: '4', 6: '5', 7: '6', 8: '7', 9: '8', 10: '9', 11: '가', 12: '거', 13: '고', 14: '구', 15: '나', 16: '너', 17: '노', 18: '누', 19: '다', 20: '더', 21: '도', 22: '두', 23: '라', 24: '러', 25: '로', 26: '루', 27: '마', 28: '머', 29: '모', 30: '무', 31: '버', 32: '보', 33: '부', 34: '서', 35: '소', 36: '수', 37: '어', 38: '오', 39: '우', 40: '저', 41: '조', 42: '주', 43: '하', 44: '허', 45: '호', 46: '자', 47: '이', 48: '바', 49: '아', 50: '리', 51: '육', 52: '히', 53: '사', 54: '강', 55: '원', 56: '경', 57: '기', 58: '배', 59: '지', 60: '양', 61: '타', 62: '광', 63: '명', 64: '파', 65: '김', 66: '포', 67: '천', 68: '차', 69: '카', 70: '안', 71: '산', 72: '인', 73: '남', 74: '북', 75: '대', 76: '전', 77: '울', 78: '관', 79: '악', 80: '금', 81: '동', 82: '문', 83: '작', 84: '초', 85: '영', 86: '등', 87: '용', 88: '뱌', 89: '계', 90: '미', 91: '홀', 92: '추', 93: '평', 94: '연', 95: '중', 96: '충', 97: ' ', 98: '시'}\n"
          ]
        }
      ]
    },
    {
      "cell_type": "markdown",
      "source": [
        "### 학습"
      ],
      "metadata": {
        "id": "NGiq00rit0hT"
      }
    },
    {
      "cell_type": "code",
      "source": [
        "device = torch.device(\"cuda\" if torch.cuda.is_available() else \"cpu\")"
      ],
      "metadata": {
        "id": "_5uh22mFja6H"
      },
      "execution_count": null,
      "outputs": []
    },
    {
      "cell_type": "code",
      "source": [
        "model = CRNN(99, 256).to(device)\n",
        "criterion = nn.CTCLoss()\n",
        "optimizer = optim.Adam(model.parameters(), lr=1e-3)"
      ],
      "metadata": {
        "id": "6Yh9fMc4fGBV"
      },
      "execution_count": null,
      "outputs": []
    },
    {
      "cell_type": "code",
      "source": [
        "model_path = '/content/drive/MyDrive/Colab Notebooks/crnn_example/aug'"
      ],
      "metadata": {
        "id": "xkKcpgozfnYc"
      },
      "execution_count": null,
      "outputs": []
    },
    {
      "cell_type": "code",
      "source": [
        "max_epoch = 200\n",
        "patience = 5"
      ],
      "metadata": {
        "id": "IzA9iMbub3km"
      },
      "execution_count": null,
      "outputs": []
    },
    {
      "cell_type": "code",
      "execution_count": null,
      "metadata": {
        "id": "WeD6nxG7UaXU",
        "colab": {
          "base_uri": "https://localhost:8080/"
        },
        "outputId": "8f9771a2-1898-4299-9727-2dd132ff7353"
      },
      "outputs": [
        {
          "output_type": "stream",
          "name": "stderr",
          "text": [
            "Epoch:1: 100%|██████████| 625/625 [01:24<00:00,  7.40it/s]\n"
          ]
        },
        {
          "output_type": "stream",
          "name": "stdout",
          "text": [
            "[Train] Epoch 1, Loss: 1.23, Accuracy : 0.20\n"
          ]
        },
        {
          "output_type": "stream",
          "name": "stderr",
          "text": [
            "Epoch:1: 100%|██████████| 79/79 [00:05<00:00, 14.26it/s]\n"
          ]
        },
        {
          "output_type": "stream",
          "name": "stdout",
          "text": [
            "[Val] Epoch 1, Loss: 3.14, Accuracy : 0.48\n"
          ]
        },
        {
          "output_type": "stream",
          "name": "stderr",
          "text": [
            "Epoch:2: 100%|██████████| 625/625 [01:25<00:00,  7.33it/s]\n"
          ]
        },
        {
          "output_type": "stream",
          "name": "stdout",
          "text": [
            "[Train] Epoch 2, Loss: 0.28, Accuracy : 46.42\n"
          ]
        },
        {
          "output_type": "stream",
          "name": "stderr",
          "text": [
            "Epoch:2: 100%|██████████| 79/79 [00:04<00:00, 16.21it/s]\n"
          ]
        },
        {
          "output_type": "stream",
          "name": "stdout",
          "text": [
            "[Val] Epoch 2, Loss: 2.12, Accuracy : 66.58\n"
          ]
        },
        {
          "output_type": "stream",
          "name": "stderr",
          "text": [
            "Epoch:3: 100%|██████████| 625/625 [01:25<00:00,  7.32it/s]\n"
          ]
        },
        {
          "output_type": "stream",
          "name": "stdout",
          "text": [
            "[Train] Epoch 3, Loss: 0.15, Accuracy : 77.35\n"
          ]
        },
        {
          "output_type": "stream",
          "name": "stderr",
          "text": [
            "Epoch:3: 100%|██████████| 79/79 [00:04<00:00, 16.23it/s]\n"
          ]
        },
        {
          "output_type": "stream",
          "name": "stdout",
          "text": [
            "[Val] Epoch 3, Loss: 1.50, Accuracy : 79.04\n"
          ]
        },
        {
          "output_type": "stream",
          "name": "stderr",
          "text": [
            "Epoch:4: 100%|██████████| 625/625 [01:24<00:00,  7.37it/s]\n"
          ]
        },
        {
          "output_type": "stream",
          "name": "stdout",
          "text": [
            "[Train] Epoch 4, Loss: 0.14, Accuracy : 84.46\n"
          ]
        },
        {
          "output_type": "stream",
          "name": "stderr",
          "text": [
            "Epoch:4: 100%|██████████| 79/79 [00:05<00:00, 14.44it/s]\n"
          ]
        },
        {
          "output_type": "stream",
          "name": "stdout",
          "text": [
            "[Val] Epoch 4, Loss: 1.07, Accuracy : 81.54\n"
          ]
        },
        {
          "output_type": "stream",
          "name": "stderr",
          "text": [
            "Epoch:5: 100%|██████████| 625/625 [01:24<00:00,  7.37it/s]\n"
          ]
        },
        {
          "output_type": "stream",
          "name": "stdout",
          "text": [
            "[Train] Epoch 5, Loss: 0.11, Accuracy : 87.48\n"
          ]
        },
        {
          "output_type": "stream",
          "name": "stderr",
          "text": [
            "Epoch:5: 100%|██████████| 79/79 [00:04<00:00, 16.06it/s]\n"
          ]
        },
        {
          "output_type": "stream",
          "name": "stdout",
          "text": [
            "[Val] Epoch 5, Loss: 0.81, Accuracy : 85.27\n"
          ]
        },
        {
          "output_type": "stream",
          "name": "stderr",
          "text": [
            "Epoch:6: 100%|██████████| 625/625 [01:25<00:00,  7.33it/s]\n"
          ]
        },
        {
          "output_type": "stream",
          "name": "stdout",
          "text": [
            "[Train] Epoch 6, Loss: 0.09, Accuracy : 89.55\n"
          ]
        },
        {
          "output_type": "stream",
          "name": "stderr",
          "text": [
            "Epoch:6: 100%|██████████| 79/79 [00:04<00:00, 16.12it/s]\n"
          ]
        },
        {
          "output_type": "stream",
          "name": "stdout",
          "text": [
            "[Val] Epoch 6, Loss: 0.74, Accuracy : 83.53\n"
          ]
        },
        {
          "output_type": "stream",
          "name": "stderr",
          "text": [
            "Epoch:7: 100%|██████████| 625/625 [01:25<00:00,  7.35it/s]\n"
          ]
        },
        {
          "output_type": "stream",
          "name": "stdout",
          "text": [
            "[Train] Epoch 7, Loss: 0.08, Accuracy : 90.85\n"
          ]
        },
        {
          "output_type": "stream",
          "name": "stderr",
          "text": [
            "Epoch:7: 100%|██████████| 79/79 [00:05<00:00, 14.14it/s]\n"
          ]
        },
        {
          "output_type": "stream",
          "name": "stdout",
          "text": [
            "[Val] Epoch 7, Loss: 0.74, Accuracy : 87.60\n"
          ]
        },
        {
          "output_type": "stream",
          "name": "stderr",
          "text": [
            "Epoch:8: 100%|██████████| 625/625 [01:25<00:00,  7.34it/s]\n"
          ]
        },
        {
          "output_type": "stream",
          "name": "stdout",
          "text": [
            "[Train] Epoch 8, Loss: 0.04, Accuracy : 91.90\n"
          ]
        },
        {
          "output_type": "stream",
          "name": "stderr",
          "text": [
            "Epoch:8: 100%|██████████| 79/79 [00:05<00:00, 15.68it/s]\n"
          ]
        },
        {
          "output_type": "stream",
          "name": "stdout",
          "text": [
            "[Val] Epoch 8, Loss: 0.46, Accuracy : 87.13\n"
          ]
        },
        {
          "output_type": "stream",
          "name": "stderr",
          "text": [
            "Epoch:9: 100%|██████████| 625/625 [01:25<00:00,  7.31it/s]\n"
          ]
        },
        {
          "output_type": "stream",
          "name": "stdout",
          "text": [
            "[Train] Epoch 9, Loss: 0.03, Accuracy : 92.51\n"
          ]
        },
        {
          "output_type": "stream",
          "name": "stderr",
          "text": [
            "Epoch:9: 100%|██████████| 79/79 [00:04<00:00, 16.15it/s]\n"
          ]
        },
        {
          "output_type": "stream",
          "name": "stdout",
          "text": [
            "[Val] Epoch 9, Loss: 0.32, Accuracy : 87.12\n"
          ]
        },
        {
          "output_type": "stream",
          "name": "stderr",
          "text": [
            "Epoch:10: 100%|██████████| 625/625 [01:25<00:00,  7.35it/s]\n"
          ]
        },
        {
          "output_type": "stream",
          "name": "stdout",
          "text": [
            "[Train] Epoch 10, Loss: 0.05, Accuracy : 93.03\n"
          ]
        },
        {
          "output_type": "stream",
          "name": "stderr",
          "text": [
            "Epoch:10: 100%|██████████| 79/79 [00:05<00:00, 14.39it/s]\n"
          ]
        },
        {
          "output_type": "stream",
          "name": "stdout",
          "text": [
            "[Val] Epoch 10, Loss: 0.34, Accuracy : 88.03\n"
          ]
        },
        {
          "output_type": "stream",
          "name": "stderr",
          "text": [
            "Epoch:11: 100%|██████████| 625/625 [01:25<00:00,  7.35it/s]\n"
          ]
        },
        {
          "output_type": "stream",
          "name": "stdout",
          "text": [
            "[Train] Epoch 11, Loss: 0.05, Accuracy : 93.70\n"
          ]
        },
        {
          "output_type": "stream",
          "name": "stderr",
          "text": [
            "Epoch:11: 100%|██████████| 79/79 [00:05<00:00, 15.39it/s]\n"
          ]
        },
        {
          "output_type": "stream",
          "name": "stdout",
          "text": [
            "[Val] Epoch 11, Loss: 0.28, Accuracy : 89.86\n"
          ]
        },
        {
          "output_type": "stream",
          "name": "stderr",
          "text": [
            "Epoch:12: 100%|██████████| 625/625 [01:25<00:00,  7.32it/s]\n"
          ]
        },
        {
          "output_type": "stream",
          "name": "stdout",
          "text": [
            "[Train] Epoch 12, Loss: 0.04, Accuracy : 93.94\n"
          ]
        },
        {
          "output_type": "stream",
          "name": "stderr",
          "text": [
            "Epoch:12: 100%|██████████| 79/79 [00:04<00:00, 16.25it/s]\n"
          ]
        },
        {
          "output_type": "stream",
          "name": "stdout",
          "text": [
            "[Val] Epoch 12, Loss: 0.25, Accuracy : 90.55\n"
          ]
        },
        {
          "output_type": "stream",
          "name": "stderr",
          "text": [
            "Epoch:13: 100%|██████████| 625/625 [01:28<00:00,  7.04it/s]\n"
          ]
        },
        {
          "output_type": "stream",
          "name": "stdout",
          "text": [
            "[Train] Epoch 13, Loss: 0.02, Accuracy : 94.64\n"
          ]
        },
        {
          "output_type": "stream",
          "name": "stderr",
          "text": [
            "Epoch:13: 100%|██████████| 79/79 [00:04<00:00, 15.86it/s]\n"
          ]
        },
        {
          "output_type": "stream",
          "name": "stdout",
          "text": [
            "[Val] Epoch 13, Loss: 0.30, Accuracy : 90.66\n"
          ]
        },
        {
          "output_type": "stream",
          "name": "stderr",
          "text": [
            "Epoch:14: 100%|██████████| 625/625 [01:27<00:00,  7.17it/s]\n"
          ]
        },
        {
          "output_type": "stream",
          "name": "stdout",
          "text": [
            "[Train] Epoch 14, Loss: 0.03, Accuracy : 95.13\n"
          ]
        },
        {
          "output_type": "stream",
          "name": "stderr",
          "text": [
            "Epoch:14: 100%|██████████| 79/79 [00:05<00:00, 14.31it/s]\n"
          ]
        },
        {
          "output_type": "stream",
          "name": "stdout",
          "text": [
            "[Val] Epoch 14, Loss: 0.22, Accuracy : 91.38\n"
          ]
        },
        {
          "output_type": "stream",
          "name": "stderr",
          "text": [
            "Epoch:15: 100%|██████████| 625/625 [01:25<00:00,  7.31it/s]\n"
          ]
        },
        {
          "output_type": "stream",
          "name": "stdout",
          "text": [
            "[Train] Epoch 15, Loss: 0.04, Accuracy : 95.39\n"
          ]
        },
        {
          "output_type": "stream",
          "name": "stderr",
          "text": [
            "Epoch:15: 100%|██████████| 79/79 [00:05<00:00, 15.57it/s]\n"
          ]
        },
        {
          "output_type": "stream",
          "name": "stdout",
          "text": [
            "[Val] Epoch 15, Loss: 0.19, Accuracy : 89.72\n"
          ]
        },
        {
          "output_type": "stream",
          "name": "stderr",
          "text": [
            "Epoch:16: 100%|██████████| 625/625 [01:25<00:00,  7.32it/s]\n"
          ]
        },
        {
          "output_type": "stream",
          "name": "stdout",
          "text": [
            "[Train] Epoch 16, Loss: 0.03, Accuracy : 95.43\n"
          ]
        },
        {
          "output_type": "stream",
          "name": "stderr",
          "text": [
            "Epoch:16: 100%|██████████| 79/79 [00:04<00:00, 16.21it/s]\n"
          ]
        },
        {
          "output_type": "stream",
          "name": "stdout",
          "text": [
            "[Val] Epoch 16, Loss: 0.24, Accuracy : 91.81\n"
          ]
        },
        {
          "output_type": "stream",
          "name": "stderr",
          "text": [
            "Epoch:17: 100%|██████████| 625/625 [01:24<00:00,  7.36it/s]\n"
          ]
        },
        {
          "output_type": "stream",
          "name": "stdout",
          "text": [
            "[Train] Epoch 17, Loss: 0.04, Accuracy : 95.81\n"
          ]
        },
        {
          "output_type": "stream",
          "name": "stderr",
          "text": [
            "Epoch:17: 100%|██████████| 79/79 [00:05<00:00, 14.26it/s]\n"
          ]
        },
        {
          "output_type": "stream",
          "name": "stdout",
          "text": [
            "[Val] Epoch 17, Loss: 0.19, Accuracy : 91.38\n"
          ]
        },
        {
          "output_type": "stream",
          "name": "stderr",
          "text": [
            "Epoch:18: 100%|██████████| 625/625 [01:24<00:00,  7.36it/s]\n"
          ]
        },
        {
          "output_type": "stream",
          "name": "stdout",
          "text": [
            "[Train] Epoch 18, Loss: 0.04, Accuracy : 96.11\n"
          ]
        },
        {
          "output_type": "stream",
          "name": "stderr",
          "text": [
            "Epoch:18: 100%|██████████| 79/79 [00:04<00:00, 15.81it/s]\n"
          ]
        },
        {
          "output_type": "stream",
          "name": "stdout",
          "text": [
            "[Val] Epoch 18, Loss: 0.11, Accuracy : 91.41\n"
          ]
        },
        {
          "output_type": "stream",
          "name": "stderr",
          "text": [
            "Epoch:19: 100%|██████████| 625/625 [01:25<00:00,  7.34it/s]\n"
          ]
        },
        {
          "output_type": "stream",
          "name": "stdout",
          "text": [
            "[Train] Epoch 19, Loss: 0.02, Accuracy : 96.22\n"
          ]
        },
        {
          "output_type": "stream",
          "name": "stderr",
          "text": [
            "Epoch:19: 100%|██████████| 79/79 [00:04<00:00, 16.20it/s]\n"
          ]
        },
        {
          "output_type": "stream",
          "name": "stdout",
          "text": [
            "[Val] Epoch 19, Loss: 0.17, Accuracy : 91.05\n"
          ]
        },
        {
          "output_type": "stream",
          "name": "stderr",
          "text": [
            "Epoch:20: 100%|██████████| 625/625 [01:25<00:00,  7.35it/s]\n"
          ]
        },
        {
          "output_type": "stream",
          "name": "stdout",
          "text": [
            "[Train] Epoch 20, Loss: 0.01, Accuracy : 96.68\n"
          ]
        },
        {
          "output_type": "stream",
          "name": "stderr",
          "text": [
            "Epoch:20: 100%|██████████| 79/79 [00:05<00:00, 14.37it/s]\n"
          ]
        },
        {
          "output_type": "stream",
          "name": "stdout",
          "text": [
            "[Val] Epoch 20, Loss: 0.15, Accuracy : 91.89\n"
          ]
        },
        {
          "output_type": "stream",
          "name": "stderr",
          "text": [
            "Epoch:21: 100%|██████████| 625/625 [01:25<00:00,  7.32it/s]\n"
          ]
        },
        {
          "output_type": "stream",
          "name": "stdout",
          "text": [
            "[Train] Epoch 21, Loss: 0.02, Accuracy : 96.90\n"
          ]
        },
        {
          "output_type": "stream",
          "name": "stderr",
          "text": [
            "Epoch:21: 100%|██████████| 79/79 [00:04<00:00, 16.12it/s]\n"
          ]
        },
        {
          "output_type": "stream",
          "name": "stdout",
          "text": [
            "[Val] Epoch 21, Loss: 0.16, Accuracy : 91.33\n"
          ]
        },
        {
          "output_type": "stream",
          "name": "stderr",
          "text": [
            "Epoch:22: 100%|██████████| 625/625 [01:24<00:00,  7.36it/s]\n"
          ]
        },
        {
          "output_type": "stream",
          "name": "stdout",
          "text": [
            "[Train] Epoch 22, Loss: 0.02, Accuracy : 96.93\n"
          ]
        },
        {
          "output_type": "stream",
          "name": "stderr",
          "text": [
            "Epoch:22: 100%|██████████| 79/79 [00:05<00:00, 15.80it/s]\n"
          ]
        },
        {
          "output_type": "stream",
          "name": "stdout",
          "text": [
            "[Val] Epoch 22, Loss: 0.12, Accuracy : 89.75\n"
          ]
        },
        {
          "output_type": "stream",
          "name": "stderr",
          "text": [
            "Epoch:23: 100%|██████████| 625/625 [01:24<00:00,  7.37it/s]\n"
          ]
        },
        {
          "output_type": "stream",
          "name": "stdout",
          "text": [
            "[Train] Epoch 23, Loss: 0.03, Accuracy : 96.97\n"
          ]
        },
        {
          "output_type": "stream",
          "name": "stderr",
          "text": [
            "Epoch:23: 100%|██████████| 79/79 [00:05<00:00, 14.33it/s]\n"
          ]
        },
        {
          "output_type": "stream",
          "name": "stdout",
          "text": [
            "[Val] Epoch 23, Loss: 0.13, Accuracy : 91.81\n"
          ]
        },
        {
          "output_type": "stream",
          "name": "stderr",
          "text": [
            "Epoch:24: 100%|██████████| 625/625 [01:24<00:00,  7.36it/s]\n"
          ]
        },
        {
          "output_type": "stream",
          "name": "stdout",
          "text": [
            "[Train] Epoch 24, Loss: 0.02, Accuracy : 97.26\n"
          ]
        },
        {
          "output_type": "stream",
          "name": "stderr",
          "text": [
            "Epoch:24: 100%|██████████| 79/79 [00:04<00:00, 16.16it/s]\n"
          ]
        },
        {
          "output_type": "stream",
          "name": "stdout",
          "text": [
            "[Val] Epoch 24, Loss: 0.26, Accuracy : 92.08\n"
          ]
        },
        {
          "output_type": "stream",
          "name": "stderr",
          "text": [
            "Epoch:25: 100%|██████████| 625/625 [01:25<00:00,  7.31it/s]\n"
          ]
        },
        {
          "output_type": "stream",
          "name": "stdout",
          "text": [
            "[Train] Epoch 25, Loss: 0.01, Accuracy : 97.42\n"
          ]
        },
        {
          "output_type": "stream",
          "name": "stderr",
          "text": [
            "Epoch:25: 100%|██████████| 79/79 [00:04<00:00, 15.92it/s]\n"
          ]
        },
        {
          "output_type": "stream",
          "name": "stdout",
          "text": [
            "[Val] Epoch 25, Loss: 0.10, Accuracy : 92.32\n"
          ]
        },
        {
          "output_type": "stream",
          "name": "stderr",
          "text": [
            "Epoch:26: 100%|██████████| 625/625 [01:25<00:00,  7.34it/s]\n"
          ]
        },
        {
          "output_type": "stream",
          "name": "stdout",
          "text": [
            "[Train] Epoch 26, Loss: 0.03, Accuracy : 97.41\n"
          ]
        },
        {
          "output_type": "stream",
          "name": "stderr",
          "text": [
            "Epoch:26: 100%|██████████| 79/79 [00:05<00:00, 14.27it/s]\n"
          ]
        },
        {
          "output_type": "stream",
          "name": "stdout",
          "text": [
            "[Val] Epoch 26, Loss: 0.06, Accuracy : 91.99\n"
          ]
        },
        {
          "output_type": "stream",
          "name": "stderr",
          "text": [
            "Epoch:27: 100%|██████████| 625/625 [01:24<00:00,  7.36it/s]\n"
          ]
        },
        {
          "output_type": "stream",
          "name": "stdout",
          "text": [
            "[Train] Epoch 27, Loss: 0.01, Accuracy : 97.80\n"
          ]
        },
        {
          "output_type": "stream",
          "name": "stderr",
          "text": [
            "Epoch:27: 100%|██████████| 79/79 [00:04<00:00, 16.22it/s]\n"
          ]
        },
        {
          "output_type": "stream",
          "name": "stdout",
          "text": [
            "[Val] Epoch 27, Loss: 0.12, Accuracy : 92.05\n"
          ]
        },
        {
          "output_type": "stream",
          "name": "stderr",
          "text": [
            "Epoch:28: 100%|██████████| 625/625 [01:25<00:00,  7.32it/s]\n"
          ]
        },
        {
          "output_type": "stream",
          "name": "stdout",
          "text": [
            "[Train] Epoch 28, Loss: 0.00, Accuracy : 97.54\n"
          ]
        },
        {
          "output_type": "stream",
          "name": "stderr",
          "text": [
            "Epoch:28: 100%|██████████| 79/79 [00:04<00:00, 15.86it/s]\n"
          ]
        },
        {
          "output_type": "stream",
          "name": "stdout",
          "text": [
            "[Val] Epoch 28, Loss: 0.25, Accuracy : 92.49\n"
          ]
        },
        {
          "output_type": "stream",
          "name": "stderr",
          "text": [
            "Epoch:29: 100%|██████████| 625/625 [01:25<00:00,  7.33it/s]\n"
          ]
        },
        {
          "output_type": "stream",
          "name": "stdout",
          "text": [
            "[Train] Epoch 29, Loss: 0.03, Accuracy : 97.95\n"
          ]
        },
        {
          "output_type": "stream",
          "name": "stderr",
          "text": [
            "Epoch:29: 100%|██████████| 79/79 [00:05<00:00, 14.24it/s]\n"
          ]
        },
        {
          "output_type": "stream",
          "name": "stdout",
          "text": [
            "[Val] Epoch 29, Loss: 0.07, Accuracy : 91.42\n"
          ]
        },
        {
          "output_type": "stream",
          "name": "stderr",
          "text": [
            "Epoch:30: 100%|██████████| 625/625 [01:25<00:00,  7.35it/s]\n"
          ]
        },
        {
          "output_type": "stream",
          "name": "stdout",
          "text": [
            "[Train] Epoch 30, Loss: 0.01, Accuracy : 97.66\n"
          ]
        },
        {
          "output_type": "stream",
          "name": "stderr",
          "text": [
            "Epoch:30: 100%|██████████| 79/79 [00:04<00:00, 16.28it/s]\n"
          ]
        },
        {
          "output_type": "stream",
          "name": "stdout",
          "text": [
            "[Val] Epoch 30, Loss: 0.15, Accuracy : 91.85\n"
          ]
        },
        {
          "output_type": "stream",
          "name": "stderr",
          "text": [
            "Epoch:31: 100%|██████████| 625/625 [01:25<00:00,  7.31it/s]\n"
          ]
        },
        {
          "output_type": "stream",
          "name": "stdout",
          "text": [
            "[Train] Epoch 31, Loss: 0.00, Accuracy : 98.06\n"
          ]
        },
        {
          "output_type": "stream",
          "name": "stderr",
          "text": [
            "Epoch:31: 100%|██████████| 79/79 [00:04<00:00, 16.18it/s]\n"
          ]
        },
        {
          "output_type": "stream",
          "name": "stdout",
          "text": [
            "[Val] Epoch 31, Loss: 0.17, Accuracy : 92.54\n"
          ]
        },
        {
          "output_type": "stream",
          "name": "stderr",
          "text": [
            "Epoch:32: 100%|██████████| 625/625 [01:24<00:00,  7.36it/s]\n"
          ]
        },
        {
          "output_type": "stream",
          "name": "stdout",
          "text": [
            "[Train] Epoch 32, Loss: 0.01, Accuracy : 98.31\n"
          ]
        },
        {
          "output_type": "stream",
          "name": "stderr",
          "text": [
            "Epoch:32: 100%|██████████| 79/79 [00:05<00:00, 14.37it/s]\n"
          ]
        },
        {
          "output_type": "stream",
          "name": "stdout",
          "text": [
            "[Val] Epoch 32, Loss: 0.27, Accuracy : 91.90\n"
          ]
        },
        {
          "output_type": "stream",
          "name": "stderr",
          "text": [
            "Epoch:33: 100%|██████████| 625/625 [01:24<00:00,  7.37it/s]\n"
          ]
        },
        {
          "output_type": "stream",
          "name": "stdout",
          "text": [
            "[Train] Epoch 33, Loss: 0.01, Accuracy : 98.19\n"
          ]
        },
        {
          "output_type": "stream",
          "name": "stderr",
          "text": [
            "Epoch:33: 100%|██████████| 79/79 [00:04<00:00, 16.06it/s]\n"
          ]
        },
        {
          "output_type": "stream",
          "name": "stdout",
          "text": [
            "[Val] Epoch 33, Loss: 0.12, Accuracy : 92.56\n"
          ]
        },
        {
          "output_type": "stream",
          "name": "stderr",
          "text": [
            "Epoch:34: 100%|██████████| 625/625 [01:25<00:00,  7.32it/s]\n"
          ]
        },
        {
          "output_type": "stream",
          "name": "stdout",
          "text": [
            "[Train] Epoch 34, Loss: 0.00, Accuracy : 98.18\n"
          ]
        },
        {
          "output_type": "stream",
          "name": "stderr",
          "text": [
            "Epoch:34: 100%|██████████| 79/79 [00:04<00:00, 16.20it/s]\n"
          ]
        },
        {
          "output_type": "stream",
          "name": "stdout",
          "text": [
            "[Val] Epoch 34, Loss: 0.04, Accuracy : 92.68\n"
          ]
        },
        {
          "output_type": "stream",
          "name": "stderr",
          "text": [
            "Epoch:35: 100%|██████████| 625/625 [01:24<00:00,  7.36it/s]\n"
          ]
        },
        {
          "output_type": "stream",
          "name": "stdout",
          "text": [
            "[Train] Epoch 35, Loss: 0.01, Accuracy : 98.16\n"
          ]
        },
        {
          "output_type": "stream",
          "name": "stderr",
          "text": [
            "Epoch:35: 100%|██████████| 79/79 [00:05<00:00, 14.29it/s]\n"
          ]
        },
        {
          "output_type": "stream",
          "name": "stdout",
          "text": [
            "[Val] Epoch 35, Loss: 0.21, Accuracy : 92.18\n"
          ]
        },
        {
          "output_type": "stream",
          "name": "stderr",
          "text": [
            "Epoch:36: 100%|██████████| 625/625 [01:24<00:00,  7.37it/s]\n"
          ]
        },
        {
          "output_type": "stream",
          "name": "stdout",
          "text": [
            "[Train] Epoch 36, Loss: 0.00, Accuracy : 98.26\n"
          ]
        },
        {
          "output_type": "stream",
          "name": "stderr",
          "text": [
            "Epoch:36: 100%|██████████| 79/79 [00:04<00:00, 15.93it/s]\n"
          ]
        },
        {
          "output_type": "stream",
          "name": "stdout",
          "text": [
            "[Val] Epoch 36, Loss: 0.21, Accuracy : 92.31\n"
          ]
        },
        {
          "output_type": "stream",
          "name": "stderr",
          "text": [
            "Epoch:37: 100%|██████████| 625/625 [01:25<00:00,  7.34it/s]\n"
          ]
        },
        {
          "output_type": "stream",
          "name": "stdout",
          "text": [
            "[Train] Epoch 37, Loss: 0.01, Accuracy : 98.36\n"
          ]
        },
        {
          "output_type": "stream",
          "name": "stderr",
          "text": [
            "Epoch:37: 100%|██████████| 79/79 [00:04<00:00, 16.15it/s]\n"
          ]
        },
        {
          "output_type": "stream",
          "name": "stdout",
          "text": [
            "[Val] Epoch 37, Loss: 0.33, Accuracy : 92.05\n"
          ]
        },
        {
          "output_type": "stream",
          "name": "stderr",
          "text": [
            "Epoch:38: 100%|██████████| 625/625 [01:24<00:00,  7.37it/s]\n"
          ]
        },
        {
          "output_type": "stream",
          "name": "stdout",
          "text": [
            "[Train] Epoch 38, Loss: 0.02, Accuracy : 98.53\n"
          ]
        },
        {
          "output_type": "stream",
          "name": "stderr",
          "text": [
            "Epoch:38: 100%|██████████| 79/79 [00:05<00:00, 14.34it/s]\n"
          ]
        },
        {
          "output_type": "stream",
          "name": "stdout",
          "text": [
            "[Val] Epoch 38, Loss: 0.16, Accuracy : 92.72\n"
          ]
        },
        {
          "output_type": "stream",
          "name": "stderr",
          "text": [
            "Epoch:39: 100%|██████████| 625/625 [01:25<00:00,  7.34it/s]\n"
          ]
        },
        {
          "output_type": "stream",
          "name": "stdout",
          "text": [
            "[Train] Epoch 39, Loss: 0.03, Accuracy : 98.38\n"
          ]
        },
        {
          "output_type": "stream",
          "name": "stderr",
          "text": [
            "Epoch:39: 100%|██████████| 79/79 [00:05<00:00, 15.74it/s]\n"
          ]
        },
        {
          "output_type": "stream",
          "name": "stdout",
          "text": [
            "[Val] Epoch 39, Loss: 0.05, Accuracy : 92.53\n"
          ]
        },
        {
          "output_type": "stream",
          "name": "stderr",
          "text": [
            "Epoch:40: 100%|██████████| 625/625 [01:25<00:00,  7.33it/s]\n"
          ]
        },
        {
          "output_type": "stream",
          "name": "stdout",
          "text": [
            "[Train] Epoch 40, Loss: 0.01, Accuracy : 98.69\n"
          ]
        },
        {
          "output_type": "stream",
          "name": "stderr",
          "text": [
            "Epoch:40: 100%|██████████| 79/79 [00:04<00:00, 16.24it/s]\n"
          ]
        },
        {
          "output_type": "stream",
          "name": "stdout",
          "text": [
            "[Val] Epoch 40, Loss: 0.13, Accuracy : 92.63\n"
          ]
        },
        {
          "output_type": "stream",
          "name": "stderr",
          "text": [
            "Epoch:41: 100%|██████████| 625/625 [01:24<00:00,  7.37it/s]\n"
          ]
        },
        {
          "output_type": "stream",
          "name": "stdout",
          "text": [
            "[Train] Epoch 41, Loss: 0.00, Accuracy : 98.44\n"
          ]
        },
        {
          "output_type": "stream",
          "name": "stderr",
          "text": [
            "Epoch:41: 100%|██████████| 79/79 [00:05<00:00, 14.26it/s]\n"
          ]
        },
        {
          "output_type": "stream",
          "name": "stdout",
          "text": [
            "[Val] Epoch 41, Loss: 0.36, Accuracy : 91.58\n"
          ]
        },
        {
          "output_type": "stream",
          "name": "stderr",
          "text": [
            "Epoch:42: 100%|██████████| 625/625 [01:25<00:00,  7.34it/s]\n"
          ]
        },
        {
          "output_type": "stream",
          "name": "stdout",
          "text": [
            "[Train] Epoch 42, Loss: 0.00, Accuracy : 98.56\n"
          ]
        },
        {
          "output_type": "stream",
          "name": "stderr",
          "text": [
            "Epoch:42: 100%|██████████| 79/79 [00:04<00:00, 16.32it/s]\n"
          ]
        },
        {
          "output_type": "stream",
          "name": "stdout",
          "text": [
            "[Val] Epoch 42, Loss: 0.11, Accuracy : 92.75\n"
          ]
        },
        {
          "output_type": "stream",
          "name": "stderr",
          "text": [
            "Epoch:43: 100%|██████████| 625/625 [01:25<00:00,  7.32it/s]\n"
          ]
        },
        {
          "output_type": "stream",
          "name": "stdout",
          "text": [
            "[Train] Epoch 43, Loss: 0.01, Accuracy : 98.86\n"
          ]
        },
        {
          "output_type": "stream",
          "name": "stderr",
          "text": [
            "Epoch:43: 100%|██████████| 79/79 [00:04<00:00, 16.14it/s]\n"
          ]
        },
        {
          "output_type": "stream",
          "name": "stdout",
          "text": [
            "[Val] Epoch 43, Loss: 0.15, Accuracy : 92.51\n"
          ]
        },
        {
          "output_type": "stream",
          "name": "stderr",
          "text": [
            "Epoch:44: 100%|██████████| 625/625 [01:24<00:00,  7.36it/s]\n"
          ]
        },
        {
          "output_type": "stream",
          "name": "stdout",
          "text": [
            "[Train] Epoch 44, Loss: 0.01, Accuracy : 98.79\n"
          ]
        },
        {
          "output_type": "stream",
          "name": "stderr",
          "text": [
            "Epoch:44: 100%|██████████| 79/79 [00:05<00:00, 14.27it/s]\n"
          ]
        },
        {
          "output_type": "stream",
          "name": "stdout",
          "text": [
            "[Val] Epoch 44, Loss: 0.38, Accuracy : 92.67\n"
          ]
        },
        {
          "output_type": "stream",
          "name": "stderr",
          "text": [
            "Epoch:45: 100%|██████████| 625/625 [01:25<00:00,  7.32it/s]\n"
          ]
        },
        {
          "output_type": "stream",
          "name": "stdout",
          "text": [
            "[Train] Epoch 45, Loss: 0.01, Accuracy : 98.65\n"
          ]
        },
        {
          "output_type": "stream",
          "name": "stderr",
          "text": [
            "Epoch:45: 100%|██████████| 79/79 [00:04<00:00, 16.18it/s]\n"
          ]
        },
        {
          "output_type": "stream",
          "name": "stdout",
          "text": [
            "[Val] Epoch 45, Loss: 0.04, Accuracy : 92.95\n"
          ]
        },
        {
          "output_type": "stream",
          "name": "stderr",
          "text": [
            "Epoch:46: 100%|██████████| 625/625 [01:25<00:00,  7.29it/s]\n"
          ]
        },
        {
          "output_type": "stream",
          "name": "stdout",
          "text": [
            "[Train] Epoch 46, Loss: 0.00, Accuracy : 98.60\n"
          ]
        },
        {
          "output_type": "stream",
          "name": "stderr",
          "text": [
            "Epoch:46: 100%|██████████| 79/79 [00:04<00:00, 16.22it/s]\n"
          ]
        },
        {
          "output_type": "stream",
          "name": "stdout",
          "text": [
            "[Val] Epoch 46, Loss: 0.14, Accuracy : 92.04\n"
          ]
        },
        {
          "output_type": "stream",
          "name": "stderr",
          "text": [
            "Epoch:47: 100%|██████████| 625/625 [01:25<00:00,  7.34it/s]\n"
          ]
        },
        {
          "output_type": "stream",
          "name": "stdout",
          "text": [
            "[Train] Epoch 47, Loss: 0.00, Accuracy : 98.70\n"
          ]
        },
        {
          "output_type": "stream",
          "name": "stderr",
          "text": [
            "Epoch:47: 100%|██████████| 79/79 [00:05<00:00, 14.17it/s]\n"
          ]
        },
        {
          "output_type": "stream",
          "name": "stdout",
          "text": [
            "[Val] Epoch 47, Loss: 0.21, Accuracy : 92.65\n"
          ]
        },
        {
          "output_type": "stream",
          "name": "stderr",
          "text": [
            "Epoch:48: 100%|██████████| 625/625 [01:25<00:00,  7.33it/s]\n"
          ]
        },
        {
          "output_type": "stream",
          "name": "stdout",
          "text": [
            "[Train] Epoch 48, Loss: 0.00, Accuracy : 99.02\n"
          ]
        },
        {
          "output_type": "stream",
          "name": "stderr",
          "text": [
            "Epoch:48: 100%|██████████| 79/79 [00:04<00:00, 16.21it/s]\n"
          ]
        },
        {
          "output_type": "stream",
          "name": "stdout",
          "text": [
            "[Val] Epoch 48, Loss: 0.16, Accuracy : 92.80\n"
          ]
        },
        {
          "output_type": "stream",
          "name": "stderr",
          "text": [
            "Epoch:49: 100%|██████████| 625/625 [01:25<00:00,  7.30it/s]\n"
          ]
        },
        {
          "output_type": "stream",
          "name": "stdout",
          "text": [
            "[Train] Epoch 49, Loss: 0.00, Accuracy : 98.82\n"
          ]
        },
        {
          "output_type": "stream",
          "name": "stderr",
          "text": [
            "Epoch:49: 100%|██████████| 79/79 [00:05<00:00, 15.49it/s]\n"
          ]
        },
        {
          "output_type": "stream",
          "name": "stdout",
          "text": [
            "[Val] Epoch 49, Loss: 0.09, Accuracy : 92.87\n"
          ]
        },
        {
          "output_type": "stream",
          "name": "stderr",
          "text": [
            "Epoch:50: 100%|██████████| 625/625 [01:25<00:00,  7.34it/s]\n"
          ]
        },
        {
          "output_type": "stream",
          "name": "stdout",
          "text": [
            "[Train] Epoch 50, Loss: 0.01, Accuracy : 98.78\n"
          ]
        },
        {
          "output_type": "stream",
          "name": "stderr",
          "text": [
            "Epoch:50: 100%|██████████| 79/79 [00:05<00:00, 14.40it/s]"
          ]
        },
        {
          "output_type": "stream",
          "name": "stdout",
          "text": [
            "[Val] Epoch 50, Loss: 0.11, Accuracy : 92.89\n"
          ]
        },
        {
          "output_type": "stream",
          "name": "stderr",
          "text": [
            "\n"
          ]
        }
      ],
      "source": [
        "val_log = np.zeros(max_epoch+1)\n",
        "\n",
        "for epoch in range(1, max_epoch+1):\n",
        "    model.train()\n",
        "\n",
        "    correct_predictions, total_predictions = 0, 0\n",
        "    for images, labels in tqdm(train_loader, desc = f\"Epoch:{epoch}\"):\n",
        "        images = images.to(device)\n",
        "\n",
        "        # print(images.shape)\n",
        "        labels_encoded, label_lengths = encode_text_batch(labels)\n",
        "\n",
        "        labels_encoded_tensor = torch.cat([torch.tensor(label, dtype=torch.long) for label in labels_encoded])\n",
        "        label_lengths_tensor = torch.tensor(label_lengths, dtype=torch.long)\n",
        "\n",
        "        outputs = model(images)\n",
        "        outputs = F.log_softmax(outputs, 2)\n",
        "\n",
        "        images_lengths = torch.LongTensor([outputs.size(0)] * outputs.size(1))\n",
        "\n",
        "        # Computational loss\n",
        "        loss = criterion(outputs, labels_encoded_tensor, images_lengths, label_lengths_tensor)\n",
        "\n",
        "        optimizer.zero_grad()\n",
        "        loss.backward()\n",
        "        optimizer.step()\n",
        "\n",
        "        preds = outputs.argmax(2)\n",
        "        preds = preds.permute(1, 0)\n",
        "        # print(preds.shape)\n",
        "\n",
        "        # print(labels)\n",
        "\n",
        "        decodes = decode_batch(preds.cpu().numpy(), tokenizer_reverse)\n",
        "        for i in range(len(decodes)):\n",
        "          if ''.join(decodes[i]) == labels[i]:\n",
        "            correct_predictions += 1\n",
        "          total_predictions += 1\n",
        "\n",
        "    train_accuracy = correct_predictions / total_predictions\n",
        "\n",
        "    print(f'[Train] Epoch {epoch}, Loss: {loss.item():.2f}, Accuracy : {train_accuracy*100:.2f}')\n",
        "\n",
        "    with torch.no_grad():\n",
        "      model.eval()\n",
        "\n",
        "      correct_predictions, total_predictions = 0, 0\n",
        "      for images, labels in tqdm(val_loader, desc = f\"Epoch:{epoch}\"):\n",
        "        images = images.to(device)\n",
        "\n",
        "        labels_encoded, label_lengths = encode_text_batch(labels)\n",
        "\n",
        "        labels_encoded_tensor = torch.cat([torch.tensor(label, dtype=torch.long) for label in labels_encoded])\n",
        "        label_lengths_tensor = torch.tensor(label_lengths, dtype=torch.long)\n",
        "\n",
        "        outputs = model(images)\n",
        "        outputs = F.log_softmax(outputs, 2)\n",
        "\n",
        "        images_lengths = torch.LongTensor([outputs.size(0)] * outputs.size(1))\n",
        "\n",
        "        # Computational loss\n",
        "        loss = criterion(outputs, labels_encoded_tensor, images_lengths, label_lengths_tensor)\n",
        "\n",
        "        preds = outputs.argmax(2)\n",
        "        preds = preds.permute(1, 0)\n",
        "\n",
        "        decodes = decode_batch(preds.cpu().numpy(), tokenizer_reverse)\n",
        "        for i in range(len(decodes)):\n",
        "          if ''.join(decodes[i]) == labels[i]:\n",
        "            correct_predictions += 1\n",
        "          total_predictions += 1\n",
        "\n",
        "    val_accuracy = correct_predictions / total_predictions\n",
        "\n",
        "    print(f'[Val] Epoch {epoch}, Loss: {loss.item():.2f}, Accuracy : {val_accuracy*100:.2f}')\n",
        "\n",
        "    val_log[epoch] = - val_accuracy\n",
        "\n",
        "    if np.argmin(val_log[:epoch + 1]) == epoch:\n",
        "      torch.save(model.state_dict(), f'{model_path}{epoch}.pt')\n",
        "\n",
        "    elif np.argmin(val_log[:epoch + 1]) <= epoch - patience:\n",
        "      print('early stop')\n",
        "      break\n"
      ]
    },
    {
      "cell_type": "code",
      "source": [
        "def"
      ],
      "metadata": {
        "id": "52NW6Nb38hjN",
        "colab": {
          "base_uri": "https://localhost:8080/",
          "height": 110
        },
        "outputId": "d908efca-f7e3-4b2d-c8a0-3927b2fd3875"
      },
      "execution_count": null,
      "outputs": [
        {
          "output_type": "error",
          "ename": "SyntaxError",
          "evalue": "invalid syntax (<ipython-input-39-7b18d017f89f>, line 1)",
          "traceback": [
            "\u001b[0;36m  File \u001b[0;32m\"<ipython-input-39-7b18d017f89f>\"\u001b[0;36m, line \u001b[0;32m1\u001b[0m\n\u001b[0;31m    def\u001b[0m\n\u001b[0m       ^\u001b[0m\n\u001b[0;31mSyntaxError\u001b[0m\u001b[0;31m:\u001b[0m invalid syntax\n"
          ]
        }
      ]
    },
    {
      "cell_type": "markdown",
      "source": [
        "### 평가"
      ],
      "metadata": {
        "id": "VWtW0KMnCzot"
      }
    },
    {
      "cell_type": "code",
      "source": [
        "model_path = '/content/drive/MyDrive/Colab Notebooks/crnn_example/aug45.pt'\n",
        "# model_path = '/content/drive/MyDrive/Colab Notebooks/15.pt'\n",
        "\n",
        "model = CRNN(99, 256).to(device)\n",
        "model.load_state_dict(torch.load(model_path))\n",
        "\n",
        "criterion = nn.CTCLoss()"
      ],
      "metadata": {
        "id": "wG9edmFh8hQ-"
      },
      "execution_count": null,
      "outputs": []
    },
    {
      "cell_type": "code",
      "source": [
        "with torch.no_grad():\n",
        "  model.eval()\n",
        "\n",
        "  correct_predictions, total_predictions = 0, 0\n",
        "  eval_preds = []\n",
        "  for images, labels in tqdm(val_loader, desc = f\"final eval\"):\n",
        "    images = images.to(device)\n",
        "\n",
        "    outputs = model(images)\n",
        "    outputs = F.log_softmax(outputs, 2)\n",
        "\n",
        "    preds = outputs.argmax(2)\n",
        "    preds = preds.permute(1, 0)\n",
        "\n",
        "    decodes = decode_batch(preds.cpu().numpy(), tokenizer_reverse)\n",
        "    for i in range(len(decodes)):\n",
        "      if ''.join(decodes[i]) == labels[i]:\n",
        "        correct_predictions += 1\n",
        "      total_predictions += 1\n",
        "      eval_preds.append(''.join(decodes[i]))\n",
        "\n",
        "val_accuracy = correct_predictions / total_predictions\n",
        "print(f'Validation set Accuracy : {val_accuracy*100:.2f}')"
      ],
      "metadata": {
        "id": "AI9-EVaVCyok",
        "colab": {
          "base_uri": "https://localhost:8080/"
        },
        "outputId": "541b38f2-1833-4442-b1b2-1a1ea8c48729"
      },
      "execution_count": null,
      "outputs": [
        {
          "output_type": "stream",
          "name": "stderr",
          "text": [
            "final eval: 100%|██████████| 79/79 [00:05<00:00, 15.57it/s]"
          ]
        },
        {
          "output_type": "stream",
          "name": "stdout",
          "text": [
            "Validation set Accuracy : 92.95\n"
          ]
        },
        {
          "output_type": "stream",
          "name": "stderr",
          "text": [
            "\n"
          ]
        }
      ]
    },
    {
      "cell_type": "code",
      "source": [
        "print(eval_preds)"
      ],
      "metadata": {
        "id": "_WPJpTEXDdlr",
        "colab": {
          "base_uri": "https://localhost:8080/"
        },
        "outputId": "219fc245-c4c8-4f4e-feaa-5c04b9bcb386"
      },
      "execution_count": null,
      "outputs": [
        {
          "output_type": "stream",
          "name": "stdout",
          "text": [
            "['01가3733', '01가0598', '01거0608', '01고8109', '08구8385', '01너0665', '01노5511', '01다1275', '01머7076', '01도8490', '01도9251', '01두1316', '01두8564', '01라8128', '01러3672', '01로1282', '01로5378', '01루0999', '01루0999', '01마3235', '01마8037', '01모3121', '01모3154', '01모3154', '01무0607', '01무4621', '01보9398', '01보9445', '51보4353', '01수2431', '01수7052', '01수7052', '01어2461', '01우6981', '01우9493', '01우9493', '01저0754', '01조0261', '01주6939', '01주6939', '01주6939', '01하1096', '01허7049', '02거2362', '02거3803', '02고7956', '02고8360', '02나0948', '02나5269', '02너0512', '02노0270', '08수3454', '02누1781', '02누5790', '02더4137', '02두0820', '02두0820', '02라3170', '02라3170', '02라3170', '02라3170', '02라3170', '02라3170', '02라4201', '02라8214', '02로6470', '06노8771', '02마9543', '02모5433', '02무8772', '02버1855', '02보0665', '02보7765', '02부6807', '02부7482', '02부9180', '02소1888', '02수8090', '02수8559', '02어5556', '92라9212', '02오8951', '02오8951', '03마5884', '02주0141', '02주2593', '02어9354', '02호8290', '03가7827', '03거6147', '03저6164', '03거7000', '07머7178', '03고7197', '03나5162', '03나5266', '03노1931', '03누1863', '03나0438', '03더8785', '03도2981', '03라7153', '03루9092', '03마2465', '03마7893', '08구8060', '03보5901', '08오8042', '03보8365', '03수3662', '03우2370', '03우5047', '03우5105', '03조0167', '03조0580', '03조0580', '03조6689', '03조6689', '03주1350', '03주1596', '03하6196', '04가7190', '04가7190', '02마6096', '04너8917', '04노0957', '04누0839', '04도1092', '04도5141', '04도7601', '04오8597', '04루1838', '04로3494', '04루3284', '04마9613', '04모2569', '04모5340', '04보4241', '04보4583', '04소1090', '04보2836', '04소3635', '04수5151', '04수6858', '04어5405', '04어5405', '04오0292', '04오0870', '04오1434', '04오7654', '04우0143', '04우0255', '08서2380', '04저3756', '04저3762', '04주3663', '04주9255', '04호5551', '04우8497', '05가0957', '05거5458', '05고4361', '05고5778', '05구4971', '05나0277', '05나2175', '45더2176', '05누7454', '05누8302', '85누9787', '05더1638', '05더4721', '05더5235', '03오6901', '05두1146', '05라3044', '08구4467', '05모6753', '05무1255', '15로1301', '05부7313', '05서0249', '05서7539', '05서7657', '05수6960', '05수6960', '05어5314', '081255', '2라2129', '95조2354', '05주8058', '05호0905', '06거6646', '02수3413', '06고6589', '06고9674', '06노0657', '06노4412', '06노7909', '06누2956', '08가2104', '02노7852', '06다9623', '06더2607', '06두2336', '06러3640', '06루1904', '06마6358', '06마7019', '06머0809', '06모5450', '06무7797', '06무7797', '06버2350', '06버2350', '06버2350', '06버2350', '06서2528', '06서337', '06소4234', '06소5235', '06소6736', '06수8276', '06어5465', '02어299', '06오2295', '09오2373', '92오2978', '06오4423', '06저0546', '06저1671', '06저6428', '06저9438', '06저9438', '06하3073', '06호2867', '06호2867', '07가3018', '07가3018', '07가7776', '07가7776', '07가7776', '07고3904', '07고5693', '07고5693', '07고5693', '07고6446', '07노3608', '07누0989', '28라2316', '07누3743', '07누4569', '07누6067', '07누6112', '07누6112', '07누6327', '02다0741', '08누4832', '02너845', '07더3688', '07도6940', '07두3374', '05두4208', '07도5965', '02누9569', '87서6096', '04보7264', '07마0392', '07마0925', '07마1454', '07마8053', '07머1055', '07모0592', '07모6715', '07무0316', '07무0316', '07부1159', '07부1354', '07부2722', '07부8629', '07서8484', '07소0494', '07소0626', '07소9184', '07소9534', '07오3422', '07오6025', '07저2545', '07호6038', '08가5118', '08가5118', '08고8278', '08고8824', '08구0350', '08구5402', '08노2842', '08누4643', '08누8188', '08도2677', '08도6214', '08두7417', '08라7757', '08라7757', '08라9097', '08러0238', '08러8242', '08로9502', '08루0105', '08마2758', '08마4907', '08머0494', '08머7918', '08모0239', '08버4030', '08버5457', '08버5457', '08보0138', '08보0194', '08보0630', '08부0799', '08부5005', '08수0291', '08수2899', '08수7557', '08수8442', '88우0986', '08우4653', '08저3928', '08저3954', '08조6133', '08주4470', '08허1821', '08호6004', '08호7456', '02거2781', '09고9057', '09고9288', '09고9330', '09고9357', '09구5750', '09구5750', '09구5750', '09너0975', '57너1716', '09도3068', '09라6775', '09러3520', '09루7554', '09루9815', '09마0499', '09머5333', '09모3376', '09모3388', '09모3580', '09모7412', '09무0348', '09무0881', '09무2127', '09무4981', '09부2038', '09서6968', '09저8895', '09조789', '09소8518', '09조0822', '09조2474', '09조3053', '09조6643', '09주2977', '09주4096', '09주9726', '09하5815', '09하6299', '09허0550', '09호0129', '100모6463', '100머8014', '100조8340', '101너6804', '101노3524', '101노3529', '101소2594', '101서9222', '101하3402', '101하3403', '101하3487', '101하4024', '101호1615', '102고7972', '103라5312', '103오2262', '104누2605', '104다8219', '104나8270', '104러5351', '104로9909', '104거3489', '104하5328', '104허1155', '104허5847', '104허7593', '104허9895', '104허9895', '105너8425', '105너8454', '105너8492', '105러2877', '105하8503', '106가4151', '106거7360', '107거3896', '107거3896', '107버7017', '107버7017', '107버7023', '107머7027', '108누9936', '1088506', '109다5085', '109마5041', '109버9436', '109주6733', '109하1213', '10나2770', '10나6987', '10너8473', '10다9429', '10더6268', '10도3402', '10두4878', '10두9023', '10라6519', '10라4643', '10라6666', '10로4550', '10마8551', '10머9374', '10모3023', '10모4437', '10모7892', '10무6936', '10버2888', '10보2112', '10보2983', '10부3137', '10소8041', '10수3495', '10호2532', '10오4654', '10오5011', '10우1475', '10무6808', '10조3513', '10조3939', '110다5860', '111고3233', '111고3233', '111두8767', '111두8767', '111소1018', '111소1018', '112가8366', '112나2103', '112나6209', '112너1251', '112다5952', '112머904', '112머9054', '113로1202', '113로8571', '114서526', '113서5906', '113서5906', '114고4977', '114버7823', '114소7476', '114소7476', '114소7476', '115고6506', '115고6545', '115라2240', '115하9433', '115호1132', '116가6644', '116무3988', '116저5470', '11가2403', '11가6209', '11거7493', '11고3208', '11고5461', '11구0328', '11구8920', '11나8903', '11너0483', '11너0799', '11너2401', '11너9512', '11노5101', '11더53460', '11다6462', '11다8399', '11더0210', '11더0308', '11다063', '11도1412', '11두3509', '11두4573', '11두9723', '11두9723', '11두9723', '11로3081', '11로9207', '11루1635', '11마1926', '11마2916', '11마2916', '11머0890', '11머2297', '11머2574', '11머2659', '11머2933', '11머7450', '11모1687', '11모5263', '11모6738', '11부2457', '11보1604', '11보9433', '11부2195', '11부3402', '11서0650', '11서5492', '11서8047', '11조6389', '11소6578', '11소6578', '11소6705', '11소6705', '11소6942', '11소6954', '11소7634', '11소8887', '11수0954', '11수8690', '11수8763', '11어5137', '11어5203', '11오6620', '11오7891', '11오9442', '11우4574', '11저1120', '11저1325', '11저5891', '11조7449', '11조9528', '11주5816', '11주5816', '11주5861', '11주5861', '122하1081', '122하2437', '122호3027', '123거4012', '123루5150', '12보9776', '123모976', '123부1277', '123부1277', '124더4948', '125구4796', '126라8715', '126라8776', '126모8919', '126주1022', '127더4088', '127머8199', '127오4888', '127우8730', '128너1296', '128도8988', '128루6842', '128부7601', '128저2152', '128하1043', '128하1230', '128하1230', '128허3653', '128하3767', '128하4583', '12서662', '128허5766', '128허6121', '128하6856', '12모7293', '128호5324', '128호6512', '128호7619', '128호7845', '129루2785', '29수7406', '129수7497', '12가5535', '12가6538', '12고6275', '12구7336', '12나2822', '12나7912', '12너0700', '12너3588', '12노4068', '12누4453', '12누8920', '12두7381', '12두7835', '12라8833', '12러5086', '12어6813', '12루7324', '12루9209', '12루9424', '12마2956', '12마3629', '12마4698', '12마6838', '12마6838', '12머4317', '12모1459', '12모1459', '12모7510', '12무4147', '12루5113', '12무6231', '12버7245', '12보9197', '12부1824', '12부2084', '12부3988', '12서1131', '12서1131', '12서1131', '12서8652', '12소5725', '12소6823', '12소9424', '12수6062', '12어2367', '12어2367', '12어9938', '12오0727', '12오0900', '12우4830', '12우6238', '12우6326', '12우6599', '12저3140', '12조4612', '12조4612', '12조4741', '12주7487', '12수9457', '12우7750', '130다4267', '130두4811', '130수5037', '130수5037', '133하7652', '134두6326', '1346014', '136두9607', '136두9607', '136어8107', '136어8109', '136저9388', '137가2684', '137머5098', '137머5098', '137서6071', '137조2866', '138마2515', '139루4274', '13거6058', '13고0279', '13서6728', '13고6950', '13구3793', '13구5095', '13나4449', '13누4172', '13누9533', '13더7583', '13더9113', '13도5699', '13도5699', '13두8726', '13두8726', '13두9550', '13두9650', '13라3181', '13라9944', '13라9944', '13러3431', '13러5436', '13로3982', '13루4836', '13어6115', '13머6310', '13머6871', '13머7652', '13나0174', '13보4841', '13무0169', '13부3049', '13무9151', '13버2025', '13보1668', '13서8092', '13서8367', '13소4748', '13소8129', '13수7021', '13어1632', '13오9588', '13우2888', '13우2888', '13우2888', '13우4458', '13우4745', '13저5372', '13저5607', '13저9337', '13주5145', '13주7950', '13호7665', '140하1970', '140하3141', '140하6555', '140호5848', '141무2904', '141무2966', '441버3791', '141버3791', '141버3791', '141주1919', '143모5725', '143저7883', '143조1256', '143조1256', '145하1327', '145하1937', '145하2509', '145하3839', '145하5203', '145하6007', '145허4960', '145허5354', '145허6729', '145허7908', '145호2120', '145호2287', '145호2526', '145호6704', '145호9437', '146러6285', '146무4709', '146무4759', '146오5507', '146주8369', '146호6643', '147두4205', '147두3154', '147두3174', '147두3194', '148도3299', '148로4387', '148서9185', '148어2426', '148주6851', '149가2561', '14너3746', '149라9513', '149모6554', '149모6554', '149수5886', '149루3568', '149조1895', '149호3039', '14가1043', '14너5207', '14노3665', '34누4193', '14다2619', '14다8465', '14다9236', '14도4166', '14도3343', '14도4369', '44오9376', '14어3026', '14라9196', '14라9196', '14러3765', '14러8505', '14러8505', '14로1314', '14로8080', '14로9150', '14모3979', '14보0729', '14보3342', '14보8268', '14부6882', '14서7299', '14소0207', '14수0972', '14어6636', '14어6767', '14어6895', '14우1866', '14우8152', '14저7866', '14주6125', '14주9880', '14허5987', '14허6265', '14머6808', '14허9138', '150하1202', '150하1202', '150하1202', '150하1679', '150하5398', '150하7694', '150하9783', '150허1655', '150허3860', '150허4950', '150허6384', '150허7600', '150호6732', '150호9689', '150호9856', '151머2582', '151부8485', '152거4885', '152호5590', '152호6278', '153허2223', '153호2052', '154고8961', '154누8435', '154누8435', '14누8464', '155너7888', '156219', '155허6489', '156로6144', '157가5106', '157너7884', '157서4262', '157허3580', '157허1304', '158두8080', '158다4061', '158소1770', '158우3814', '159루5183', '159루5183', '159루5183', '159루5183', '159무2212', '159어3225', '159조2095', '159하7645', '159어1377', '159호1538', '49하1849', '159호5827', '159호5827', '159호5827', '159호5827', '159호5827', '5가4111', '15부3477', '15거5852', '15고5316', '15고6712', '15고6731', '15나0402', '15나2256', '15나2842', '18나6288', '15너8492', '15노2176', '15노5066', '15노5275', '15노5785', '15노9226', '15누4770', '15다0281', '15다0578', '15도3545', '15도8208', '15도8745', '15라0303', '15라0793', '15라1090', '15러5632', '15루5355', '15마1651', '15마4063', '15머3508', '15머5436', '15모0886', '15모2576', '15모4387', '15버0302', '15버6862', '15버7829', '15무2961', '15부4411', '15부5695', '15부8516', '15부9451', '15서1332', '15서1464', '15서2670', '15소3879', '15우3203', '15어5464', '15어5464', '15어5464', '15어5464', '15오4859', '15오5103', '15저4310', '15저9657', '15조6135', '15조7506', '15조7521', '15조7746', '15조7884', '15주6074', '15주7380', '15허2701', '15허3809', '160보9481', '161더9773', '161라2234', '161저9435', '162서1169', '162허2510', '162허3873', '162허3873', '162어3906', '162어9143', '163어3112', '163호1753', '163호4225', '165두9695', '165모1631', '165모1631', '165오1631', '166너3114', '166너3798', '166하7915', '166호2275', '167더8177', '167두9666', '167소5917', '167우4662', '167저6160', '167허265', '167허7534', '167하7543', '167호3734', '167호5714', '168누6847', '168버8634', '169두7958', '169버7024', '169서7635', '169어5662', '16가3223', '16가5201', '16가7087', '16거3082', '16고4531', '16어651', '16구5638', '16구5757', '16구5757', '16구6284', '16노0212', '16노0283', '16노7137', '16누7440', '16더5324', '16더5635', '16두5482', '16두7317', '16라0577', '16라0930', '16라6546', '16무6663', '16라6751', '16가8164', '16로9229', '16마2392', '16마9882', '16머0147', '16머1503', '16머7102', '16머7121', '16머9481', '16머9851', '16모1011', '16모1301', '16모1301', '16모1636', '16모1636', '16모2424', '16모2424', '16보7201', '16부2013', '16부7624', '16서8582', '16서9772', '16소3570', '16소779', '16소7903', '16수4601', '16수7388', '16머5163', '16오2047', '16오2201', '16오2605', '16우3463', '16우5240', '16우6114', '16육2331', '16저6644', '16저8083', '66저8394', '16조6701', '16주2265', '16두5358', '16주9366', '16마9887', '16마9887', '16무88', '170보8694', '170하4085', '170하4085', '170하4085', '171우4736', '171저7717', '171저7775', '171저7775', '172구8030', '172다9137', '172다9177', '172루3519', '172우3028', '172저9369', '173노3520', '173노3520', '173노3558', '173누1904', '173누1904', '173버7890', '173우6314', '173호6485', '174러5464', '175두2317', '175두2365', '175마9782', '175주8400', '178수8441', '175주8441', '176노4302', '176노4312', '176다8304', '178더5868', '18어2965', '178오5588', '178서6272', '178하1784', '178하2779', '178하6376', '178하8584', '178하8734', '178허1029', '178허1972', '178허2205', '178오2514', '178호4234', '179가2610', '179구7183', '179구7199', '179너5324', '179노8428', '179두1407', '179루9947', '179버7907', '179보2115', '179오4708', '179주9133', '17가9373', '17거3985', '17거5690', '17거8091', '17고6164', '17구8827', '17나2364', '17나9786', '17노2334', '17누2062', '17누2062', '17누2062', '17누7660', '17다3855', '17다5744', '03나5793', '17다9913', '17더0790', '17더5316', '17더5966', '17더6833', '17도0893', '17도2867', '17두2466', '17라0797', '17러0257', '17로5212', '17로5549', '17허5837', '17마7903', '17머0842', '17머0842', '17머6443', '17머8607', '17모1531', '77모2409', '17오6635', '17무5045', '17무5265', '17버7723', '17보7169', '17부0613', '17부0838', '17부8641', '17부8818', '17서2631', '17서5594', '17서6068', '17소6941', '17소9483', '17수2682', '17수3046', '17수3266', '17수7435', '17수7435', '17오2275', '17오2275', '17오2422', '17우1374', '17우3579', '17우5220', '17우5220', '17우5614', '17조1096', '17조1228', '17주4055', '17주4358', '17주4358', '17주4826', '17허0793', '17호2273', '17호2273', '180도6457', '180주6790', '181가8365', '182오6434', '182저2927', '182아5513', '182하5555', '183도8167', '18가2642', '185저6215', '18가1079', '18가5063', '18가9739', '18구6068', '18구6455', '18구6455', '18구6455', '18나8187', '18나8302', '18나8439', '18나8684', '18노0746', '18노1032', '18노2603', '18노4007', '18노9488', '18다8005', '18다8315', '16나0550', '18다8839', '18나8839', '18마1800', '18더3244', '18더5078', '18더5078', '18더5595', '18더5674', '18더5674', '18더5822', '18더7467', '18더7467', '18너9649', '18도2705', '18도9042', '18도9583', '18도9851', '18두3090', '18두3108', '18두3374', '18두4103', '18라0123', '18라3417', '18라9713', '18로0676', '18로8801', '18루6833', '18루6833', '18마0673', '18마7370', '18머6513', '18모5715', '18부5037', '18무5246', '18무5426', '18부5529', '18버6700', '18버6700', '18버9095', '18버9095', '18버9095', '18버9095', '18버9095', '18보5579', '18보5688', '18부6626', '18서2040', '18서6537', '18서7096', '18소3219', '18소7797', '18수1834', '18어0103', '18어0345', '18어6183', '18어6252', '18어6373', '18머6513', '18오0746', '18오0905', '18오2785', '18우5493', '18무5544', '18우5588', '18우9046', '18우9046', '18저1253', '18저1486', '18저1649', '18저4130', '18저7748', '18조1197', '18조4654', '18주1609', '18주6471', '18주6471', '18하1065', '18하3306', '18하6294', '18호4982', '18호4982', '18호6127', '18호6127', '18호6963', '19가2673', '19가5497', '19거1032', '19거1552', '19거8630', '19거8736', '19구4128', '19구4219', '19구6508', '19너3343', '19노0141', '19노7043', '19노8317', '19다9085', '19더6987', '19도2051', '19도3858', '19두3117', '19두3313', '19두3492', '19두3592', '19두6906', '19두9212', '19라1492', '11머1562', '19라1642', '19라1732', '19러1998', '19러1998', '19도3952', '19로8121', '19로8720', '19루8460', '19루8460', '19루8460', '19루8655', '19호8968', '19무5275', '19루5405', '19무5948', '19무6394', '19머0178', '19버0398', '19버0972', '19보4142', '19보9398', '19부2777', '19부7587', '19서3025', '19서3240', '19소8736', '19수2153', '19수9635', '19어3709', '19어3709', '19오1307', '19오1307', '19오1307', '19우5663', '19우7177', '19우8552', '19우8870', '19우9216', '19우9216', '19조7261', '19조7261', '19주3190', '19주3190', '19주9569', '19허4927', '19허5668', '19허6340', '19허6573', '19어8375', '19어8375', '20가5436', '20가5739', '20고4362', '20고6465', '20고7195', '20고944', '20구1526', '20구7942', '20나7513', '20나8091', '20나8827', '20너0779', '20너0779', '20너1351', '20노4562', '20노4562', '20노5938', '20노7583', '20누9715', '20다8097', '20다9579', '20더0575', '20더1172', '20도0588', '20도2537', '20라0181', '20라0181', '20라0470', '20라0507', '20라0599', '20러3392', '20러8981', '20러9713', '20루1665', '20로6208', '20마9190', '20머1323', '20머1655', '20머1719', '20머6456', '20모0849', '20모0849', '20모6285', '20호6308', '20무7005', '20무7125', '20무7444', '20부4370', '20버5628', '20서0791', '20서2171', '20소9195', '20수0972', '20수5942', '20수8764', '20어2305', '20어2698', '20어3020', '20어8177', '20어9470', '28로4221', '20저0230', '20주1331', '20주4194', '20주8914', '20주8914', '20하0721', '20하0860', '20하6639', '20호0262', '20오0301', '20호0302', '20호1360', '20호4035', '20호6076', '21가0838', '21가3472', '21가3472', '21가3472', '21가8374', '21거0793', '21거4438', '21고2054', '21고8917', '21고8917', '21구0708', '21구0249', '21구3919', '21구7980', '21구7980', '21나1477', '21너9306', '21너0360', '21너0629', '21너1751', '21누1234', '21누4343', '21다4604', '21다4604', '21도0142', '21조9906', '21두0881', '21라0134', '21라6553', '91라9332', '21러0188', '21로1564', '21로2234', '21로4046', '21로9527', '21로9543', '21루1696', '21루5338', '21루6706', '21루8347', '21머2573', '21머2573', '21머3312', '21머6279', '21모2250', '21무1810', '21무6423', '21버4313', '21보6328', '21무9307', '21부1885', '21부9065', '21서2383', '21서5201', '21소8610', '21수6736', '21어0944', '21어7657', '21오6405', '21모8824', '21우7437', '21저4529', '21조3116', '21주7323', '21하5680', '21하261', '21하7221', '21하9713', '21호1892', '21호3046', '21호4833', '21호6833', '222너6837', '222다9766', '222머8829', '222어3032', '223모7950', '223오1305', '224나5306', '224루9838', '226마4936', '227거8065', '227거8065', '227서5835', '28거3160', '28거3160', '228러6852', '228수6408', '229루8251', '22가1520', '22거2983', '22고2573', '22서8354', '22고8691', '22구4392', '22구4392', '22너316', '22너6767', '22너7185', '22너7819', '22너9172', '22너9617', '22노1583', '22노1583', '22노1583', '22노1583', '22노1583', '22노1583', '22노1583', '22노1583', '22노1583', '22노9507', '22노9986', '22누455', '22누5028', '22누5028', '22누5028', '22누8174', '22다0824', '22다2597', '22다2710', '22다2769', '22다9536', '22나9536', '22더3297', '22더9252', '22더922', '22더9925', '22도0308', '22도1831', '22도8463', '22라7881', '22러3964', '22러3964', '22러3964', '22러3964', '22로0949', '22로0949', '22로0949', '22로0949', '22로5519', '22무7434', '22로7434', '22로8116', '22로8116', '22루3620', '22루3685', '22루8132', '22루8401', '22루8677', '22마5423', '22머9993', '22무6476', '22버4395', '22버6037', '22너1394', '22부2039', '22부4955', '22수1931', '22수5059', '22어5787', '22어5898', '22오6327', '22오9807', '22무3117', '22가4693', '22우4697', '22우6813', '22우8910', '22저4428', '22저4628', '22조1693', '22하1056', '22호1687', '22하2399', '230머2306', '230어2347', '231조8312', '231조8377', '231주9889', '232러3567', '232러3575', '232저1965', '232주8262', '232주8262', '2335666', '231조8315', '234누6672', '234어4721', '234어4773', '234어4781', '234어4799', '235무2948', '235어3851', '235오3753', '263버7723', '237수3146', '238거8823', '238두4648', '239누1704', '239누1704', '239러9299', '239러9299', '239러9298', '239러9299', '239버6130', '23가0188', '23거7543', '23고4325', '23고5553', '23구0301', '23구0382', '23구0464', '23구1179', '23구2464', '23나3022', '23너8100', '23너8100', '23너8697', '23노0304', '23노0504', '23노0524', '23노0524', '23도0569', '23노0717', '23노0863', '23누7040', '23다5601', '23나8500', '23다8526', '23더4115', '23두2394', '23두7333', '23두9176', '23두9620', '23두9888', '23로0213', '23로2439', '23로9138', '23루1453', '23루7358', '23루8252', '23머0806', '23머6843', '23머8985', '23모3564', '23모4201', '23오4250', '23보4637', '23모4674', '23모5026', '23무6129', '93버5692', '23부9110', '23소5106', '23수0832', '23수2959', '23오5230', '23우2212', '23우3766', '25조3547', '23호6335', '241노1045', '241라2072', '242버2057', '242어3099', '243소8929', '244보4329', '244조9114', '247도5500', '247모7951', '247모7968', '248너6828', '248노6785', '248루5822', '248마5762', '248마5769', '248어5785', '248마5762', '248오2954', '249버6913', '249버6929', '249버6929', '249버6929', '249버6929', '249버6929', '249버6929', '249버6935', '249버6939', '249버6939', '249버6963', '249버6963', '249부9994', '24가5602', '24가5602', '24가5602', '24가6874', '24가6997', '24거4035', '24거4035', '24거8991', '24고2255', '24고2255', '24고2255', '24고2255', '24고2255', '24고2255', '24고2255', '24저2789', '24고3989', '24고5565', '24고6543', '24구3327', '24구7117', '24나4189', '24너0953', '24너5984', '24너6023', '24너6778', '24누7147', '24누7940', '24다2802', '24다3059', '24더3868', '24더9861', '24도9576', '24두5907', '24라9845', '24로6482', '24로6524', '24루2887', '24루5064', '24루5398', '24마2054', '24부2624', '24머6837', '24머6903', '24모8546', '24모8886', '24무0678', '24무6697', '24보2677', '44보2677', '24보2677', '24보2677', '24보2709', '24서8598', '24소0983', '24소3747', '24소6697', '24소6697', '24수5118', '24수6989', '24어5155', '24어6706', '24머6842', '24어7129', '24호0380', '24우1842', '24루7531', '24하1059', '24하9155', '24호1727', '24호2428', '24호2428', '24호5150', '24호5165', '24호5185', '24호6022', '24호6327', '251구6237', '251루6656', '251모4784', '251버3609', '251버3640', '251버3693', '252마8119', '252무6220', '253구2945', '253너6879', '25노1036', '253머1506', '253모9515', '254도3823', '265버6111', '255고6308', '255어9550', '255우2888', '257노3302', '257노3323', '257노3346', '257누8938', '257로9060', '257보3489', '257조9997', '257주2412', '257주2440', '257주2440', '258나1615', '258다1674', '258더7947', '258로5174', '259더3976', '25거7773', '25가8174', '25거0404', '25가1134', '25가1763', '25거3306', '25거4788', '25거8251', '25고7396', '25고7541', '25고7587', '25구0708', '25구1190', '25나8182', '25나9722', '25너6476', '25노1083', '25노1218', '25노1279', '25노1745', '25노2268', '25누7514', '25누7520', '25다0553', '25다3999', '25다5639', '25더0567', '25더2978', '25더8261', '25도0294', '25도0988', '25도1379', '25도2241', '25도6306', '25도9366', '25도9627', '25도9956', '25두3135', '25라2055', '25라9961', '25어6114', '25로6906', '25루2567', '25라0322', '25마0153', '25마6355', '25머7903', '25머9394', '25머9803', '25모1578', '25조5000', '25무1548', '25버6934', '25보6604', '25보6604', '25보8915', '25부5044', '25부5044', '25부5044', '25서2634', '25서2957', '25서4446', '25서6901', '25서9580', '25서9872', '25수6712', '25어0330', '25어5903', '25오2448', '25오2837', '25모7790', '25우3299', '25저0172', '25저0388', '25저9170', '25주6420', '25주6905', '25호5000', '260누5810', '262가48118', '262더3964', '262루8205', '263버4587', '263버7758', '264너5259', '265두2170', '265두2170', '265버6111', '265버6111', '266무7044', '266무7044', '266저7656', '266저7656', '267다8957', '267도4755', '268수8883', '269무7061', '269두7088', '269라2066', '269로2610', '269마8115', '26가1133', '26가363', '26고9622', '26고9622', '26구0791', '26나9859', '26너2150', '26너5208', '26노0840', '26다2935', '26다2935', '26다2935', '26더2842', '26도1342', '26도6231', '26도6352', '26도9561', '26두0866', '26러1813', '26모2564', '26마4481', '26머0411', '26모4339', '26모4595', '26무6327', '26보4494', '26보5457', '26보7012', '26보9288', '26서6355', '26서8320', '26소1124', '26수1041', '26수1041', '26수4634', '26수7557', '26어0687', '26어1659', '26어9692', '26오0174', '26오9945', '26우0228', '26우2324', '26우2819', '26우2823', '26우3203', '26우2619', '26우7127', '26우9444', '26저1541', '26저2946', '26서2962', '26저3283', '26저8670', '26주9110', '26마7536', '270머8014', '273너9201', '273너9201', '273너9201', '273너9253', '276거9657', '276고5582', '276누5880', '276누5890', '276저6049', '276주2510', '276수2510', '277다3214', '27거9135', '27거9611', '27저4235', '27고8800', '27구1237', '27나3408', '27노6339', '27노6353', '27노8275', '27누1176', '27누3616', '27누3616', '27누3762', '27누3762', '27더2249', '27도3756', '27도7037', '27두0558', '27두3964', '27두3964', '27라5199', '27로1825', '27로2014', '27로2381', '27호2419', '27로2909', '27모2993', '27로2993', '27로3899', '27로3899', '27로8827', '27로8889', '27루0267', '02오3387', '27부0101', '27보0394', '27보0394', '27보0521', '27보0795', '27부2171', '27부4092', '27부8337', '27부9134', '27서5433', '27서7842', '27서9382', '27소0282', '27수321', '27수3481', '27수6155', '277773', '27어1778', '27어8224', '27오3921', '27저3571', '27저6672', '27저6779', '27조4383', '27수5408', '280로1803', '280로1824', '280로1855', '280배1855', '280서5060', '280서5061', '280서5072', '281너1963', '281라3634', '282마4916', '282마4916', '282마4989', '282부8359', '282소4920', '282소4920', '282소4920', '282소4920', '282소4920', '282소4956', '282주8202', '283가4984', '283구3784', '283버5339', '283버5375', '283오7892', '283수9914', '284소2671', '285더8873', '285두2115', '286두3731', '286루5071', '286355', '289거480', '28거2677', '28고0146', '28고0376', '35거8372', '28구6526', '28나0835', '28나0835', '28나2989', '28나4672', '28나4806', '28나7583', '28나9494', '28너6806', '28너6966', '28너6980', '28너7192', '28너9166', '28노2907', '28누5780', '28더0828', '28더6000', '28더6931', '28더8722', '28도0139', '28도3376', '28도7789', '28도9865', '28도9865', '28주16', '28두8819', '28두9093', '28라1253', '28라8883', '28러0331', '28러1906', '28로2165', '28로3843', '28루5627', '28루1406', '28루3057', '28루5772', '28루8888', '28마2380', '28마4256', '28마6229', '28마9945', '28머2950', '28머7915', '28모0298', '28모6887', '28무3069', '28무7730', '28무7915', '28무7915', '28무7915', '28무7915', '28무7919', '28보0927', '28보7656', '28서0108', '28서0109', '28서0271', '28서0777', '28서6180', '28소2906', '28소8993', '28수6098', '28어6441', '28어7219', '28오3365', '28우2657', '28우3592', '28우4030', '28우7076', '28저5038', '28조3593', '28조8033', '28주3614', '28주3614', '28주6792', '28가6296', '28주8899', '28호1240', '28호2908', '28호6509', '28호7005', '28호9465', '290로3410', '291서9824', '292서5031', '292서5031', '292서5031', '292서5031', '292서5031', '292서9051', '292서9051', '226조688', '293더3185', '294구4603', '294구7026', '294루3363', '299오2931', '29가0136', '29가0450', '29거3061', '29거9073', '29거9073', '29거9307', '29나4057', '29너0696', '29너8472', '29노4008', '29노4909', '29노7021', '29노7418', '29누0223', '29누0636', '29다2044', '29다8354', '29다8354', '29도2315', '29도2762', '29두2762', '29도3084', '29도4012', '29도7061', '29도7061', '29도7780', '29두9092', '29두9691', '29라1118', '29라4250', '29러9166', '29러9945', '29로7524', '29마0683', '29마0871', '29마0871', '29오5140', '29머6749', '29모4421', '29모4469', '29두6212', '29버3202', '29서0306', '29서1026', '29서2034', '29서8247', '29소5662', '29소6853', '29수3850', '29수6012', '29소6187', '293690', '29오0408', '29오3732', '29오5955', '29오6621', '29오8673', '29서2110', '29저8935', '29저9176', '29저9392', '29조0837', '29조0837', '29조0837', '29조2508', '29조2612', '29조3017', '29조5611', '29조6284', '29주9468', '29호0697', '29호1762', '29호2731', '29호5014', '29호7217', '30모9737', '300두4673', '32주9846', '305무2106', '306로9104', '306루6602', '306우5321', '308구1324', '308구1324', '308구1389', '308조3428', '309다9797', '309로7550', '30가2930', '30가6477', '30구6154', '30구0287', '30구0417', '30구7217', '30구8889', '30나5575', '30너1131', '30노1715', '30노8482', '30노9858', '30누0120', '30누7459', '93모3706', '30도4521', '30도7093', '30도7532', '30도7858', '30두3718', '30주4751', '30두4751', '30루639', '30두8899', '30두8899', '30로0768', '30로1896', '30로1945', '30루4719', '30루4719', '30부6177', '30마1894', '30머1256', '30머1510', '30머4154', '30모1423', '30다9292', '30로9737', '30무088', '30루3171', '30보0560', '30보7925', '30보8018', '30보8319', '30보8762', '30보8914', '30보8914', '30부3918', '30서7694', '30소3576', '30소3576', '30소3618', '30소3726', '30소7241', '30소7241', '30나7243', '30수3905', '30어2845', '30어9284', '30호1158', '30오1325', '30오8210', '30오9368', '30우7686', '30저4324', '30저5266', '30조6066', '30주5077', '30하0569', '34고289', '311무1310', '311보6802', '311소8159', '312나3657', '312나5385', '312나7764', '312수4840', '312어3863', '33너11357', '313너1175', '313다8965', '313보6807', '314소1681', '314오3721', '314오3727', '314오3749', '315거1519', '316가1634', '316모7162', '319나7761', '319모3039', '319모3039', '319조2611', '319조2611', '31거1419', '31거3734', '31고7009', '31고9342', '31고9342', '31구0275', '31구5154', '31나0659', '31나2748', '31나4521', '31나7988', '31너0505', '31나3677', '31다2536', '31도3768', '31도8104', '31두1219', '31로0451', '31로5099', '31로5418', '31루0168', '31루7295', '31마3223', '31모2528', '31모2941', '31무7563', '31보3071', '31보7806', '31부2162', '31부222', '31부2237', '31부2282', '31부2941', '31부7265', '31부7511', '31저6008', '31소1425', '31소1640', '31수4106', '31어2220', '31어2623', '31어9098', '31어9098', '31우5453', '31우6252', '31저1773', '31조1722', '31주3583', '31하8126', '328누9147', '321거2309', '321가8016', '321부9920', '321부9994', '32도7981', '322부5105', '322소7372', '32거7225', '323거7225', '34너3940', '325로4209', '325로4209', '326거3108', '326로9134', '327버7792', '327소9736', '328더5608', '328루6683', '328저6078', '329고3073', '329어5050', '329서6082', '32거3749', '32거8237', '32거8434', '32거8683', '32거8683', '32거8853', '32거9473', '32거9694', '32고0259', '32고4605', '32고8242', '32나2784', '37너5219', '32너6285', '32노3713', '32노5475', '32누1256', '32다7201', '32도7119', '32두0597', '32두1605', '32두8824', '32서6568', '32로3556', '32루3951', '32루4858', '32루9972', '32마1760', '32마2332', '32마2786', '32마3169', '32머0732', '32머0799', '32머0972', '32머1457', '32머1882', '32머2158', '32머6032', '32머6032', '32머6192', '32머6526', '32머6699', '32버1520', '32버3695', '32소3492', '32수1274', '32수2776', '32수4964', '32수8512', '32어1612', '32어2085', '32오8414', '32루0321', '32우9873', '32저2210', '32저3740', '32저8089', '32저9035', '32저9783', '32조3387', '32조3387', '32조3387', '32조6951', '32조6951', '32주6057', '32하8985', '32호4137', '32호4999', '32오6447', '32호7477', '331노5137', '332나6120', '332너6133', '332나6150', '332나6150', '332나6154', '332나6154', '132나6165', '3333노5022', '333버6108', '333버6108', '333어7073', '34러6313', '334루2500', '334수7944', '336머9651', '336머9699', '336수2394', '2기37바728', '337로4276', '337머4851', '337서6681', '338루9876', '338모5570', '338모5570', '338보8423', '338수8000', '339가2429', '339누7408', '339호8676', '33가8323', '346어828', '33고9103', '33고9280', '33고9385', '33고9449', '33고9466', '33고9824', '33고9824', '33고9824', '33고9824', '33구8914', '33나0289', '33나0289', '33나0641', '33나0896', '33나0930', '33너7912', '33노8312', '33누3187', '33누7091', '33다1087', '33다6939', '33도2829', '33두5347', '33두5999', '33라1394', '33라1394', '33러4569', '33러5799', '33로4205', '33로4721', '33로5403', '33로8615', '33루8494', '33머1589', '33머5884', '33머5884', '33모0109', '33무3663', '33버7841', '33보2130', '33부5904', '서3저7190', '33서8534', '33소5753', '33소7390', '33수3272', '33두5936', '33어0280', '33어1000', '33어1000', '33어5730', '34어7727', '33오0254', '33오6979', '33오4979', '33오7423', '33오9391', '33오9391', '33우7928', '33저8037', '33저8265', '33저8300', '33저8634', '33저8917', '33저8917', '33저8917', '33주7190', '33주7611', '33하4840', '33허5139', '33호1787', '33호3837', '33호4622', '33호8999', '33호9909', '340수3971', '340어3012', '341나9368', '341도3868', '341러8498', '342고3820', '342고3820', '343로1802', '343수3115', '344어7110', '345다2430', '345라1226', '345라6159', '345버8521', '346수3941', '347루3348', '348다9703', '348다9739', '348다9757', '448너9752', '348두2186', '34두2186', '348두2186', '348저4368', '348저9259', '349노1856', '349러6874', '349머8097', '34가2888', '34가3629', '34거2890', '34저8660', '34고0541', '34고0541', '34나7944', '34나9687', '34너0905', '34너5501', '34누7693', '34누9417', '34누9421', '34도4155', '34도7378', '34도7877', '34도7877', '34도8836', '34두5394', '34라2255', '34라3285', '34러6527', '34러6920', '34러7013', '34로7591', '34루5986', '34루6982', '34루8193', '341010', '34머6784', '34모5221', '34모7866', '34모9010', '34모9010', '34모9010', '34오9010', '34어1442', '34무7442', '34무7442', '34무9825', '34버6368', '34버8612', '34보0325', '34보0428', '34보4166', '34부7901', '34부8664', '34서2214', '34서2664', '34소3520', '34소5850', '34소6364', '34779', '34소8464', '34소8751', '34수4388', '34수6386', '34수9284', '31서2378', '34어0811', '34어1429', '34어1901', '34어1001', '34어1901', '34어1901', '34어1901', '34어1901', '34어1901', '34어1901', '34어1901', '34어1901', '34어1901', '34어3986', '34어4496', '34어1901', '34오64', '34오6349', '34오6349', '34우2371', '34우3045', '34우7530', '34저1101', '34저1971', '34저1971', '34저3052', '34조0888', '34조4412', '34호0402', '34호0402', '34호7432', '350로7539', '351고7901', '352모6317', '352서4185', '352어7146', '352주2588', '353루5015', '353아735', '353마7351', '354보7105', '355머3990', '355보4348', '356보5253', '358버2080', '358수3942', '358수3994', '358수3994', '359너6850', '359소6500', '35거3582', '35거5255', '35거5400', '35거5768', '35거6105', '35고8143', '35구4286', '38구6337', '35나4187', '35너2986', '35너7504', '35노6554', '35노9687', '35누2051', '35다0495', '35다2613', '35더9507', '35도0931', '35도3427', '35도9850', '35라1957', '35라3863', '35라5732', '35라5732', '35라6294', '35거7488', '35러2000', '35러2209', '35러2282', '35로6190', '35루1082', '35루1981', '35마2875', '35머0200', '35머0200', '35버4213', '35버8614', '35버9179', '35버9431', '35보2682', '35부2321', '35부2865', '35부2888', '35부7236', '35서0429', '35서3992', '35소1150', '35어1433', '35머6474', '35어7101', '35오3278', '35우1084', '35우2447', '35우5261', '35우5996', '35조0839', '35조0942', '35조4232', '35조8360', '35주1324', '35주4664', '35주9106', '35주9666', '35허0812', '362노7573', '362마8174', '363더5619', '365버2814', '365보9287', '368다8923', '368라6154', '368머5682', '369머1513', '369머1513', '36거0773', '36거0954', '36거0954', '36구7367', '36구7367', '36너2332', '36나5796', '36나8780', '36너5755', '36노9498', '36누7311', '36누7491', '36누7987', '36다5442', '36너5940', '36도3448', '36도3771', '36도6987', '36도9563', '36도9563', '36두7216', '36두7383', '36두9879', '36러9860', '36로1061', '36루5160', '36머0248', '36모6326', '36부1640', '36무2548', '36무2597', '36무2854', '36무2987', '36무5829', '36버0166', '36보2949', '36보5935', '36부0454', '36부9097', '36부9159', '36서2858', '36서5125', '36서5168', '36서5285', '36수1688', '36수1754', '36수6753', '36수9480', '36오4075', '36오4519', '36오5346', '34오6349', '36우9717', '36저2532', '36저2532', '36저3851', '36조1935', '36조4202', '36조4948', '36주3503', '36하6803', '36호0166', '370노4203', '370노4228', '370러6079', '370보7674', '370우4567', '372너5267', '372루6725', '374두9842', '375누3332', '375모6301', '375모6301', '376버8532', '376오6282', '377조4235', '379서2588', '379주8211', '37가8528', '37거5877', '37고7757', '37고8358', '37고8616', '37서8980', '37나0717', '37나4817', '37너1401', '37너5456', '37노1085', '37노3497', '37누7364', '37다6788', '37더6538', '37두4478', '37두8499', '37러0560', '37러8283', '37러8515', '37로3843', '37버1238', '37마9178', '37마9178', '37마9178', '37마9270', '37마9611', '37머3657', '37머3676', '37머4899', '37모0323', '37모0323', '37모0323', '37모4975', '37오6293', '37모6995', '37무3261', '경기37바1935', '경기37바4369', '경기37바4382', '경기37바4751', '경기37바5016', '경기37바5121', '경기37바5833', '경기37바6384', '37바6435', '37버5079', '37보0837', '37보0884', '37보3277', '37보7866', '37부1430', '37부5040', '37부5040', '37부5040', '37부5040', '37부5040', '37부5040', '37부5040', '37부5040', '37부5040', '37부5040', '37부5040', '37부5040', '37부5040', '37부5040', '37부5062', '37부5062', '37부5062', '37부6632', '37서0172', '37서0326', '37서1494', '37소5552', '37소9333', '37수1454', '37수1698', '37어1266', '37어1266', '37어3479', '37어6718', '37어6880', '37오1340', '37우0157', '37무0703', '37우2995', '37우4202', '35우7776', '37저2932', '37저2995', '37조0959', '37조167', '37조4966', '37조4966', '37주3670', '37주7747', '37주9023', '37주9336', '37하2553', '37하3727', '37하4563', '37하9820', '37마9987', '37호1411', '37호2027', '37호2157', '380저8419', '380주5048', '382고9598', '382부4212', '382오3752', '382우5375', '382우5388', '383두2136', '384버6917', '386다3285', '386도9522', '387가8995', '389조6703', '38가0929', '38가9504', '38거0287', '38거0287', '38거0287', '38거0287', '38가0774', '38거2121', '38고6446', '38고6577', '38고7399', '38나0236', '38나0993', '38나4609', '38너0511', '38너0730', '38서2525', '38노5369', '38누1019', '38누8130', '38누8341', '08다2469', '04고2659', '38다3429', '38더7780', '38더1607', '38도2086', '38두0489', '38두0638', '38러5395', '38러5659', '38러6349', '38루0824', '38루2026', '38거828', '38모0668', '38모7847', '38무0492', '38보1644', '38보6037', '38서2089', '38서2089', '38서2307', '38거7431', '38소4545', '38수2092', '38수5027', '38어2402', '38어2527', '38어2883', '38어2955', '38오5537', '38우0321', '38우0372', '38우0756', '38우1015', '38저3782', '38저5496', '38조0539', '38조1232', '38조1676', '38주8755', '38하1776', '38하5498', '38호1537', '38호1862', '38호2659', '38오5044', '38호5666', '38호5754', '38호8572', '390거7263', '390조5935', '392더5648', '392더5648', '392어7909', '393누2551', '393서4111', '393조7538', '394누6647', '34루5823', '395고2259', '395나9365', '395모3052', '395소2435', '396누5813', '396누5857', '397소8912', '398너7697', '39가4754', '39거0662', '39가2149', '39거6149', '39고7052', '39고8489', '39고9505', '39구4626', '39구4857', '39노0511', '39노0546', '39노9591', '39누1437', '39다0330', '39다2298', '39더1841', '39도0570', '39도0872', '39두6035', '07수6061', '39저8881', '39로0915', '39로1074', '39로5876', '39조9192', '39루5694', '39루7998', '39루9637', '39머0274', '39머6560', '39오2883', '39버1614', '39보7403', '39보7403', '39보7403', '39부1273', '39부3527', '39부4958', '39부8459', '39서0300', '39서0300', '39소0210', '39소2159', '39수0726', '39수6594', '39수7829', '39어7981', '39오1328', '39오1614', '39저2230', '39하2185', '39하7801', '39아788', '39어6696', '40가9023', '40고5346', '40고7251', '40고9298', '40고9306', '40고9442', '40고9442', '40구0105', '137어418', '40구2549', '40구2551', '40구278', '40구2778', '40구2778', '40구9366', '40구9371', '40구9512', '40나8369', '40너0320', '40너1175', '40노0159', '40노0196', '40노0288', '40노0350', '40누3897', '40누5774', '40다9641', '40도6606', '40도8752', '38나3115', '40러0707', '40마1979', '40마2824', '40마2824', '40마9490', '40마9490', '40마9490', '40머0304', '40머2042', '40머2289', '40모2818', '40무2567', '40무3144', '40머7647', '40보0864', '56러1027', '40보7569', '40부5227', '40서0314', '40서1515', '40서8306', '40서8326', '40서8326', '40소3612', '40소3663', '40소3663', '40소3663', '40소4713', '40소4926', '60수0440', '40수0696', '40수0793', '40어3518', '40어7350', '40오5229', '40우2263', '40우2277', '40우2863', '40우2863', '40저1510', '40저1510', '40저4343', '40조3524', '40조4952', '40조5089', '40조6240', '40주1777', '40주5832', '40주6793', '40주6934', '40주6934', '40주6934', '40주6934', '40주6934', '04호5844', '40호5854', '40호8963', '41가1556', '41가1556', '01루1296', '41거4619', '41거5368', '41고1342', '41고1342', '41나6018', '08가289', '41노3130', '41두2099', '41두2276', '41두2276', '41두2898', '41두2909', '41두2946', '41두3279', '41라2703', '41라2981', '41라3067', '41라6360', '41러0332', '41허0548', '41러7166', '41러7443', '41러8817', '41로9709', '41로9709', '41루0144', '41루6670', '41마0195', '41마2912', '41마6001', '41마8590', '41머5896', '41어7892', '41모8111', '41무0202', '41무6783', '41머3542', '41머4711', '41버7121', '41버7424', '41버9762', '41보5839', '41부3832', '41부3832', '41부3832', '41부5706', '41부5706', '41부5706', '41소1794', '41소1794', '41소6863', '41수1512', '41수1901', '41우2413', '41오7874', '41우7686', '41저1404', '41저4793', '41서4969', '41주3660', '41주8296', '41호1049', '41호1067', '32거3575', '42거8273', '42고6657', '42고6846', '42구6807', '42나5977', '42나6852', '42나6852', '42나8650', '42너4166', '42너6396', '42너7381', '42노0307', '42노1506', '42다5451', '42더4949', '42더6022', '42도0394', '42두0697', '42두3520', '42두7473', '42라0578', '42라0596', '42라0822', '42라2528', '42라3632', '42러0473', '42러0473', '42러1375', '42러5041', '42로2616', '42루0173', '42루0346', '42루0403', '42루0451', '42어8477', '42머8762', '42모2624', '42모8135', '42무5461', '42버2170', '42보0272', '42보0272', '42보0358', '42보3357', '42보8850', '42보9348', '42보9348', '42무4697', '42소2387', '42소2578', '42소2811', '42소2967', '42소5825', '42소9166', '42소9166', '42소9166', '42수4742', '42수4742', '42어2773', '42어7779', '42오2506', '42오2687', '42오2782', '42오2868', '42오7039', '42오7137', '42우3876', '42저0259', '42서0949', '42저2633', '42오3421', '42조3421', '42주1857', '42주4029', '42호2523', '42호3816', '42호3816', '42호6871', '42호9155', '43가0648', '07오3609', '43가5458', '43가9247', '43거0826', '43거2503', '43가2627', '43거2854', '43거2863', '43거3269', '43고7779', '43고8743', '43구6926', '43나2728', '43나2945', '43나7488', '43너7003', '43노3582', '43노6639', '43노6639', '43노6733', '43노6838', '43누3521', '43다0688', '43다0855', '43도6600', '43도7602', '43라7408', '43러2344', '43러5990', '43로2487', '43로7199', '43루8322', '43루8688', '43마1676', '43하8524', '43마8566', '43모0203', '43보0203', '43모1102', '43모5303', '43모8810', '43모8885', '43무0155', '43버1405', '43버6822', '43보3378', '43보9490', '43부7641', '43소2449', '43소9373', '43수0769', '43수1651', '43수5145', '43어9769', '43수5661', '43오9626', '43오9788', '43두3176', '43조0747', '43조6246', '43주6336', '43하2857', '43하5017', '43하5539', '43하5828', '43하6416', '43호2533', '43호6361', '43호8213', '44하0775', '44머1525', '44하544', '44호1188', '44호1956', '44호3528', '44호3778', '44호3778', '44호4494', '44호5509', '45가2493', '45고8221', '45구8024', '45너0208', '45너0208', '45너9204', '45너9567', '45너9725', '45노8899', '45노9854', '45누0518', '45누4569', '45누6382', '45누6916', '45누8815', '45더2079', '45더2769', '45더2814', '45더8873', '45두3896', '45두5182', '45두5182', '45두5262', '45라2407', '45라4131', '45라4799', '45저8658', '45러2716', '45로4350', '45루4453', '45마0642', '45마0642', '45마9142', '45머0559', '45머1367', '45머4070', '45머4211', '45머4997', '45오0818', '45보1766', '45보6517', '45모6916', '45모6916', '45모8481', '45버0291', '45버0607', '45버7910', '45버7910', '45보1839', '45부2943', '45부4631', '45부7619', '45소1731', '45소1745', '45소3643', '45소6348', '45소7685', '45어4692', '45어5514', '45어8359', '45어8527', '45어8817', '45어8965', '48오1751', '45오2857', '45우4109', '45우4707', '45우4707', '45우4707', '45주5034', '45주5272', '45저8339', '45조2461', '45조2492', '45조2721', '45조2897', '45조3122', '45조5962', '45주6145', '45주6200', '45주6580', '45주6580', '45하1418', '45호0513', '45호2263', '45호4201', '45호4201', '45호4771', '45호9742', '46가0167', '46가3873', '46가5263', '08오3303', '46가3502', '46고1019', '46고4000', '46소4381', '46고4508', '46고4593', '46가4831', '46고4872', '49구6958', '46구9403', '46너0991', '46너7444', '46노7794', '46누7356', '46다0277', '46어2387', '46다2397', '46더3413', '46더6973', '46더6973', '46더8255', '46도0127', '46도0387', '46도4236', '46도5379', '46도7816', '46두2324', '46두2324', '46두2736', '46라0118', '46러2209', '46러6422', '46러8426', '46러8937', '66로0768', '46로0851', '46로8426', '46로8858', '46로8858', '46루1882', '46루1882', '46마4928', '46머3158', '46모6316', '46보9345', '46무6558', '46무6848', '46버2935', '46버8616', '46보0588', '46보0588', '46부0319', '46부7851', '46부9627', '46서4603', '46서4603', '46어7083', '46수3328', '46수3742', '03오6901', '46수7926', '46어1394', '46머1804', '46오1611', '46오7834', '46우6304', '46우7832', '46저6865', '46저6865', '46조7443', '46주4971', '46주8594', '46호1955', '47거1661', '47거4103', '47거4612', '47거4715', '47고7218', '47고7731', '47구2911', '47구4184', '47나1957', '47나2421', '47나6607', '47너4376', '47나5284', '47누0578', '47다2882', '47라8387', '47어6953', '476953', '47러8256', '47로3036', '47로6895', '47로8909', '47루9247', '47루9587', '47마8309', '47마8309', '47머3556', '47머7149', '67모3170', '47모5042', '47모5314', '47모5672', '47모5721', '47모5784', '47버1170', '47보1672', '47보5065', '47부1306', '47무1981', '47부1981', '47부4795', '47부9234', '47부9258', '47부9938', '47부9975', '47소0610', '47소0795', '47수8748', '42머7426', '47오5208', '47오9412', '47조9357', '47주2829', '47주3250', '47어0251', '47호0554', '47호8034', '48가4248', '48가6748', '48거0851', '48거5672', '48거7445', '48가8816', '46고7846', '48구2413', '48너4070', '48너4450', '85너5229', '48다0694', '48나1604', '48다4344', '48다4344', '48다4344', '48더9159', '48더9528', '48도0435', '48도2484', '48두5657', '48라2129', '48러6265', '48러6395', '48러6678', '48러6793', '48로6569', '48로7045', '40부143', '48루1782', '48루2370', '48루5008', '48루5691', '48루5809', '48마4071', '48마8503', '48마8503', '48모2762', '48오4949', '48모8327', '48무7620', '48버2633', '48버3254', '48버5700', '48버6457', '48부1569', '48부1618', '48부9470', '48수9307', '48수9884', '48어7629', '48오0606', '48오3441', '48오3575', '48오3841', '48오3901', '48우5515', '48무5701', '48우7660', '48우9199', '48서7192', '48조1162', '48조5223', '48조8398', '48주0366', '48주9688', '48하1896', '48하2081', '48하6830', '48하6830', '48하8737', '48하9052', '48하9162', '49가1924', '49가7148', '49구1804', '49구1006', '49구9604', '49나1734', '49나2261', '49나4443', '49나8865', '49나865', '49너1071', '49누0550', '49누5257', '49누8479', '49누9840', '49다2018', '49더3755', '49더9999', '49도2334', '49도5878', '49도6839', '49라0391', '49라7576', '49러3008', '49버3008', '49러3840', '49러4041', '49러4236', '49러4530', '49로0859', '49로4132', '49무2742', '49마8506', '49머0913', '49머2672', '49머8797', '49모1977', '49무1636', '49무1636', '49무8387', '49버3295', '49보0225', '49보0335', '49보0438', '49보0581', '49보0800', '49보0801', '49보4241', '49보4269', '49보4269', '49보6870', '49부7765', '49부9501', '49서0234', '49서1385', '49서1526', '49서1526', '49서1526', '49수1207', '49수1489', '49수4461', '49어3203', '49우1747', '49서0950', '49저7180', '49주3962', '49하3949', '49호0242', '49호1863', '49조3634', '49호5012', '50거0841', '50고4416', '50고6944', '50구1268', '50구1268', '50나9117', '50노7278', '50누3607', '50누3607', '50누6996', '50다4707', '50나8496', '50다8496', '50두0878', '50두2299', '50두2299', '50두9748', '50라5047', '50라8315', '50로2257', '50로4603', '50로5513', '50루6405', '50루6516', '50모0829', '50무0991', '50무0991', '50무4435', '50무4435', '50무8714', '50부4284', '50부8237', '50서1538', '50소0267', '50소0459', '50소0516', '50소0803', '50소0898', '50소4967', '50소7363', '50수2239', '50수4811', '50수7493', '50수7634', '50수8313', '50수8633', '50수9842', '50오3046', '50오3135', '50오3135', '50조3503', '50조3730', '50조4829', '50허0148', '30호1682', '51가2605', '51거3091', '51고3513', '51구4243', '51노1996', '51노2485', '51노6203', '51노8157', '51누0885', '51다1451', '51더0502', '51더0502', '51더0759', '51더0800', '51더0800', '51도2275', '51도2275', '51도7630', '51도9382', '51두2771', '51두5007', '51라0960', '51라6123', '51러0273', '51러0402', '51러2230', '51라6816', '51러8960', '51러8960', '51러9395', '51로0419', '51로0569', '51로4597', '51로8753', '51로9130', '21라7654', '51마0496', '51마3572', '51마7748', '51모0432', '51무8223', '51머9638', '51보0978', '51보8436', '51부5305', '51부5305', '51루5305', '51부5305', '51서0498', '51서0587', '51소6620', '51소6732', '51수0542', '51어1388', '51어5303', '51어7196', '51어8120', '51어8120', '51어9388', '51어9419', '51어9419', '51오1072', '51오2340', '51오5376', '51오9778', '51오9778', '51오9778', '51우3091', '51우4066', '51저5419', '51저6040', '51저6040', '51저8265', '51조5692', '51주7986', '51주7986', '51주7986', '51주9856', '51하1913', '51하2902', '51하6186', '81오824', '51호0546', '51호0546', '51우0546', '51호0822', '51호5377', '51호7057', '52가9127', '52거2392', '52고0438', '52구7759', '52나2452', '52더7289', '52도6412', '52두7412', '52러0371', '54어3842', '52러4823', '52로4506', '52로8165', '52루2313', '52마0373', '52마2859', '52루4827', '52서8721', '52버0294', '52보8850', '52보6553', '52보7658', '52보9068', '52부0917', '52소3638', '52수2134', '56머6006', '52어7601', '52오1938', '52오6837', '52우0569', '52무0569', '52무0569', '52우7230', '52서6177', '52주0134', '52주3483', '52누7245', '52주7548', '52주2747', '52하4663', '52머6017', '52하7419', '52하8808', '52하9580', '52버2265', '52호2108', '52호2918', '52호3047', '52호3193', '52호3576', '52호4125', '36가7064', '53가9754', '53고4814', '53구0136', '53구3122', '53구8447', '53나7112', '53너2089', '53너2414', '53너3255', '53노4460', '53누4523', '53누5057', '53누5693', '53누5693', '53다2365', '53다5395', '53다7705', '53더1541', '53너5505', '53도5113', '53두9601', '53라5506', '53라6232', '53라6686', '53러7313', '53러7313', '53로6335', '53로6617', '53부4152', '53루6104', '53루7344', '53마1235', '53마1280', '53마5719', '53마8995', '53머3774', '53모0416', '51모9542', '53무2323', '53무4229', '53무8391', '53버3683', '53버4411', '53보0214', '53보3454', '53보6995', '53소0785', '53소3480', '53소4533', '53소4533', '53수1347', '53수5747', '53허1569', '53어3392', '53어3392', '53어3492', '53머3581', '53어3581', '53어3731', '53어7167', '53어7167', '53어7167', '53어7167', '53어7913', '53오0123', '53오0123', '53오2224', '53오2224', '54오3144', '53호3963', '53우0132', '53우3668', '53조0126', '53조0248', '53조0459', '53조3067', '53조3369', '53조9156', '53주8459', '53하5832', '53하6111', '53하6618', '53하7677', '53호0209', '53호3408', '53호3408', '53호4116', '53호5756', '54가7839', '5441815', '54거1956', '54거1956', '54거1956', '54거9108', '54고6646', '54구2875', '54구7093', '54구7093', '54나3011', '54나9450', '54너7051', '54너7051', '54너7476', '54너7662', '54너8299', '54너8727', '54너8977', '54노3488', '54노9127', '54노9149', '54누4943', '54더6196', '54도6097', '54도6356', '54두0492', '54두5461', '54라5574', '54러5350', '54로0440', '54로4693', '54루7357', '54루7952', '54루8201', '54머1266', '54머3890', '54모5062', '54모8737', '54버1199', '54버3440', '54버5171', '54버5684', '54버6182', '54버6699', '54버6699', '54버8344', '54보3412', '54보4391', '54부4818', '54부6470', '54소5459', '54수0969', '54우094', '54수7533', '54어0646', '54오1363', '54오5179', '54오5855', '54우1530', '54우2661', '54조2128', '54조2580', '54주9779', '54호8297', '55가5176', '55가7791', '55가9011', '55거1995', '55거1995', '55거1995', '55거1995', '55거1995', '55거1995', '55고3700', '55구7813', '55구8602', '55나0255', '55나3848', '55나6610', '55나8446', '55나8475', '55노0253', '55노2404', '55누4215', '55나9354', '55더5732', '55도011', '55도5632', '55도5691', '55라1116', '55라4961', '55라6765', '55러0872', '55루8105', '55하0125', '55마9565', '55머1302', '55머3701', '55머4324', '55머6610', '55머8573', '55모3194', '55모3542', '55모9989', '55무0991', '55무3117', '55무7090', '55무7183', '55무7570', '55보0398', '55부2466', '55보5341', '55부1807', '55서8201', '55서8292', '55서8386', '55서8681', '55서8933', '55서9728', '55서9745', '55서9762', '55소4238', '55소6160', '55소9407', '55수1418', '55수7466', '55수8183', '55오2217', '55저1023', '55저9211', '55조1041', '55조7337', '55주8893', '55주8893', '55주8893', '55하1745', '55하2452', '55하6133', '55호9377', '56가2838', '56가6340', '56거2860', '56거4496', '56거5352', '56고1105', '56고8600', '56구1561', '56구7427', '56구7427', '56나3563', '56나3770', '56나4587', '56나9116', '56나9605', '56너2338', '56너3597', '56노1754', '56노1754', '56노5219', '56노6378', '56노7077', '56누0377', '56누0671', '56너6639', '56더2379', '56더3124', '56너7333', '36도1411', '56도7274', '56두6714', '56라1326', '56라1326', '56라1326', '56라1412', '56라1560', '56라1862', '56라1963', '56로0947', '56루5361', '56루6635', '56루6692', '56마6604', '56머1116', '56마1338', '56머7086', '56머7254', '56모0494', '56무0141', '56무7303', '56버0583', '56버0583', '56부1576', '56부1941', '56부3805', '56소1711', '56소3160', '56소3160', '56소7819', '56수7748', '56수8762', '56어2257', '56오3427', '56저3259', '56저4323', '56조0208', '56주4719', '56주9641', '56하2699', '56하2699', '56하2699', '56하2708', '56하3746', '56하8146', '56하6461', '56호3868', '56호6279', '56호8718', '57가2208', '57고7937', '57구1835', '57구7282', '57나5686', '57나1873', '57너8618', '57노7145', '57노7145', '57노7145', '57노7553', '57누6921', '57다5619', '57다5741', '57나5741', '57더6193', '57도3541', '57도4921', '57두0599', '57누2277', '57두2716', '57두3171', '57두4729', '57두7632', '57라8190', '57러8880', '57로4367', '57로7089', '57로7335', '57루1436', '57루3191', '57루7458', '57머0351', '57머0477', '57머0528', '57호4949', '57모7510', '57무0391', '57버1175', '57보4499', '57보4499', '57보6006', '57보8949', '57부0994', '57부2548', '57부5129', '57수2526', '57하5908', '57어2866', '57어9018', '57어9429', '57오1117', '57오1786', '57우8179', '57주6482', '57하2455', '57아3737', '57하6999', '57하6999', '57호0168', '57호0762', '57호1624', '57소1624', '57호1624', '57호3276', '57호6167', '57호8865', '57호8865', '58가8935', '58고3846', '58고4813', '58고5180', '58고5180', '58나1393', '58나1985', '58나2491', '02오4998', '58너5809', '58너3564', '58너3618', '58너3943', '58너9442', '58너9587', '58노0353', '58노3364', '58누6955', '58더1669', '58다2936', '58다4149', '58더0300', '58더1706', '58더6944', '58도3498', '58도5759', '58도5965', '58라4848', '58러0508', '58러2230', '58로8642', '58루7302', '58두7302', '58머0955', '58머0955', '58머3454', '58모0941', '58모2913', '58무9933', '58보3444', '58보4241', '58보9337', '58부0236', '38부0364', '58부0364', '58부0364', '58부0364', '58부0364', '58부0364', '58부0364', '58부0364', '58부0364', '58부0364', '58부0364', '58부0364', '58부0364', '58부0863', '58서5717', '58우2147', '58우2378', '58우2378', '58저0344', '58저1576', '58저5401', '58조0379', '58조1236', '58조1236', '58조1397', '58조2147', '58조2913', '58조3374', '58주0641', '58주7477', '58주7690', '59가1831', '59가6604', '59거0123', '59거0765', '59고1046', '59고1046', '59고1646', '59고3811', '59고9489', '59고9489', '59구1587', '59노6240', '59노7513', '59노8085', '59누8775', '59다2065', '59다2065', '59다2065', '59더8762', '59더8762', '59라3400', '59라3400', '59라3400', '59라7253', '59러0146', '59러30651', '59로0490', '69어0470', '59루5121', '59루6454', '59머2298', '59머2666', '59모2858', '59무3761', '59무3957', '59무8524', '59부0251', '59부7055', '59서2102', '59서2559', '59서2837', '59소4502', '59수3270', '59수9265', '59오5595', '59우2161', '59우2183', '59우2183', '59우2618', '59우2618', '59두2618', '59무2740', '59우2768', '59조4131', '59조4168', '59조4258', '59주0497', '59주5398', '59주9027', '59호8023', '60가4342', '60가7322', '60가7322', '60거0533', '60거4563', '60고5104', '60고5104', '60고7683', '60고8281', '60구1798', '60구1798', '60구5038', '60구7865', '60나0411', '60나0642', '60나5035', '60나5035', '60나7836', '60너0571', '60나0571', '60너3269', '60노3535', '60누1284', '60누6029', '60누6029', '60누7573', '60누7616', '60누7937', '60누7962', '60다2408', '60더9888', '60더5005', '60더5005', '60더5159', '60더5165', '60더5802', '60더6167', '60더9946', '60도1679', '60도2780', '60도3489', '60두3592', '60러5126', '60로2261', '60로6672', '60부1039', '60마7188', '60마7311', '60머6944', '60머8227', '60버0179', '60버0179', '60보4679', '60보9880', '60부0366', '60부5044', '60서7372', '60수9587', '60저8603', '60저3799', '60저7633', '60서8603', '60저8948', '60조6996', '60조8281', '60하2390', '60하2390', '60하8942', '60하9653', '60호6620', '60하2390', '61가3218', '61고0385', '61고7959', '61나3513', '61너6800', '61너7851', '61노2746', '61노5970', '61노6704', '61누7396', '61누7396', '61나4681', '61더8122', '61두2376', '61두4312', '61두7512', '61두8163', '61두8163', '61두8521', '61두8595', '61두8756', '61라2967', '61러1153', '63러1763', '61러2355', '61러9642', '61로0734', '61로6876', '61로9043', '61루7984', '61루8886', '61루9485', '61마9495', '61마9836', '61마9919', '61모0560', '61오9354', '61무5094', '61무5350', '61무5947', '61무5947', '61무5947', '61무9397', '61무9512', '61무9512', '61무9512', '61무9512', '61무9512', '61버1666', '61보4386', '61부2897', '61서1684', '61서1851', '61서1851', '61소0435', '61소0435', '61소0930', '61소6327', '61소9617', '61수0767', '61수1064', '61어7262', '61어7452', '61오4862', '61우1083', '61우1850', '61저0964', '61저4440', '61저7729', '61조7240', '61주0443', '61하1082', '61하1384', '61하1534', '61하1701', '61하3135', '61호1013', '61호3949', '61호5661', '61호5698', '61호7762', '61호7762', '62가0457', '62가4717', '62가5972', '62거0616', '62거6420', '62고5391', '62고5395', '62고5395', '62고5433', '62구102', '62구1002', '62구1007', '62구1076', '62구1126', '62구1243', '62구1355', '62구1974', '01가1190', '62노4100', '62노8795', '62누4019', '62누4019', '62누6801', '62다2968', '62다5523', '62더8390', '62도9897', '62두0313', '62두0313', '62두0559', '62두0559', '62두1232', '67두7944', '62두8407', '62루0869', '62루1748', '62루4398', '62루9672', '62마6111', '62마7710', '62마7958', '62머2005', '62머2005', '62머2005', '62머2245', '62머2258', '62머2615', '62머2643', '62머6948', '62무9380', '62버1630', '62머4123', '62서0356', '62저0424', '62서1458', '62서1458', '62서5803', '62서5803', '62서8171', '62소0173', '62수2147', '62수2147', '62수2147', '62수2147', '62수2147', '62수2147', '62수3282', '62수3308', '62수3308', '62수3456', '62수3456', '62어3195', '62오0739', '62오4500', '62오6904', '62오9527', '62무3300', '62우8455', '62저1788', '62조8187', '62주6131', '62주6131', '62주6725', '62하0312', '62허0497', '62호0878', '62호5360', '63가2987', '63가3953', '63가5211', '63가6238', '63가6318', '63가9281', '63고0718', '63구7143', '63구7372', '63나3510', '63나3510', '63나3510', '63나3510', '63너4833', '63누2248', '63누4801', '63누7193', '63누7193', '63누7305', '63누7692', '63다3132', '63다7457', '63다7722', '63다7881', '63더7210', '63더7564', '63도9968', '63두5102', '63두8012', '63라0447', '63라0486', '63아0489', '63라6334', '63라8585', '63러1880', '63러1880', '63러2575', '63러3588', '63러4854', '63러6349', '63로6568', '63루2646', '63머0524', '63머0594', '63머1867', '63머8956', '63무0621', '63무0993', '63무0993', '63무0993', '63루4030', '63버0383', '63버7574', '63버9712', '63보2930', '63부6500', '63서3376', '63수2267', '63수5424', '63어0964', '63어9992', '63오779', '63우1871', '63저4744', '63조5910', '63주4030', '63하3305', '63하3305', '63하3528', '63하6106', '63하6106', '64고1101', '64고1101', '64고1101', '64고1447', '64고5217', '64구0275', '64구0319', '64구0356', '64구0448', '64구2039', '64구6176', '64나7217', '64나9829', '64너1446', '64노0641', '64노0641', '64노9589', '64더0157', '64다0780', '64나6757', '64다8600', '64더3836', '64더3836', '64도4079', '64도4079', '64두0343', '64두5320', '64두7039', '64두7244', '64라2517', '64러0939', '64러5220', '64로2865', '64루0935', '64머2608', '64머2695', '64오1858', '64무0682', '64무2424', '64무2424', '64무2424', '64무2424', '64무2774', '64무6684', '64무7838', '64두8549', '64버1118', '64버1158', '64버1662', '64서2690', '64소0795', '64소1065', '64소3177', '64수1679', '64수7681', '64오9447', '64우0788', '64우4870', '64우9544', '64우9859', '64저3890', '64저7330', '64조4840', '64조5237', '64주2460', '64주3363', '64하0834', '64허0901', '64허0901', '65가5896', '65거0573', '65고3620', '65가7557', '65구6280', '65나0192', '65나5078', '65너3017', '65너3017', '65너5083', '65누4457', '65다1678', '65다1858', '65어9919', '65더0838', '65도8049', '65도8170', '65도8170', '65도8300', '65도8565', '65도8660', '65도9302', '65도9517', '65두1179', '65두1179', '65라7012', '65러0974', '65로1917', '65로2415', '65조2958', '65로5339', '55보6784', '65로8256', '65루5710', '65루7031', '65마0670', '65마3703', '65마6229', '65머0150', '65머5967', '65머9197', '65모3666', '65모3666', '65모3666', '65모3666', '65무8358', '65버6717', '65보5542', '65보9658', '65서6010', '65소2702', '65소4854', '65어6046', '65저0562', '65가0680', '65저5962', '65저6478', '65저9059', '65저9059', '65조5899', '65주4221', '65하3904', '65하6827', '65호0713', '65호4727', '65호6251', '66가0531', '66가0531', '66거8696', '66거1061', '66거1700', '66거7457', '66거8336', '66거8401', '66거8650', '66거8716', '66가577', '66고5863', '66고7978', '66구7414', '66구7870', '66너3548', '66너5004', '66너5097', '66너5136', '66너5160', '66너5160', '66너5268', '66너5829', '66너5884', '66너7035', '66너8881', '66노2020', '66노8246', '66누4263', '66다3403', '66다8126', '66도8473', '66도8473', '66도8635', '66도8967', '66도8969', '66두8072', '66두8385', '66두8790', '66라4816', '66라7098', '66라7582', '66로4459', '66로6476', '66로6519', '66루1382', '66루1382', '66루1580', '66루1580', '66루4965', '66무2957', '66무8175', '66루8175', '66버3595', '66버5926', '66버6082', '66버6082', '66보0403', '66보6873', '66부2374', '66부2374', '66부2374', '66부2841', '66부6475', '66서8831', '66서8831', '66서8831', '66서9045', '66서9589', '66소1000', '66소1000', '66수0974', '66수7600', '66수7600', '66수7600', '66수7600', '66수7600', '66어0297', '66어0313', '66어0315', '66어0503', '66어0755', '66어9845', '66우4464', '66무4671', '66저5485', '66조0645', '66조6850', '66조6912', '66조7416', '66조7735', '66조8254', '66주6538', '66하1297', '66하1298', '66호1764', '66호1764', '66호8542', '66호8542', '67가2219', '67가4310', '67거0201', '67거2490', '67거2519', '67고1697', '67구3984', '67나0872', '67나1087', '67나1360', '67나3274', '67너2434', '67너8716', '67노7762', '67누3300', '67두5477', '67도0624', '67두0618', '67두0618', '67두0618', '67두0618', '67두0618', '67두0618', '67두0618', '67두0608', '67두0618', '67두0618', '67두0618', '67두0618', '67두0618', '67두0618', '67두0618', '67두0618', '67두0618', '67두0618', '67두4301', '67라5727', '67로9161', '67루5990', '67거2903', '62머2467', '67머2856', '67머9440', '67모2434', '67보6204', '67무4309', '67무7286', '67무7526', '67무7930', '67무9720', '67버2673', '67보2567', '67부6361', '67소023', '67소8366', '67수5653', '67수8122', '67어2141', '67어2271', '67어2271', '67어3508', '67오9597', '67우5277', '67무8400', '67저0497', '67조0389', '67조2574', '67주1162', '67주1519', '67주1530', '67주1645', '67주1867', '67두1877', '67하0353', '67하2193', '67머5283', '67하6178', '62어2966', '67호1130', '67호1130', '67호5562', '67호8227', '68가0468', '68가7066', '68가7803', '68가7858', '68거0450', '68거8014', '68고4303', '68고4303', '68고6031', '68고7756', '68고7756', '68고7933', '68구8415', '68나0491', '68나2783', '68나2783', '68나4673', '68나9908', '68너0226', '68너5518', '68너5610', '68노2573', '68노4666', '68노6065', '68노97627', '68다5710', '68다6473', '68더0134', '68더3981', '68더9280', '68도1483', '68두1483', '68두6907', '68라8969', '68러1973', '68로0264', '68로6343', '68도0264', '68무5409', '68버5994', '68버7099', '68부9723', '68서3353', '58가361', '68소2096', '68소2549', '68수6285', '68어1949', '68머5795', '68오3655', '68오8511', '68오8623', '68우6949', '68무9307', '68우9660', '683802', '68주0787', '68주1193', '68주1384', '68주3867', '68호1759', '69고3333', '69고6808', '69구2212', '69구6406', '69구8266', '52구8827', '69나6262', '69나6762', '69너3376', '69너4240', '69노6079', '69노7555', '69누2684', '69다7997', '69다9609', '69더0762', '69더9072', '69더9397', '69도1958', '69도4460', '69두0239', '69두2864', '69러1588', '49러9632', '69루5771', '69루7893', '69머2828', '69버7663', '69보1179', '69보1256', '69부5700', '69부5822', '69부5822', '69서2358', '69서2857', '69서6114', '69소2093', '69소2297', '69소2555', '69소3856', '69소3866', '69수0599', '69수2640', '69수5681', '69오2697', '69오2865', '69오5618', '69오9733', '69우7263', '69저8639', '69조3973', '69조7419', '69주3568', '69수7147', '69머4666', '69하4666', '69호4548', '70가8036', '70가8632', '70가8894', '70나2266', '70나4589', '70나5878', '70두0101', '70라7914', '70러3062', '70러3728', '70로9174', '38수3124', '70버6856', '70보3959', '70소8103', '70소8103', '70수6873', '70우2014', '70우2014', '70우2014', '70우2014', '70조8861', '70주0426', '70허2812', '71가4584', '71가4945', '71구7634', '71구7634', '71구7634', '71구7634', '71더2129', '71더2149', '71더2150', '71더2150', '71더2150', '71더2160', '71더2160', '71더2160', '71더2160', '71더2160', '71더2160', '71더2160', '71더2160', '71도5879', '71도5879', '71로7374', '71로7374', '71마9712', '71머5210', '71모8117', '71모8117', '71두9641', '71보8084', '71부6718', '71소7094', '경기71아1261', '71어5210', '71저2082', '71조9920', '71주5499', '72가2274', '72가2392', '72가9933', '72가9933', '72나9505', '72나9939', '72너9571', '72너9686', '72너9789', '72너9789', '72나9889', '77나74600', '72두2958', '72러2533', '72러2809', '72러2900', '72우2680', '72보3360', '72우2007', '72허2823', '72호1345', '72호1345', '73구8222', '3너너2707', '73너6252', '73너7568', '73누5110', '73누5130', '73누6609', '73누7657', '73도0633', '73도0638', '73로2538', '73루7080', '73버0204', '73버0222', '73버0258', '73버2167', '73부1964', '73수4465', '73수4465', '73수5014', '73수5014', '73수5159', '73수5299', '73수6311', '73어5548', '73오8765', '73오8765', '73우0913', '73우0985', '73우0985', '73우5261', '73우8315', '74가0603', '74가0603', '74가0627', '74가0658', '74가3890', '74더3678', '74도9778', '74러7924', '74러7940', '74러8458', '74모8096', '74모8636', '44버3925', '경울84사4801', '74소4614', '74소4615', '74소4617', '74소4962', '74소4962', '74소4982', '74소4984', '74수1895', '74수1895', '74수9363', '74오8761', '74오8761', '74오8761', '74오8822', '74오8822', '74오8890', '74오8890', '74오8890', '24우8941', '74우7742', '74모6700', '75고5813', '75고9287', '75고9287', '75다0607', '75다0607', '75도8268', '75도8268', '75도8268', '75도8268', '75도8268', '75도8268', '75도8268', '75도8268', '75도8268', '75도8268', '75도8268', '75두8325', '75라3568', '75루6692', '75모9626', '75모9738', '75버8340', '75서5296', '75서6284', '75수4617', '75우4776', '75어2099', '76가6111', '76가9469', '76가9469', '76노5714', '76노5714', '06누714', '76노5714', '76누5998', '76더8301', '76라0972', '76라0994', '76라0994', '76무7975', '76모7720', '76무7789', '76무9479', '76버5152', '76버9667', '76보3471', '76보9386', '76소0806', '76가4118', '76서4118', '76주6151', '76하1332', '76호1597', '77가0472', '77너7744', '77누0719', '77누0770', '77누0773', '77누0773', '77누0773', '77누0773', '77누0773', '77나2531', '77도4765', '77러6850', '77마3984', '77마3984', '77마3984', '77마3984', '77무9999', '77서6147', '77어8300', '77어8300', '77오5073', '77오5227', '77우0653', '77저1110', '77주3066', '78고7047', '78고7047', '78고7373', '78구1895', '78구1895', '78나5109', '78누7477', '78누7477', '78도6015', '78도9993', '78라8074', '78라8074', '78라8074', '78라8472', '78루3826', '78마2088', '78마2150', '78우7421', '78우7423', '78우7423', '78우7462', '78우7485', '78우7493', '78우7493', '78우7493', '78우7498', '78우7498', '78우7498', '78우7498', '79거1540', '79주5021', '79구5328', '79구5328', '79구9388', '79너1778', '76노5714', '79누4310', '79누4675', '79누4675', '79누5292', '79누5584', '79더2349', '79라5936', '79러1917', '79러4692', '79러4692', '79소7099', '79오7855', '79소6544', '80거0430', '80거0430', '80거0430', '80나0399', '80나0704', '80나0779', '80나0779', '80나5208', '80너0666', '23고7107', '80노0189', '80다9663', '80더9379', '80두2638', '80러9805', '80마9016', '80모0306', '05누4568', '80보9260', '80서1159', '80서1159', '80수0554', '80수5514', '80수5514', '80수6607', '80어8939', '80오0559', '80오0584', '80우0876', '80우0876', '80우6704', '80저6996', '80저6996', '80저6996', '81가9231', '81고5082', '81고5130', '81고5130', '81고5130', '81나0732', '81나8477', '81너2750', '81너6431', '81노1800', '81노8313', '81노8313', '81노8548', '81노8548', '81누5570', '81누5990', '81두5992', '81다8709', '81더1420', '81더1864', '81도0869', '81도6681', '81두0679', '81두0679', '81두1023', '81두1098', '81두1098', '81러4695', '81러8970', '81루3566', '81로9659', '81루3292', '81마5382', '81마9384', '81머2277', '81머6500', '81머8510', '81모0221', '81모0278', '81무4632', '81무7331', '81버3524', '81버4019', '81버4097', '81버4097', '81버6299', '81버8641', '81버8641', '81보0208', '81보5892', '81부5993', '81부6906', '81소0526', '81소2897', '81소8879', '8울1수5330', '81어2420', '81어3651', '81어6822', '81조0597', '81소3713', '81조4776', '81조7871', '81조1150', '82거1349', '82거1349', '82고2746', '82구0385', '82구0385', '82구8362', '82구8362', '82구8362', '82나0287', '82나0424', '82나5510', '57어0852', '82너2636', '82너2636', '82너3731', '82너8242', '82너8242', '82너8242', '82너8242', '82너8242', '82너8242', '82너8242', '82너8242', '82너8242', '82너8242', '82너8242', '82너8242', '82너8242', '82너8242', '82너8242', '82너8242', '82너8242', '82너8242', '82너8242', '82너8242', '82너9365', '82너9845', '82노9498', '82누0449', '82누1092', '82나5000', '82더2612', '82더6391', '82도3220', '82도4923', '82도4960', '82도4960', '82도4960', '82도4960', '82도4960', '82두7887', '82두9568', '82두9872', '82라0613', '82라2142', '82라2888', '82라3794', '82고8242', '82러0317', '82러8745', '82로8530', '82두0953', '82루5629', '82마0788', '82마4186', '82마8620', '82마8620', '82마8620', '82마8620', '82마8620', '82마8620', '82마8620', '82마8620', '82머3524', '82머7333', '82머7513', '82머9750', '82모0807', '82모0807', '82무6175', '2마7629', '82버0777', '82버0777', '82버1270', '82버2877', '82버7515', '82보2525', '82보2525', '82보2525', '82부0929', '82부6458', '82부9666', '82서4983', '82서5397', '82서5397', '82소0831', '82소2060', '82수8261', '82어0980', '82오8721', '82우3489', '82우8158', '82우9096', '82우9150', '82우9150', '82저1563', '52버3875', '82저6251', '82저7869', '82조6570', '82조9027', '83가2343', '83거1739', '83가2710', '83고3036', '83고3074', '83고3074', '83구4440', '83구4586', '83구6889', '83구6951', '83구9790', '83구9917', '83구9917', '83나0292', '83너1481', '83너3604', '83노7061', '83노9436', '83노9572', '83누7956', '83누7992', '83다7267', '83더1911', '83더3540', '83더6115', '83더6722', '83더6722', '83더7068', '83도6711', '83도6774', '83두3275', '83두5563', '83두7801', '81두7648', '83라2269', '83라2392', '83라2392', '83로0815', '83로0815', '83조0826', '83루2222', '83루5548', '83루9796', '83루9796', '83마8228', '83마9622', '83머6472', '83머6472', '83모3921', '83모3921', '83모3921', '83모3958', '83모8531', '83모8531', '83모8531', '83모8531', '83모8531', '83모8531', '83모8531', '83모8531', '83모8531', '83모8531', '83무0723', '83무0723', '83무3912', '83버2957', '83보0615', '83보2835', '83보8685', '83부2870', '83부7064', '83소1223', '83소18522', '83소4120', '83소6462', '83어7479', '83오0708', '83오2708', '83오2708', '83오3389', '83오3586', '83오3789', '83오3921', '83오7442', '83무0723', '83우1518', '83우1518', '83우9299', '83저0114', '83저0992', '83저0992', '83조4232', '83조4232', '83조5051', '84거0313', '84고6381', '84고6381', '84고6381', '84고6502', '84구2430', '84구2430', '84구3287', '84구7883', '84누0350', '84누0350', '84누0408', '84누0408', '84누0408', '84누0408', '84누0408', '84누0408', '84누2590', '84누4929', '84도2039', '84도6697', '84도9699', '84두9699', '84두1089', '84두3747', '84두9453', '84로4947', '84모4924', '84모7380', '84무0732', '84무2233', '84무2233', '84무2233', '84무2233', '84무2233', '84무2989', '84보5541', '84보5541', '84보7006', '84보7218', '84소3021', '84소4640', '84소5409', '84수2818', '84수5071', '84어5728', '84어5728', '84어5728', '84어9488', '84어9488', '84어9488', '84어9488', '84오0491', '84오2640', '84오9164', '84오9564', '84오9784', '84우0269', '84두2225', '84우3444', '84우6845', '84우6845', '84저0412', '84저0412', '84저1070', '84저3009', '84저9684', '84조0203', '84조1938', '84조5231', '84조9174', '84주5550', '84주7315', '85고5309', '85고9554', '85고9554', '85고9554', '85나0752', '85나1418', '85나2771', '85나2771', '85나7416', '85너0939', '85너0939', '85노1629', '85누1250', '85누2265', '85누3146', '85누3160', '85누7396', '85누9918', '85누9918', '85누9918', '85다5231', '85다8739', '85도3225', '85도3332', '85도3560', '85도6546', '85도8822', '85조8847', '85도8894', '85도8903', '85도8903', '85도8903', '85러0758', '85러2591', '85로7438', '85로7839', '85조8554', '85모6676', '85모9618', '85모9650', '85모9682', '85모9688', '85무0340', '85무0364', '85루0364', '85버4358', '85버4358', '85버5502', '85버5591', '85보4226', '85보5777', '85서2622', '85서5618', '85서5618', '85서5618', '85서5618', '85어6493', '85우9521', '85저4405', '85저4446', '85조6532', '85주8414', '86가0142', '86가0415', '86가3799', '86가5215', '86가5215', '86가5215', '86가7145', '86가7145', '86거0199', '86거0821', '86거2687', '86거3690', '86고5014', '86고5014', '86고7045', '86나6615', '86나6615', '86나6615', '86나6615', '86나6615', '86나6615', '86나6615', '86나6615', '86나6615', '86나6615', '86나6615', '86나6615', '86나6615', '86더0799', '86노0678', '86노0678', '86노8895', '86노8895', '86누6454', '86누8543', '86누8581', '86누8758', '86다7375', '86다9487', '86더0223', '86부1525', '86더7618', '86더8818', '86도0675', '86도2008', '86도8720', '86두0642', '86두1439', '86두4307', '86두4307', '86두4307', '86두6506', '86두9096', '86라0160', '86라0572', '02오3996', '86로1698', '86로1698', '86로4856', '86루3399', '86머0718', '86모5482', '86버6899', '86수7966', '86어7538', '86저2338', '86저5176', '86저9588', '86조0713', '86조0713', '86조3105', '86조3155', '86조3167', '86조404', '86조7309', '86조7309', '86조7309', '86조7309', '86조7309', '86조765', '86머6141', '87가4145', '87거3353', '87거3353', '87거6140', '87거6317', '87거7043', '87거7043', '87고7629', '87고7669', '87고9851', '87고9851', '87나4585', '87노0828', '87누0618', '87누0618', '87누0618', '57나0979', '87다0996', '87다0996', '87다0996', '87다0996', '87다0996', '87더5986', '87더7249', '87두0402', '87두0402', '87로4973', '87로6114', '87루0594', '87루9773', '87마5975', '87마5975', '87마5978', '87마7127', '87마7127', '87마7127', '87마7127', '87마7127', '87마7127', '87마7127', '87마7127', '87마7127', '87마8679', '87마8679', '87머0484', '87머0941', '87머7347', '87모0667', '87모4788', '87모7087', '87무7846', '87버0548', '87보4228', '87보6150', '87보6150', '87보6150', '87보6150', '87보6150', '87보7722', '87보7862', '87부0171', '87소7589', '87수2764', '87수2764', '87수5038', '87수8079', '87수8079', '87오5620', '87오7725', '87오8810', '87오8810', '87오8810', '87오9420', '87우0625', '87우4545', '87우5962', '87우5962', '87우6539', '876915', '87조1168', '87조2825', '87조2825', '87조5505', '87조6355', '87조6355', '87조6355', '87주3158', '88거3557', '88거3868', '88나0507', '88나0577', '88너4971', '88너4971', '88노2499', '88노4969', '88노4969', '88노5449', '88노5464', '88노5464', '88노5534', '88노8607', '88노8607', '88노8607', '88너2320', '88더2320', '88더2639', '88더2844', '88더9299', '88도9526', '88러8457', '88러8457', '88로0700', '88로1168', '88러7858', '88라9211', '88보4977', '88어6935', '88보9108', '88보9658', '88서0239', '88소0902', '88수0363', '88오2610', '88오5014', '88오5059', '88오6457', '88오6457', '88오6498', '88우0986', '88우0986', '88우0986', '88우0986', '88우0986', '88우0986', '88우0986', '88우0986', '88조0503', '88조0503', '89고0586', '89고2055', '89고3001', '89고5808', '89고5808', '89고6347', '89고7416', '89고7416', '89고8950', '89고8950', '89고9345', '89가9345', '89구256', '89구9818', '89구9818', '89너0790', '89너2371', '87누7406', '89나7451', '89노0241', '89노0277', '89누6970', '89다2949', '89더5276', '89더5276', '89더5312', '89더5615', '89더5956', '89더5956', '89더7078', '89더7078', '89더7078', '89더7078', '89더7078', '89더9967', '89너9967', '89더9967', '89더9967', '89도0973', '89두7230', '89두7479', '89라0443', '89라0443', '89라0443', '89라0443', '89라5519', '89소5242', '89로4320', '89로4320', '89로4320', '89루0528', '89마4783', '89마7149', '89머9522', '89모0840', '89모0845', '89모0896', '89모3058', '89모4395', '89버0131', '89보5679', '89부1472', '89부1472', '89부8636', '89부9605', '89부9605', '89서1941', '89서7231', '89소0538', '89소0538', '89소0538', '89소0538', '89소0538', '89소0538', '89소6991', '89어5563', '89저1068', '89저1068', '89저5171', '89저7435', '89주7702', '89주8098', '90거0320', '90거0320', '90거0320', '90서7612', '90나0224', '90너4381', '90누0475', '90누0483', '90누7602', '90누7602', '90다0154', '90다0154', '90나0154', '90다0154', '90다0154', '90다0154', '90다0154', '90다0154', '90더7390', '90도8540', '90누1935', '90두1935', '90두5956', '90두2034', '90두8212', '90두8212', '90두8297', '90두8297', '90두9310', '90두9660', '90두9838', '90두9838', '90로6626', '90마1871', '90모8729', '90모8729', '90버6967', '90버6967', '90보0796', '90보5261', '90부1570', '90부1570', '90부1570', '90부1641', '90부7555', '90부7555', '90부7555', '90부7555', '90부7555', '90부7903', '90서1626', '90서1626', '90서4446', '90서6102', '90서6845', '90서6845', '90서7021', '90서7021', '90서7021', '90서7021', '90서7021', '90서7021', '90서7021', '90서7021', '90서7021', '90서7021', '90서7052', '90서7052', '90서8463', '90어0855', '90오2915', '80도8657', '90오9360', '90우0821', '90우0821', '90저1602', '90저6885', '90저6885', '90저7304', '90조4705', '90조9908', '91거4758', '91거4758', '91고8266', '91나0309', '91다0686', '91다3553', '91다5455', '71어7696', '91다7727', '91다7962', '91더0476', '91더5836', '91더5836', '91더5836', '91더5836', '21더8846', '91더5836', '91더5836', '91더5836', '91도3994', '91두1021', '91두3456', '91두3458', '91라0134', '91라1482', '91라3728', '91라3728', '91라3728', '91라4862', '91라4862', '91라6009', '91라6038', '91라6038', '91라6151', '91라6179', '91라7115', '91라7668', '91라9061', '91라9061', '91라9226', '91루0812', '91루1441', '91마1791', '91마1907', '91보0517', '91모2658', '91무1476', '91무6802', '91부6805', '91루6832', '91무6832', '91서2170', '91버2535', '91버7697', '91어1418', '9184290', '91오4431', '91오6238', '91오9080', '91두5129', '91우5312', '91조0546', '91주1326', '91주1326', '91주5480', '91주8908', '92거1391', '92거4013', '92거4013', '92거6935', '92거9366', '92고0648', '92고2853', '92고5806', '92고7964', '92구1755', '92구6503', '96너0296', '92너0923', '92너0923', '92너2574', '92다3705', '92다3705', '92더0526', '92더0887', '92더0945', '92도0825', '92도5537', '92도5537', '92도5877', '92도5577', '92도5577', '92도5577', '92도5577', '92도5577', '92라0970', '92마5350', '92마5816', '92머0729', '92모3679', '236하32582', '92모8878', '92모8878', '92무1912', '92무6634', '92버3600', '92버3790', '92버5241', '92부0655', '92부0668', '92부0688', '92부0688', '92소8950', '289오346', '92두0139', '92저5372', '92저5372', '92저5372', '93가1527', '93가8498', '93가8897', '93거9677', '93거9725', '93나0915', '93너6200', '93너6202', '93너6202', '93너7795', '93노0218', '93노0507', '93누9019', '93다9950', '93도0823', '93도0823', '93도189', '93도1109', '93도2080', '93도2080', '93도5685', '93도7727', '93라6419', '93라9531', '93러0701', '93로1461', '93로1738', '93로3106', '93루0269', '93루5929', '93마0338', '93마0355', '93버1865', '93버3223', '93버3223', '93버3223', '93버3223', '93버3223', '93버3223', '93버3223', '93버3223', '93버3223', '93버3223', '93버3223', '93버3223', '93버3223', '93버3223', '93버3223', '93버3223', '93버3223', '93버3223', '93버3223', '93버3223', '93버3223', '93버3223', '93버3223', '93부0745', '93서5877', '93서6719', '93조067', '76소0694', '93소0779', '93수5556', '93수5587', '93어8240', '93오1914', '93오1914', '93오1918', '93오3442', '93오3442', '93우0183', '93무6260', '93조0888', '93조0848', '93조0888', '93조0888', '93소0888', '93조1899', '93조1965', '93조4091', '93조4289', '93조4289', '93주8854', '94나4442', '94나4487', '94노1841', '94노1858', '94노1858', '94노1912', '94노2656', '94루5928', '94루5928', '94루6296', '94루8769', '94모4391', '94무0132', '93버3223', '94부0198', '94소6093', '94소6188', '94어1580', '94오0145', '94우0560', '94주2971', '95거0543', '95거0543', '95거0565', '95나7492', '95노0396', '95더0709', '95더0709', '95두7319', '95두7813', '95라0998', '95라2928', '95고5054', '95로9750', '95로9750', '95마0689', '95머0362', '95모8876', '95무0941', '95보4546', '95부6906', '95부9943', '95수4282', '95수4282', '95수4282', '95주7464', '95머1227', '95어5376', '95우0912', '95우8486', '95저0610', '95조0329', '95조4794', '95조9003', '95조9003', '95주6579', '95주7655', '95주9917', '95주9971', '95주9971', '96거0737', '96거0272', '76고6286', '96고8546', '96고8546', '96너0265', '96너0280', '96너0296', '96너0296', '96너0296', '96너0296', '96너8858', '96너8903', '96누0143', '96누0143', '96누0143', '96누0527', '96누1694', '96누4363', '96누5164', '96다1149', '96다1149', '96다1149', '96다9142', '96더9876', '96더0475', '96더6759', '96더6883', '96더6925', '96더9717', '96더9717', '96더9717', '96더9710', '96더9717', '96더9717', '96너9717', '96더9717', '96더9717', '96더9717', '96너9710', '96두6641', '96두6641', '96두6641', '96두6641', '96두6641', '96두6641', '96두6641', '96두6641', '96로6742', '96로9270', '96로9270', '96로9280', '96마1927', '96어0386', '96머7552', '96머8736', '96머9582', '96모0885', '96모9927', '96모9980', '96소5333', '96소7629', '96소9521', '96소9592', '96소9592', '96수0168', '96수0446', '96오5797', '96오5797', '96저0792', '96서0792', '96저0792', '96주0365', '96주0391', '96주0391', '96주0392', '96주0591', '97거0226', '97거0331', '97고6817', '97서7605', '97구4185', '97구5422', '97구5499', '97구8086', '97구9459', '97너0425', '97너0428', '97너1831', '97노5305', '97노5305', '97노9692', '97누7106', '97누2034', '97누2034', '97누2034', '97더0738', '97도7637', '97도7637', '97도7919', '97도7919', '97도7919', '97라0938', '97러0101', '97서0101', '97러0144', '97러0167', '97러0199', '97로1552', '97로6795', '97로9849', '97로9978', '97로9978', '97루0754', '97루0754', '97모7070', '97버4889', '97버4900', '97버5694', '97보1708', '97보3688', '97부9715', '97거0246', '97서5169', '97소2807', '97소2807', '97소7444', '97소8246', '97수5641', '97어0723', '27오0384', '97오0451', '97오3463', '97오9266', '97무0298', '97저0734', '97저0734', '97저0734', '97저0755', '97저7564', '98누4079', '98누4079', '90누4079', '98누9929', '98가9778', '98머4553', '98머4553', '98모6506', '99루4030', '99마5252', '99버4990', '99서7133', '99어7004', '99어7035', '99어7749', '경기37바6071', '영경기14모8665', '영경기14보181', '영경기14보862', '영경기15고9465', '영울86무344', '경기2무1344', '경기32바1768', '경기35바1030', '경기37바1050', '경기37바5058', '경기37바1000', '경기37바1000', '경기37바1004', '경기37바1006', '경기37바1021', '경기37바1021', '경기37바1023', '경기37바1027', '경기37바1028', '경기37바1028', '경기37바1032', '경기37바1032', '경기37바1036', '경기37바1041', '경기37바1044', '경기37바1050', '경기37바1056', '경기37바1059', '경기37바1059', '경기37바1063', '경기37바1064', '경기37바1067', '경기37바1070', '경기37바1109', '경기37바1112', '경기37바1118', '경기37바1119', '경기37바1119', '경기37바1120', '경기37바1120', '경기37바1124', '경기37바1124', '경기37바1128', '경기37바1129', '경기37바1132', '경기37바1132', '경기37바1132', '경기37바1132', '경기37바1132', '경기37바1137', '경기37바1139', '경기37바1149', '경기37바1302', '경기37바1302', '경기37바1302', '경기37바136', '경기37바1325', '경기37바1327', '경기37바1327', '경기37바1329', '경기37바1329', '경기37바1331', '경기37바1335', '경기37바1346', '경기37바1346', '경기37바1346', '경기37바1346', '경기37바1348', '경기37바1350', '경기37바1351', '경기37바1351', '경기37바1361', '경기37바1363', '경기37바1364', '경기37바1364', '경기37바1364', '경기37바1366', '경기37바1377', '경기37바1379', '경기37바1382', '경기37바1382', '경기37바1382', '경기37바1382', '경기37바1382', '경기37바1382', '경기37바1382', '경기37바1383', '경기37바1387', '경기37바1391', '경기37바1400', '경기37바1400', '경기37바1400', '경기37바1400', '경기37바1419', '경기37바1423', '경기37바1423', '경기37바1423', '경기37바1424', '경기37바1425', '경기37바1426', '경기37바1428', '경기37바1428', '경기37바1428', '경기37바1433', '경기37바1443', '경기37바1444', '경기37바1444', '경기37바1446', '경기37바1451', '경기37바1621', '경기37바1621', '경기37바1622', '경기37바1623', '경기37바1623', '경기37바1624', '경기37바1624', '경기37바1633', '경기37바1646', '경기37바1661', '경기37바1666', '경기37바1669', '경기37바1674', '경기37바1676', '경기37바1679', '경기37바1679', '경기37바1679', '경기37바1679', '경기37바1679', '경기37바1679', '경기37바1679', '경기37바1679', '경기37바1679', '경기37바1679', '경기37바1682', '경기37바1684', '서울37바1684', '경기37바1692', '경기37바1692', '경기37바1692', '경기37바1700', '경기37바1700', '경기37바1700', '경기37바1707', '경기37바1709', '경기37바1709', '경기37바1714', '경기37바1714', '경기37바1716', '경기32바1718', '경기37바1725', '경기37바1743', '경기37바1743', '경기37바1743', '경기37바1743', '경기37바1745', '경기37바1745', '경기37바1745', '경기37바1746', '경기37바1746', '경기37바1746', '경기37바1746', '경기37바1746', '경기37바1746', '경기37바1746', '경기37바1746', '경기37바1746', '경기37바1753', '경기37바1753', '경기37바1753', '경기37바1757', '경기37바1757', '경기37바1757', '경기37바1757', '경기37바1757', '경기37바1757', '경기37바1757', '경기37바1758', '경기37바1791', '경기37바1795', '경기37바1795', '경기37바1797', '경기37바1827', '경기37바1902', '경기37바1904', '경기37바1905', '경기37바1915', '경기37바1920', '경기37바1920', '경기37바1920', '경기37바1926', '경기37바1926', '경기37바1926', '경기37바1926', '경기37바1926', '경기37바1926', '경기37바1935', '경기37바1944', '경기37바1945', '경기37바1945', '경기37바1945', '경기37바1945', '경기37바1945', '경기37바1945', '경기37바1945', '경기37바1952', '경기37바1965', '경기37바1965', '경기37바1969', '경기37바1937', '경기37바1977', '경기37바1977', '경기37바1977', '경기37바1977', '경기37바1977', '경기37바1982', '경기37바1984', '경기37바1996', '경기37바2015', '경기37바2015', '경기37바2038', '경기37바2048', '경기37바2048', '경기37바2048', '경기37바2052', '경기37바2052', '경기37바2069', '경기37바2069', '경기37바2069', '경기37바2082', '경기37바2091', '경기37바2091', '경기37바2092', '경기37바2092', '경기37바2098', '경기37바2113', '경기37바2115', '경기37바2118', '경기37바2118', '경기37바2120', '경기37바2120', '경기37바2120', '경기37바2120', '경기37바2120', '경기37바2120', '경기37바2120', '경기37바2120', '경기37바2121', '경기37바2121', '경기37바2126', '경기37바2126', '경기37바2126', '경기37바2126', '경기37바2126', '경기37바2129', '경기37바213', '경기37바2136', '경기37바2139', '경기37바2146', '경기37바2147', '경기37바2147', '경기37바2155', '경기37바2157', '경기37바2170', '경기37바2180', '경기37바2182', '경기37바2182', '경기37바2183', '경기37바2183', '경기37바2183', '경기37바2183', '경기37바2192', '경기37바2312', '경기37바2336', '경기37바2337', '경기37바2337', '경기37바2345', '경기37바2345', '경기37바2355', '경기37바2361', '경기37바2361', '경기37바2367', '경기37바2367', '경기37바2367', '경기37바2367', '경기37바2370', '경기37바2370', '경기37바2374', '경기37바2374', '경기37바2375', '경기37바2505', '경기37바2508', '경기37바2519', '경기37바2522', '경기37바2522', '경기37바2526', '경기37바2532', '경기37바2532', '경기37바2535', '경기37바2536', '경기37바2536', '경기37바2536', '경기37바2536', '경기37바2536', '경기37바2541', '경기37바2545', '경기37바2546', '경기37바2546', '경기37바2547', '경기37바2550', '경기37바2556', '경기37바2564', '경기37바2569', '경기37바2571', '경기37바2701', '경기37바4002', '경기37바4013', '경기37바4016', '경기37바4019', '경기37바4019', '경기37바4019', '경기37바4020', '경기37바4020', '경기37바4020', '경기37바4020', '경기37바4024', '경기37바4029', '경기37바4029', '경기37바4033', '경기37바4033', '경기37바4033', '경기37바4038', '경기37바4038', '경기37바4040', '경기37바4044', '경기37바4051', '경기37바4066', '경기37바4056', '경기37바4058', '경기37바4060', '경기37바4068', '경기37바4069', '경기37바4071', '경기37바4071', '경기37바4071', '경기37바4076', '경기37바4078', '경기37바4078', '경기37바4079', '경기37바4081', '경기37바4081', '경기37바4095', '경기37바4105', '경기37바4105', '경기37바4114', '경기37바4115', '경기37바4116', '경기37바4120', '경기37바4121', '경기37바4121', '경기37바4128', '경기37바4131', '경기37바4137', '경기37바4132', '경기37바4137', '경기37바4137', '경기37바4143', '경기37바4151', '경기37바4151', '경기37바4151', '경기37바4158', '경기37바4158', '경기37바4158', '경기37바4158', '경기37바4161', '경기37바4161', '경기37바4165', '경기37바4165', '경기37바4165', '경기37바4168', '경기37바4169', '경기37바4169', '경기37바4173', '경기37바4173', '경기37바4173', '경기37바4173', '경기37바4173', '경기37바4173', '경기37바4175', '경기37바4178', '경기37바4178', '경기37바4178', '경기37바4179', '경기37바4184', '경기37바4184', '경기37바4184', '경기37바4185', '경기37바4189', '경기37바4193', '경기37바4193', '경기37바4193', '경기37바4200', '경기37바4208', '경기37바4210', '경기37바4211', '경기37바4214', '경기37바4217', '경기37바4217', '경기37바4217', '경기37바4217', '경기37바4217', '경기37바4223', '경기37바4223', '경기37바4223', '경기37바4228', '경기37바4229', '경기37바4231', '경기37바4233', '경기37바4248', '경기37바4248', '경기37바4249', '경기37바4249', '경기37바4256', '경기37바4267', '경기37바4280', '경기37바4292', '경기37바4292', '경기37바4292', '경기37바4295', '경기37바4299', '경기37바4302', '경기37바4304', '경기37바4304', '경기37바4304', '경기32바4309', '경기37바4313', '경기37바4314', '경기37바4314', '경기37바4315', '경기37바4315', '경기37바4316', '경기37바4316', '경기37바4316', '경기37바4318', '경기37바4319', '경기37바4320', '경기37바4323', '경기37바4323', '경기37바4332', '경기37바4332', '경기37바4332', '경기37바4341', '경기37바4341', '경기37바4346', '경기37바4357', '경기37바4357', '경기37바4357', '경기37바4357', '경기37바4357', '경기37바4357', '경기37바4358', '경기37바4358', '경기37바4358', '경기37바4359', '경기37바4360', '경기37바4360', '경기37바4367', '경기37바4379', '경기37바4380', '경기37바4385', '경기37바4385', '경기37바4387', '경기37바4387', '경기37바4387', '경기37바4388', '경기37바4388', '경기37바4395', '경기37바4396', '경기37바4396', '경기37바4399', '경기37바4402', '경기37바4405', '경기37바4405', '경기37바4405', '경기37바4408', '경기37바4408', '경기37바4408', '경기37바4409', '경기37바4409', '경기37바4409', '경기37바4409', '경기37바4409', '경기37바4420', '경기37바4420', '경기37바4420', '경기37바4427', '경기37바4427', '경기37바4437', '경기37바4437', '경기37바4442', '경기37바465', '경기37바4446', '경기37바4446', '경기37바4446', '경기37바4446', '경기37바4449', '경기37바4451', '경기37바4459', '경기37바4459', '경기37바4459', '경기37바4463', '경기37바4463', '경기37바4469', '경기37바4472', '경기37바4472', '경기37바4472', '경기37바4475', '경기37바4476', '경기37바4479', '경기37바4479', '경기37바4481', '경기37바4483', '경기37바4483', '경기37바4485', '경기37바4488', '경기37바4489', '경기37바4494', '경기37바4496', '경기37바4497', '경기37바4497', '경기37바4498', '경기37바4498', '경기37바4498', '경기37바4498', '경기37바4504', '경기37바4504', '경기37바4505', '경기37바4516', '경기37바4521', '경기37바4521', '경기37바4521', '경기37바4521', '경기37바4521', '경기37바4523', '경기37바4528', '경기37바4530', '경기37바4530', '경기37바4532', '경기37바4532', '경기37바4514', '경기37바4542', '경기37바4542', '경기37바4546', '경기37바4549', '경기37바4553', '경기37바4556', '경기37바4561', '경기37바4561', '경기37바4571', '경기37바4575', '경기37바4579', '경기37바4582', '경기37바4582', '경기37바4589', '경기37바4593', '경기37바4593', '경기37바4609', '경기37바4613', '경기37바4613', '경기37바4613', '경기37바4613', '경기37바6614', '경기37바4614', '경기37바4626', '경기37바4626', '경기37바4626', '경기37바4626', '경기37바4626', '경기37바4627', '경기37바4628', '경기37바4628', '경기37바4636', '경기37바4636', '경기37바4640', '경기37바4642', '경기37바4644', '경기37바4644', '경기37바4644', '경기37바4647', '경기37바4642', '경기37바4617', '경기37바4647', '경기37바4655', '경기37바4658', '경기37바4659', '경기37바4664', '경기37바4664', '경기37바4664', '경기37바4668', '경기37바4668', '경기37바4670', '경기37바4670', '경기37바4674', '경기37바4680', '경기37바4682', '경기37바4687', '경기37바4690', '경기37바4691', '경기37바4691', '경기37바4694', '경기37바4698', '경기37바4709', '경기37바4711', '경기37바4711', '경기37바4713', '경기37바4718', '경기37바4718', '경기37바4718', '경기37바4718', '경기37바4727', '경기37바4727', '경기37바4733', '경기37바4735', '경기37바4738', '경기37바4738', '경기37바4738', '경기37바4738', '경기37바4743', '경기37바4746', '경기37바4750', '경기37바4750', '경기37바4751', '경기37바4752', '경기37바4761', '경기37바4761', '경기37바4763', '경기37바4763', '경기37바4766', '경기37바4769', '경기37바4769', '경기37바4782', '경기37바4782', '경기37바4786', '경기37바4786', '경기37바4789', '경기37바4789', '경기37바4794', '경기37바4795', '경기37바4799', '경기37바4799', '경기37바4806', '경기37바4811', '경기37바4812', '경기37바4812', '경기37바4812', '경기37바4812', '경기37바4812', '경기37바4814', '경기37바4814', '경기37바4815', '경기37바4821', '경기37바4823', '경기37바4823', '경기37바4824', '경기37바4826', '경기37바4826', '경기37바4826', '경기37바4826', '경기37바4826', '경기37바4829', '경기37바4829', '경기37바4829', '경기37바4838', '경기37바4839', '경기37바4841', '경기37바4841', '경기37바4844', '경기37바4844', '경기37바4847', '경기37바4850', '경기37바4850', '경기37바4850', '경기37바4850', '경기37바4850', '경기37바4854', '경기37바4855', '경기37바4857', '경기37바4862', '경기37바4862', '경기37바4867', '경기37바4869', '경기37바4869', '경기37바4872', '경기37바4879', '경기37바4879', '경기37바4879', '경기37바4879', '경기37바4879', '경기37바4880', '경기37바4880', '경기37바4880', '경기32바689', '경기37바4880', '경기37바4819', '경기37바4900', '경기37바4902', '경기37바4902', '경기37바4904', '경기37바4911', '경기37바4916', '경기37바4928', '경기37바4934', '경기37바4938', '경기37바4939', '경기37바4939', '경기37바4939', '경기37바4944', '경기37바4944', '경기37바4956', '경기37바4958', '경기37바4959', '경기37바4960', '경기37바4962', '경기37바4963', '경기37바4963', '경기37바4967', '경기37바4968', '경기37바4968', '경기37바4970', '경기37바4970', '경기37바4980', '경기37바4980', '경기37바4980', '경기37바4985', '경기37바4986', '경기37바4989', '경기37바4992', '경기37바4992', '경기37바4992', '경기37바4993', '경기37바4993', '경기37바4993', '경기37바4994', '경기37바4995', '경기37바4998', '경기37바5011', '경기37바5013', '경기37바5013', '경기37바5024', '경기37바5026', '경기37바5026', '경기37바5026', '경기37바5026', '경기37바5032', '경기37바5033', '경기37바5036', '경기37바5037', '경기37바5040', '경기37바5040', '경기37바5040', '경기37바5041', '경기37바5045', '경기37바5046', '경기37바5050', '경기37바5050', '경기37바5050', '경기37바5050', '경기37바5050', '경기37바5055', '경기37바5055', '경기37바5056', '경기37바5056', '경기37바5056', '경기37바5058', '경기37바5064', '경기37바5066', '경기37바5071', '경기37바5076', '경기37바5076', '경기37바5076', '경기37바5087', '경기37바5089', '경기37바5092', '경기37바5099', '경기37바5100', '경기37바5109', '경기37바5115', '경기37바5121', '경기37바5121', '경기37바5123', '경기37바5123', '경기37바5124', '경기37바5124', '경기37바5125', '경기37바5126', '경기37바512', '경기37바5133', '경기37바5134', '경기37바5137', '경기37바5137', '경기37바5139', '경기37바5140', '경기37바5140', '경기37바5141', '경기37바5144', '경기37바5146', '경기37바5154', '경기37바5162', '경기37바5163', '경기37바5164', '경기37바5172', '경기37바5172', '경기37바5172', '경기37바5172', '경기37바5174', '경기37바5176', '경기37바5177', '경기37바5177', '경기37바5178', '경기37바5178', '경기37바5181', '경기37바5184', '경기37바5191', '경기37바5191', '경기37바5192', '경기37바5192', '경기37바5192', '경기37바5192', '경기37바5192', '경기37바5193', '경기37바5193', '경기37바5193', '경기37바5204', '경기37바5206', '경기37바5216', '경기37바5216', '경기37바5216', '경기37바5224', '경기37바5226', '경기37바5231', '경기37바5233', '경기37바5237', '경기37바5237', '경기37바5238', '경기37바5238', '경기37바5238', '경기37바5238', '경기37바5246', '경기37바5247', '경기37바5248', '경기37바5248', '경기37바5251', '경기37바5257', '경기37바5268', '경기37바5268', '경기37바5270', '경기37바5275', '경기37바5276', '경기37바5276', '경기37바5276', '경기37바5276', '경기37바5276', '경기37바5276', '경기37바5276', '경기37바5276', '경기37바5280', '경기37바5289', '경기37바5289', '경기37바5289', '경기37바5289', '경기37바5289', '경기37바5289', '경기37바5294', '경기37바5294', '경기37바5296', '경기37바5300', '경기37바5302', '경기37바5307', '경기37바5309', '경기37바5311', '경기37바5313', '경기37바5314', '경기37바5315', '경기37바5315', '경기37바5315', '경기37바5329', '경기37바5337', '경기37바5337', '경기37바5340', '경기37바5342', '경기37바5345', '경기37바5354', '경기37바5354', '경기37바5358', '경기37바5361', '경기37바5361', '경기37바5363', '경기37바5375', '경기37바5375', '경기37바5377', '경기37바5377', '경기37바5379', '경기37바5379', '경기37바5380', '경기37바5384', '경기37바5385', '경기37바5385', '경기37바5385', '경기37바5385', '경기37바5392', '경기37바5392', '경기37바5392', '경기37바5392', '경기37바5414', '경기37바5419', '경기37바5419', '경기37바5420', '경기37바5425', '경기37바5433', '경기37바5434', '경기37바5436', '경기37바5457', '경기37바5460', '경기37바5462', '경기37바5462', '경기37바5462', '경기37바5463', '경기37바5472', '경기37바5480', '경기37바5483', '경기37바5483', '경기37바5504', '경기37바5504', '경기37바5512', '경기37바5513', '경기37바5513', '경기37바5515', '경기37바5515', '경기37바5518', '경기37바5523', '경기37바5524', '경기37바5524', '경기37바5531', '경기37바5531', '경기37바553', '경기37바5531', '경기37바5531', '경기37바5533', '경기37바5533', '경기37바5535', '경기37바5537', '경기37바5537', '경기37바5543', '경기37바5545', '경기37바5545', '경기37바5545', '경기37바5549', '경기37바5549', '경기37바5549', '경기37바5549', '경기37바5552', '경기37바5561', '경기37바5561', '경기37바5561', '경기37바5561', '경기37바5566', '경기37바5566', '경기37바5566', '경기37바5567', '경기37바5571', '경기37바5571', '경기37바5571', '경기37바5571', '경기37바5574', '경기37바5577', '경기37바5577', '경기37바5577', '경기37바5577', '경기37바5577', '경기37바5577', '경기37바5582', '경기37바5583', '경기37바5584', '경기37바5586', '경기37바5587', '경기37바5587', '경기37바5587', '경기37바5587', '경기37바5594', '경기37바5595', '경기37바5595', '경기37바5596', '경기37바5596', '경기37바5596', '경기37바5596', '경기37바5599', '경기37바5599', '경기37바5606', '경기37바568', '경기37바5606', '경기37바5608', '경기37바5611', '경기37바5614', '경기37바5615', '경기37바5615', '경기37바5616', '경기37바5617', '경기37바5618', '경기37바5619', '경기37바5625', '경기37바5629', '경기37바5630', '경기37바5630', '경기37바5630', '경기37바5631', '경기37바5633', '경기37바5633', '경기37바5636', '경기37바5636', '경기37바5636', '경기37바5636', '경기37바5641', '경기37바5641', '경기37바5641', '경기37바5641', '경기37바5641', '경기37바5643', '경기37바5643', '경기37바5643', '경기37바5643', '경기37바5643', '경기37바5643', '경기37바5645', '경기37바5646', '경기37바5646', '경기37바5652', '경기37바5657', '경기37바5660', '경기37바566', '경기37바5662', '경기37바5663', '경기37바5663', '경기37바5663', '경기37바5663', '경기37바5667', '경기37바5668', '경기37바5671', '경기37바5672', '경기37바5673', '경기37바5674', '경기37바5674', '경기37바5674', '경기37바5674', '경기37바5677', '경기37바5679', '경기37바5680', '경기37바5683', '경기37바5683', '경기37바5685', '경기37바5686', '경기37바5686', '경기37바5686', '경기37바5687', '경기37바5688', '경기37바5688', '경기37바5688', '경기37바5692', '경기37바5692', '경기37바5692', '경기37바5701', '경기37바5701', '경기37바5704', '경기37바5704', '경기37바5709', '경기37바5710', '경기37바5710', '경기37바5710', '경기37바5710', '경기37바5710', '경기37바5713', '경기37바5714', '경기37바5715', '경기37바5715', '경기37바5715', '경기37바5718', '경기37바5723', '경기37바5723', '경기37바5725', '경기37바5733', '경기37바5736', '경기37바5737', '경기37바5737', '경기37바5737', '경기37바5746', '경기37바5747', '경기37바5747', '경기37바5752', '경기37바5752', '경기37바5752', '경기37바5768', '경기37바5768', '경기37바5768', '경기37바5769', '경기37바5777', '경기37바5777', '경기37바5777', '경기37바577', '경기37바5780', '경기37바5789', '경기37바5797', '경기37바5805', '경기37바5808', '경기37바5810', '경기37바5816', '경기37바5819', '경기37바5823', '경기37바5826', '경기37바5829', '경기37바5830', '경기37바5830', '경기37바5834', '경기37바5834', '경기37바5834', '경기37바5834', '경기37바5834', '경기37바5834', '경기37바5835', '경기37바5835', '경기37바5835', '경기37바5838', '경기37바5839', '경기37바5845', '경기37바5845', '경기37바5848', '경기37바5849', '경기37바5850', '경기37바5852', '경기37바5855', '경기37바5858', '경기37바5858', '경기37바5858', '경기37바5860', '경기37바5860', '경기37바5860', '경기37바5860', '경기37바5863', '경기37바5864', '경기37바5869', '경기37바5871', '경기37바5872', '경기37바5873', '경기37바5873', '경기37바5875', '경기37바5876', '경기37바5876', '경기37바5882', '경기37바5882', '경기37바5883', '경기37바5883', '경기37바5886', '경기37바586', '경기37바586', '경기37바5890', '경기37바5890', '경기37바5893', '경기37바5894', '경기37바5893', '경기37바5893', '경기37바5893', '경기37바5896', '경기37바5896', '경기37바5896', '경기37바5899', '경기37바5899', '경기37바5903', '33버5903', '경기37바5905', '경기37바5915', '경기37바5916', '경기37바5922', '경기37바5926', '경기37바5926', '경기37바5930', '경기37바5930', '경기37바5930', '경기37바5930', '경기37바5930', '경기37바5930', '경기37바5931', '경기37바5935', '경기37바5937', '경기37바5943', '경기37바5944', '경기37바5946', '경기37바5954', '경기37바5954', '경기37바5954', '경기37바5954', '경기37바5955', '경기37바5956', '경기37바5958', '경기37바5965', '경기37바5972', '경기37바5974', '경기37바5974', '경기37바5974', '경기37바5977', '경기37바5978', '경기37바5990', '경기37바5991', '경기37바5995', '경기37바6002', '경기37바6002', '경기37바6011', '경기37바6012', '경기37바6012', '경기37바6012', '경기37바6012', '경기37바6019', '경기37바6019', '경기37바6019', '경기37바6019', '경기37바6019', '경기37바6019', '경기37바6021', '경기37바6023', '경기37바6023', '경기37바6026', '경기37바6027', '경기37바6036', '경기37바6038', '경기37바6041', '경기37바6041', '경기37바6044', '경기37바6044', '경기37바6044', '경기37바6044', '경기37바6048', '경기37바6048', '경기37바6048', '경기37바6049', '경기37바6049', '경기37바6049', '경기37바6049', '경기37바6052', '경기37바6052', '경기37바6052', '경기37바6052', '경기37바6052', '경기37바6052', '경기37바6052', '경기37바6052', '경기37바6052', '경기37바6052', '경기37바6052', '경기37바6052', '경기37바6052', '경기37바6052', '경기37바6052', '경기37바6052', '경기37바6052', '경기37바6052', '경기37바6052', '경기37바6054', '경기37바6065', '경기37바6068', '경기37바6068', '경기37바6068', '경기37바6068', '경기37바6071', '경기37바6071', '경기37바6071', '경기37바6072', '경기37바6072', '경기37바6082', '경기37바6082', '경기37바6083', '경기37바6083', '경기37바6086', '경기37바6086', '경기37바6086', '경기37바6086', '경기37바6092', '157머4847', '경기37바6094', '경기37바6095', '경기37바6095', '경기37바6095', '경기37바6096', '경기37바6096', '경기37바6100', '경기37바6101', '경기37바6103', '경기37바6103', '경기37바6104', '경기37바6106', '경기37바6107', '경기37바6107', '경기37바6111', '경기37바6111', '경기37바6115', '경기37바6115', '경기37바6116', '경기37바6120', '경기37바6126', '경기37바6127', '경기37바6127', '경기37바6128', '경기37바6131', '경기37바6131', '경기37바6131', '경기37바6131', '경기37바6131', '경기37바6133', '경기37바6133', '경기37바6140', '경기37바6141', '경기37바6149', '경기37바6158', '경기37바6160', '경기37바6160', '경기37바6160', '경기37바6160', '경기37바6162', '경기37바6164', '경기37바6165', '경기37바6166', '경기37바6166', '경기37바6166', '경기37바6166', '경기37바6166', '경기37바6173', '경기37바6174', '경기37바6184', '경기37바6190', '경기37바6195', '경기37바6196', '경기37바6211', '경기37바6211', '경기37바6213', '경기37바6213', '경기37바6213', '경기37바6216', '경기37바6216', '경기37바6217', '경기37바6218', '경기37바6218', '경기37바6221', '경기37바6224', '경기37바6232', '경기37바6232', '경기37바6232', '경기37바6233', '경기37바6236', '경기37바6236', '경기37바6236', '경기37바6238', '경기37바6243', '경기37바6243', '경기37바6243', '경기37바6243', '경기37바6243', '경기37바6244', '경기37바6245', '경기37바6247', '경기37바6247', '경기37바6247', '경기37바6247', '경기37바6247', '경기37바6247', '경기37바6247', '경기37바6251', '경기37바6251', '경기37바6254', '경기37바6254', '경기37바6254', '경기37바6254', '경기37바6254', '경기37바6258', '경기37바6259', '경기37바6259', '경기37바6259', '경기37바6259', '경기37바6259', '경기37바6261', '경기37바6262', '경기37바6262', '경기37바6266', '경기37바6269', '경기37바6269', '경기37바6269', '경기37바6274', '경기37바624', '경기37바6278', '경기37바6282', '경기37바6285', '경기37바6285', '경기37바6285', '경기37바6285', '경기37바6285', '경기37바6285', '경기37바6287', '경기37바6290', '경기37바6291', '경기37바6291', '경기37바6292', '경기37바6293', '경기37바6296', '경기37바6296', '경기37바6296', '경기37바6300', '경기37바6300', '경기37바6300', '경기37바6300', '경기37바6300', '경기37바6300', '경기37바6300', '경기37바6304', '경기37바6305', '경기37바6307', '경기37바6315', '경기37바6324', '경기37바6324', '경기37바6324', '경기37바6328', '경기37바6329', '경기37바6329', '경기37바6329', '경기37바6329', '경기37바6331', '경기37바6331', '경기37바6338', '경기37바6339', '경기37바6339', '경기37바6339', '경기37바6342', '경기37바6342', '경기37바6344', '경기37바6345', '경기37바6364', '경기37바6371', '경기37바6376', '경기37바6378', '경기37바6383', '경기37바6383', '경기37바6383', '경기37바6383', '경기37바6384', '경기37바6384', '경기37바6384', '경기37바6384', '경기37바6384', '경기37바6384', '경기37바6384', '경기37바6384', '경기37바6389', '경기37바6390', '경기37바6390', '경기37바6400', '경기37바6412', '경기37바6415', '경기37바6415', '경기37바6415', '경기37바6418', '경기37바6419', '경기37바6420', '경기37바6420', '경기37바6420', '경기37바6420', '경기37바6420', '경기37바6420', '경기37바6420', '경기37바6420', '경기37바6421', '경기37바6421', '경기37바6421', '경기37바634', '경기37바6424', '경기37바6429', '경기37바6432', '경기37바6432', '경기37바6432', '경기37바6432', '경기37바6435', '경기37바6435', '경기37바6235', '경기37바6435', '경기37바6435', '경기37바6435', '경기37바6437', '경기37바6438', '경기37바6446', '경기37바6449', '경기37바6453', '경기37바6455', '경기37바6457', '경기37바6461', '경기37바6466', '경기37바6467', '경기37바6467', '경기37바6467', '경기37바6470', '경기37바6472', '경기37바6474', '경기37바6477', '경기37바6478', '경기37바6484', '경기37바6494', '경기37바6497', '경기37바6501', '경기37바6501', '경기37바6502', '경기37바6502', '경기37바6511', '경기37바6511', '경기37바6511', '경기37바6514', '경기37바6515', '경기37바6515', '경기37바6517', '경기37바6517', '경기37바6517', '경기37바6527', '경기37바6527', '경기37바6528', '경기37바6528', '경기37바6528', '경기37바6530', '경기37바6530', '경기37바6531', '경기37바6531', '경기37바6532', '경기37바6532', '경기37바6533', '경기37바6533', '경기37바6543', '경기37바6543', '경기37바6543', '경기37바6548', '경기37바6550', '경기37바6551', '경기37바6551', '경기37바6554', '경기37바6555', '경기37바6559', '경기37바6562', '경기37바6564', '경기37바6564', '경기37바6565', '경기37바6565', '경기37바6565', '경기37바6568', '경기37바6568', '경기37바6580', '경기37바6582', '경기37바6583', '경기37바6583', '경기37바6583', '경기37바6583', '경기37바6583', '경기37바6587', '경기37바6587', '경기37바6587', '경기37바6589', '경기37바6593', '경기37바6594', '경기37바6595', '경기37바6595', '경기37바6595', '경기37바6596', '경기37바6596', '경기37바6596', '경기37바6597', '경기37바6597', '경기37바6601', '경기37바6606', '경기37바6606', '경기37바6606', '경기37바6606', '경기37바6606', '경기37바6608', '경기37바6616', '경기37바6618', '경기37바6619', '경기37바6620', '경기37바6624', '경기37바6625', '경기37바6625', '경기37바6629', '경기37바6632', '경기37바6635', '경기37바6635', '경기37바6635', '경기37바6635', '경기37바6635', '경기37바6644', '경기37바6648', '경기37바6648', '경기37바6652', '경기37바6656', '경기37바6656', '경기37바6656', '경기37바6656', '경기37바6656', '경기37머6659', '경기37바6659', '경기37바6659', '경기37바6661', '경기37바6661', '경기37바6662', '경기37바6662', '경기37바6662', '경기37바6662', '경기37바6664', '경기37바6670', '경기37바6675', '경기37바6675', '경기37바6677', '경기37바6677', '경기37바6677', '경기37바6682', '경기37바6692', '경기37바6696', '경기37바6696', '경기37바6698', '경기37바6698', '경기37바6701', '경기37바6701', '경기37바6723', '경기37바6725', '경기37바6728', '경기37바6732', '경기37바6733', '경기37바6733', '경기37바6733', '경기37바6733', '경기37바6735', '경기37바6738', '경기37바6743', '경기37바6743', '경기37바6743', '경기37바6743', '경기37바6743', '경기37바6743', '경기37바6745', '경기37바6745', '경기37바6745', '경기37바6745', '경기37바6745', '경기37바6749', '경기37바6749', '경기37바6752', '경기37바62753', '경기37바6753', '경기37바6753', '경기37바6753', '경기37바6756', '경기37바6757', '경기37바6758', '경기37바6758', '경기37바6772', '경기37바6777', '경기37바6780', '경기37바6783', '경기37바6784', '경기37바6788', '경기37바6792', '경기37바6794', '경기37바6793', '경기37바6804', '경기37바6808', '경기37바6809', '경기37바6827', '경기37바6827', '경기37바6827', '경기37바6836', '경기37바6843', '경기37바6843', '경기37바6843', '경기37바6847', '경기37바6847', '경기37바6849', '경기37바6851', '경기37바6856', '경기37바6857', '경기37바6857', '경기37바6857', '경기37바6861', '경기37바6862', '경기37바6864', '경기37바6865', '경기37바6865', '경기37바6868', '경기37바56199', '경기38거6075', '경기38거6875', '경기8743918', '경기8나7809', '경기37바5385', '경기39바1003', '경기42바4954', '경기50바4547', '경기51바2056', '경기51바2072', '경기51바3047', '경기51바4195', '경기51바4223', '경기51바4279', '경기51바4439', '경기51바4489', '경기51바5028', '경기51바5065', '경기51바5208', '경기51바5274', '서울80더2831', '3고41891', '경기71고8982', '경기71고8982', '경기71고8982', '경기71고8982', '경기73로5073', '경기71바7769', '경기71바7769', '경기71아1018', '경기71아1018', '경기71아1020', '경기71아1020', '경기71아1020', '경기71아1021', '경기71아1039', '경기71아1057', '경기71아1070', '경기71아1070', '경기71아1071', '경기71아1086', '경기71아1098', '경기71아1098', '경기71아1098', '경기71아1098', '경기71아1099', '경기71아1099', '경기71아1104', '경기71아1104', '경기71아1104', '경기71아1106', '경기71아1106', '경기71아1106', '경기71아1106', '경기71아1106', '경기71아1106', '경기71아1121', '경기71아1123', '경기71아1137', '경기71아1137', '경기71아1139', '경기71아1139', '경기71아1151', '경기71아1151', '경기71아1213', '경기71아1215', '경기71아1241', '경기71아1244', '경기71아1261', '경기71아1262', '경기71아1263', '경기71아1263', '경기71아1264', '경기71아1266', '경기71아1267', '경기71아1267', '경기71아1267', '경기71아1276', '경기71아1276', '경기71아1284', '경기71아1292', '경기71아1296', '경기71아1296', '경기71아1298', '경기71아1310', '경기71아1311', '경기71아1311', '경기83아1355', '경기71아1355', '경기71아1358', '경기71아1358', '경기71아1358', '경기71아1366', '경기71아1366', '경기71아1368', '경기71아1369', '경기71아1372', '경기71아1374', '경기71아1374', '경기71아1374', '경기71아1324', '경기71아1375', '경기71아1375', '경기71아1375', '경기71아1382', '경기71아1382', '경기71아1386', '경기71아1386', '경기71아1386', '경기71아1386', '경기71아1387', '경기71아1387', '경기71아1387', '경기71아1387', '경기71아1387', '경기71아1389', '경기71아1390', '경기71아1437', '경기71아1437', '경기71아1438', '경기71아1438', '경기71아1443', '경기71아1443', '경기71아1444', '경기71아1444', '경기71아1444', '경기71아1444', '경기71아1446', '경기71아1446', '경기71아1446', '경기71아1446', '경기71아1447', '경기71아1447', '경기71아1447', '경기71아1447', '경기71아1448', '경기71아1448', '경기71아1449', '경기71아1453', '경기71아1453', '경기71아1455', '경기71아1458', '경기71아1458', '경기71아1462', '경기71아1462', '경기71아1462', '경기71아1463', '경기71아1670', '경기71아1470', '경기71아1470', '경기71아1499', '경기71아1499', '경기71아1503', '경기71아1503', '경기71아1503', '경기71아1503', '경기71아1512', '경기71아1514', '경기71아1516', '경기71아1516', '경기71아1528', '경기71아1530', '경기71아1530', '경기71아1530', '경기71아1531', '경기71아1538', '경기71아1549', '경기71아1550', '경기71아1550', '경기71아1565', '경기71558', '경기71아1561', '경기71아1563', '경기71아1567', '경기71아1871', '경기71아1575', '경기71아1577', '경기71아1685', '경기71아1588', '경기71아1593', '경기71아1601', '경기71아1609', '경기71아1623', '경기71아1623', '경기71아1623', '경기71아1623', '경기71아1623', '경기71아1623', '경기71아1623', '경기71아1623', '경기71아1623', '경기71아1623', '경기71아1623', '경기71아1623', '경기71아1623', '경기71아1623', '경기71아1624', '경기71아1624', '경기71아1624', '경기71아1624', '경기71아1624', '경기71아1624', '경기71아1624', '경기71아1624', '경기71아1624', '경기71아1624', '경기71아1624', '경기71아1624', '경기71아1624', '경기71아1625', '경기71아1625', '경기71아1625', '경기71아1625', '경기71아1625', '경기71아1625', '경기71아1625', '경기71아1625', '경기71아1625', '경기71아1625', '경기71아1625', '경기71아1625', '경기71아1625', '경기71아1625', '경기71아1625', '경기71아1626', '경기71아1626', '경기71아1626', '경기71아1626', '경기71아1626', '경기71아1626', '경기71아1626', '경기71아1626', '경기71아1626', '경기71아1626', '경기71아1626', '경기71아1628', '경기71아1638', '경기71아1640', '경기71아1645', '경기71아1645', '경기71아2078', '경기71아2078', '경기71아2078', '경기71아2084', '경기71아2085', '경기71아2091', '경기93아3007', '경기71아3009', '경기71아3009', '경기71아3011', '경기71아3062', '경기71아3064', '경기71아3065', '경기71아3065', '경기71아3065', '경기71아3074', '경기71아3078', '경기71아3079', '경기71아3081', '경기71아3081', '경기71아3081', '경기71아3085', '경기71아3089', '경기71아3089', '경기71아3115', '경기37아3116', '경기71아3118', '경기71아3124', '경기71아3124', '경기71아3125', '경기71아3127', '경기71아3127', '경기71아3127', '경기71아3128', '경기71아3128', '경기71아8128', '경기71아3128', '경기71아3129', '경기71아3137', '경기71아3137', '경기71아3139', '경기71아3139', '경기71아3139', '경기71아3139', '경기71아3140', '경기71아3141', '경기71아3141', '경기73아3143', '경기71아3145', '경기71아3146', '경기71아3147', '경기71아3148', '경기81아3148', '경기71아3148', '경기71아3148', '경기71아3148', '경기71아3152', '경기71아3154', '경기71아3156', '경기71아3166', '경기71아3160', '경기71아3160', '경기71아3161', '경기71아3161', '경기71아3161', '경기71아3501', '경기71아3507', '경기71아3507', '경기71아3511', '경기71아3518', '경기71아3518', '경기71아3518', '경기71아3523', '경기71아3531', '경기71아3533', '경기71아3533', '경기71아3534', '경기71아3538', '경기71아3548', '경기71아3548', '경기71아3548', '경기71아3550', '경기71아3555', '경기71아3561', '경기71아3561', '경기71아3562', '경기71아3562', '경기71아3562', '경기71아3563', '경기71아3564', '경기71아3564', '경기71아3573', '경기71아3575', '경기71아3576', '경기71아3579', '경기71아3582', '경기71아3583', '경기71아3583', '경기71아3584', '경기71아3594', '경기71아3609', '경기71아3609', '경기71아3611', '경기71아3623', '경기71아3623', '경기71아3623', '경기71아3623', '경기71아3625', '경기71아3627', '경기71아3628', '경기71아3638', '경기71아3639', '경기71아3639', '경기71아3640', '경기71아3640', '경기71아3642', '경기71아3643', '경기71아3645', '경기71아3645', '경기71아3646', '경기71아3646', '경기71아3646', '경기71아3648', '경기71아3648', '경기71아3649', '경기71아3650', '경기71아3650', '경기71아3654', '경기71아3659', '경기71아3668', '경기71아3668', '경기71아3669', '경기71아3669', '경기71아3670', '경기71아3672', '경기71아3676', '경기71아3682', '경기71아3682', '경기71아3682', '경기71아3682', '경기71아3683', '경기71아3683', '경기71아3685', '경기71아3685', '경기71아3685', '경기71아3685', '경기71아3685', '경기71아3686', '경기71아3686', '경기71아3687', '경기71아3694', '경기71아3694', '경기71아3695', '경기71아3695', '경기71아3701', '경기71아3702', '경기71아3702', '경기71아3704', '경기71아3715', '경기71아3718', '경기71아6206', '경기71아6208', '경기71아6208', '경기71아6208', '경기71아6212', '경기71아6212', '경기71아6218', '경기76아6223', '경기71아6234', '경기71아6241', '경기71아6241', '경기71아6601', '경기71아6601', '경기71아6601', '경기71아6602', '경기71아6603', '경기71아6606', '경기71아6608', '경기71아6609', '경기71아6614', '경기71아6614', '경기71아6615', '경기71아6700', '경기71아6700', '경기71아6700', '경기71아6700', '경기71아6700', '경기71아6700', '경기71아6700', '경기71아6700', '경기71아6700', '경기71아6701', '경기71아6701', '경기71아6701', '경기71아6701', '경기71아6701', '경기71아6702', '경기71아6702', '경기71아6702', '경기71아6703', '경기71아6703', '경기71아6703', '경기78아7136', '경기71아8005', '경기71아8005', '경기71아8005', '경기71아8011', '경기71아8012', '경기71아8019', '경기71아8019', '경기71아8020', '경기71아8081', '경기71아8036', '경기71아8036', '경기71아8040', '경기71아8042', '경기71아8043', '경기71아8048', '경기71아8050', '경기71아8057', '경기71아8060', '경기71아8063', '경기71아8074', '경기71아8077', '경기71아8080', '경기71아8081', '경기71아8084', '경기71아8084', '경기71아8084', '경기71아8085', '경기71아8116', '경기71아8117', '경기71아8118', '경기71아8130', '경기71아8130', '경기71아8130', '경기71아8130', '경기71아8130', '경기71아8130', '경기71아8137', '경기71아8141', '경기71아8142', '경기71아8164', '경기71아8145', '경기71아8146', '경기71아8149', '경기71아8152', '경기71아8152', '경기71아8153', '경기71아8153', '경기71아8153', '경기71아8153', '경기71아8153', '경기71아8154', '경기72자8154', '경기71아8157', '경기71아8163', '경기71아8167', '경기71아8167', '경기71아8179', '경기71아8180', '경기71아8186', '경기71아8186', '경기71아8189', '경기71아8190', '경기71아8190', '경기71아8190', '경기71아8232', '경기71아8232', '경기71아8233', '경기71아8241', '경기71아8244', '경기71아8408', '경기71아8409', '경기71아8411', '경기71아8419', '경기71아8420', '경기71아8508', '경기71아8508', '경기71아8510', '경기71아8512', '경기71아8512', '경기71아8515', '경기71아8515', '경기71아8522', '경기71아8522', '경기71아8522', '경기71아8529', '경기71아8522', '경기71아8524', '경기71아8526', '경기71아8527', '경기71아8553', '경기71자8408', '경기71자8443', '경기71자8468', '경기71자8469', '경기71자8469', '경기71자8479', '경기71자8485', '경기71자8657', '경기71자8658', '경기71자8658', '경기71자8659', '경기71자8666', '경기71자8674', '경기71자8674', '경기71자8679', '경기91자8679', '경기75바1051', '경기73바1055', '경기73바1055', '경기73바1152', '경기73바1152', '경기73바1314', '경기73바1358', '경기75바1510', '경기73바1513', '경기73바1597', '경기73바1648', '경기73바1648', '경기73바1648', '경기73바1648', '경기73바1655', '경기73바1693', '경기73바1693', '경기73바7991', '경기73바7991', '경기73아3102', '경기73아3102', '경기73아3110', '경기71아3110', '경기3아3110', '경기73아3119', '경기73아3119', '경기73아3120', '경기71아3121', '경기73아3121', '경기73아3413', '경기73아3414', '경기73아3414', '경기73아3414', '경기71아3414', '경기73아3414', '경기73아3503', '경기71아3503', '경기73아3618', '경기73아3618', '경기73아3618', '경기73아3618', '경기71아3618', '경기73아3618', '경기73아3618', '경기73아3619', '경기71아3619', '경기71아3619', '경기71아3619', '경기71아3665', '경기73아3666', '경기73아3666', '경기73아3666', '경기75바1028', '경기75바1064', '경기75바1067', '경기75바1067', '경기75바1068', '경기75바1068', '경기75바1068', '경기75바1069', '경기75바1069', '경기73바1082', '경기75바1082', '경기75바1084', '경기75바1085', '경기75바1085', '경기73바1093', '경기75바3097', '경기75바3146', '경기75바3147', '경기76아3510', '경기76아6550', '경기76사3016', '경기76자3441', '경기77자5510', '경기78아9263', '경기78아9263', '경기78아9263', '경기78바1123', '경기75바1423', '경기79바1876', '경기79바1876', '경기79바1876', '경기83사3668', '경기79사4711', '경기79사4711', '경기79사4711', '경기79사4711', '경기79사4711', '경기79사4711', '경기79사4711', '경기79사4711', '경기79사4711', '경기79사4711', '경기80바6627', '경기80배1763', '경기80배1763', '경기83사9363', '경기80아1032', '경기80자1287', '경기80자1287', '경기80바3222', '경기81바4446', '경기81바4446', '경기81바4446', '경기81바4950', '경기81바4950', '경기81바4954', '경기81바4954', '경기81바4954', '경기81바4986', '경기82바2750', '경기82바2959', '경기82바2959', '경기82바2959', '경기83바5779', '경기82바8079', '경기82바8079', '경기82바8151', '경기82바8301', '경기82바8301', '경기82바8301', '경기82바8301', '경기82바8301', '경기82바9278', '경기82바9278', '경기83머5774', '경기83바4362', '경기83배1983', '경기83배1021', '경기83배1031', '경기83배1031', '경기83배1031', '경기83배1079', '경기83배1079', '경기83배1109', '경기83배1109', '경기83배1109', '경기83배1115', '경기83배1275', '경기83배1275', '경기83배1275', '경기83배1275', '경기83배1354', '경기83배1354', '경기83배1354', '경기83배1354', '경기83배1354', '경기83배1354', '경기83배1400', '경기83배1400', '경기83배1400', '경기83배1400', '경기83배1489', '경기83배1489', '경기83배1505', '경기83배1511', '경기83바1557', '경기83배1557', '경기83배1557', '경기83배1557', '경기83배1744', '경기83배1752', '경기83배1752', '경기83배1752', '경기83배1752', '경기83배1752', '경기83배1768', '경기83배1768', '경기83배1768', '경기83배1790', '경기83배1793', '경기83배1793', '경기83배1793', '경기83배1793', '경기83배1793', '경기83배1793', '경기83배1793', '경기83배1793', '경기83배1793', '경기83배1793', '경기83배1793', '경기83배1793', '경기83배1793', '경기83배1793', '경기83배1793', '경기83배1793', '경기83배1793', '경기83배1808', '경기83배1800', '경기83배1800', '경기83배1807', '경기83배1807', '경기83배1807', '경기83배1807', '경기83배1807', '경기83배1807', '경기83배1807', '경기83배1807', '경기83배1807', '경기83배1807', '경기83배1807', '경기83배1807', '경기83배1807', '경기83배1807', '경기83배1807', '경기83배1807', '경기83배1807', '경기83배1807', '경기83배1807', '경기83배1813', '경기83배1813', '경기83배1852', '경기83배1852', '경기83배1852', '경기83배1855', '경기83배1864', '경기83배1900', '경기83배1900', '경기83배1900', '경기83배1900', '경기83배1912', '경기83배1912', '경기83배1932', '경기83배1950', '경기83바1950', '경기83배1983', '경기83배1983', '경기83배1983', '경기83배1983', '경기83배1983', '경기83바2008', '경기83바2008', '경기83사3143', '경기83사3897', '경기83사4499', '경기83사5666', '경기83사6158', '경기83사6301', '경기83사6350', '경기83사6522', '경기83사6522', '경기83사6666', '경기83사6754', '경기83사6758', '경기83사6760', '경기83사6762', '경기83사7259', '경기83사7259', '경기83사7454', '경기83사7517', '경기83사7536', '경기83자4872', '경기83자4887', '경기83자4916', '경기81바6406', '경기84배5369', '경기84바5451', '경기83바7832', '경기85바7832', '경기85바7832', '경기85바7832', '경기85사1174', '경기85사2058', '경기95사2115', '경기83사3331', '경기85자5388', '경기85자5388', '경기85자5388', '경기85자5388', '경기85사5388', '경기85자5388', '경기85사2009', '경기86아3001', '경기86아5332', '경기86아5403', '경기87바8780', '경기87바8780', '경기87바8861', '경기83아4471', '경기8사1197', '경기89배1598', '경기82배1598', '경기89배1598', '경기85사5927', '경기89아4357', '경기89아7015', '경기89아7015', '경기89아7015', '경기90아4910', '경기90자6156', '경기90자6156', '경기90자6156', '경기90자6156', '경기90자6156', '경기90자6156', '경기90자6156', '경기90자6156', '경기90자6156', '경기91바7533', '경기91바7533', '경기91바7533', '경기91바7533', '경기91바7533', '경기91사1170', '경기91아6970', '경기91아6970', '경기91자5988', '경기95자5988', '경기91자7815', '경기91자7815', '경기91자7815', '경기91자7815', '경기91자7815', '경기91자7815', '경기91자7815', '경기91자7815', '경기92바1031', '경기92바1031', '경기92바5862', '경기92바6611', '경기92바6611', '경기92바6611', '경기92바6611', '경기92바6611', '경기83아2943', '경기92자5097', '경기92자9436', '경기92자9497', '경기93아2930', '경기93아2930', '경기93아8255', '경기93아8255', '경기94바6235', '경기94바6235', '경기94바6556', '경기94사3163', '경기94사3163', '경기94사5168', '경기94아9276', '경기94자2283', '경기94자3434', '경기94자3467', '경기93자8702', '경기94자8723', '경기95자5627', '경기95자5627', '경기96자6189', '경기98바8757', '경기98사7448', '경기98자8393', '경기99사7533', '경기99사8316', '경기99사8316', '경기고천타0679', '경기부천바7749', '경기부천아7749', '경기부천바9601', '경기부천바9601', '경기부천사3177', '경기부천사3177', '경기부천사3547', '05사284', '경기부천사5847', '경기부천사5928', '경기부천차7059', '경기부천사7808', '경기부천사8307', '경기부천사8407', '경기부천사8653', '경기부천아0292', '경기부천아0467', '경기부천아0682', '경기부천아0821', '경기부천아2024', '경기부천아3837', '경기구로카4837', '경기부천아5323', '경기부천아5628', '경기부천아5628', '경기부천아5628', '경기부천아5628', '경기부천아5628', '경기부천아5628', '경기부천아5628', '경기부천아5628', '경기부천아5628', '경기부천아5628', '경기부천아5628', '경기부천아5628', '경기부천아5628', '경기부천아6305', '경기부천아6305', '경기부천아6305', '경기부천아6375', '경기부천아6741', '경기부천아7352', '경기부평아8612', '경기부천아8905', '경기부천바93948', '경천부천아9430', '경기부천아0361', '경기부천카0393', '경기부천아0542', '경기부천사0604', '경기부천차0116', '경기부천아0110', '경기부천자0442', '경기부천차0810', '서울부천차0205', '경기부천카0876', '경기부천카0921', '경기부천자0980', '경기부천차0183', '인천83바1979', '인천72바1979', '인천73바1979', '인천82바1641', '광주86바6970', '광주86바6970', '충천8아1163', '서울8자8411', '서울31바8089', '서울31사2057', '서울31사3005', '서울31사3071', '서울31사3589', '서울31사9148', '서울31아6840', '서울31아2733', '서울31자1463', '서울31자1463', '서울31사4482', '서울31자5624', '서울31자5785', '서울31사5863', '서울31자6851', '서울32사2490', '서울32사4866', '서울32사7505', '서울32사9721', '서울32아1646', '서울32아2260', '서울32아4628', '서울32아4628', '서울32자1032', '서울32사2995', '서울32자2995', '서울32자4106', '서울32자6447', '서울33바1485', '서울331647', '서울33바3018', '서울33바4342', '서울33사3036', '서울33사3048', '서울33사3091', '서울33사5126', '서울33사5394', '서울33아1894', '서울33아2678', '서울33아3140', '서울33아5331', '서울33아7747', '서울33아8564', '서울33아9405', '서울33자1695', '서울33자3709', '서울33자3709', '서울34사1907', '서울34사7109', '서울34사7168', '서울34사9116', '서울34아5065', '서울34아5259', '서울34아5259', '서울34아5843', '서울34아6026', '서울34아6234', '서울34아8214', '서울34아8299', '서울35아2103', '경울84사929', '3울411484', '서울74사8024', '서울318608', '서울70바6600', '서울83바1098', '서울74바1435', '서울74바1435', '서울74바1435', '서울74바1435', '서울74바1435', '서울74바1435', '서울74바1435', '서울74바1469', '서울74사1381', '서울74사4764', '서울74사4776', '서울74사4782', '서울74사4789', '서울74사4789', '서울74사4789', '서울74사4792', '서울74사4799', '서울74사4801', '서울74사4804', '서울74사4817', '서울74사4817', '서울74사4822', '서울74사4825', '서울74사9574', '서울74사9884', '서울74사9885', '서울74사4788', '서울75사1401', '인울75사1401', '서울75사1406', '서울75사1427', '서울75사1430', '서울75사1955', '서울75사1959', '서울75사1961', '서울80배2668', '서울80배2813', '서울80배2813', '서울80배2813', '서울80배2868', '서울80배2868', '서울80배2868', '서울80배3494', '서울80배4173', '서울80배4173', '서울80배4173', '서울80바6549', '서울80배7573', '서울80바9085', '서울80배9085', '경기80자6752', '서울81배1338', '경기81배2074', '서울8099213', '서울82바5200', '서울82바5200', '서울82바5200', '서울82바7337', '서울82바7370', '서울82바7379', '서울82바7379', '서울82바7379', '서울80바8238', '서울83바1261', '서울83사4695', '서울83사4695', '서울83자3948', '서울83자4078', '서울83자7409', '서울83자7972', '서울83자7972', '서울83자7972', '서울84사4936', '서울84자1710', '서울84자1710', '서울86자9246', '경기82자9599', '서울85바3852', '서울85바4233', '서울85바9724', '서울85바9724', '서울85바9724', '서울85자4155', '서울85자5323', '서울85자5475', '서울85사5475', '서울85자5475', '서울85자7151', '서울86바3195', '서울86바3195', '서울86바5568', '서울86바5577', '서울86바5577', '서울82자2604', '서울87자2546', '서울87자9167', '서울88바9300', '서울88바9300', '서울89자3407', '서울89자4273', '서울89자4273', '서울89자4273', '서울89자4273', '서울89자4273', '서울89자4273', '서울89자4273', '서울89자4273', '서울89자4310', '서울89자5859', '서울89자5859', '서울89자784', '서울89자8389', '서울89자8389', '서울85자1415', '서울98바3721', '서울98바3721', '서울98바3721', '서울98바3721', '서울98바3721', '서울86바8698', '서울98사1122', '서울98사1291', '서울관악카8627', '서울구로카4849', '서울구로카6049', '서울구로카4296', '서울구로카5780', '서울구로카5845', '서울구로카5848', '서울금천자6080', '서울금천자6080', '서울서대문6336', '서울서대문바6336', '영경기14모620', '영경기14모881', '영경기14모88241', '영인천065228', '인천30바1041', '인천30바1192', '인천30바2152', '인천30바2181', '인천30바2332', '인천30바2736', '인천30바3108', '인천30바3161', '인천30바3331', '인천30바3776', '인천30바3943', '인천30바4033', '인천30바4067', '인천30바4322', '인천30바4738', '인천30바4800', '인천30바4815', '인천30바4873', '인천30바4945', '인천30바4988', '인천30바5017', '인천30바5094', '인천30바5446', '인천30바5813', '인천30바5907', '인천30바7310', '인천30바7349', '인천30바7669', '인천30바7854', '인천30바7896', '인천30바8121', '인천30바8224', '인천30바8554', '인천30바8878', '인천30바8906', '인천30바8921', '인천30바9161', '인천30바9604', '인천31바1320', '인천31바1359', '인천31바1511', '인천31바1541', '인천31바1606', '인천31바1612', '인천31바1737', '인천31바1847', '인천31바2027', '인천31바2328', '인천31바2377', '인천31바2419', '인천31바2436', '인천31바2743', '인천31바3102', '인천31바3125', '인천31바3712', '인천31바4160', '인천31바4266', '인천31바4266', '인천31바4640', '인천31바4783', '인천31바4784', '인천31바5599', '인천31바6105', '인천31바6250', '인천31바6274', '인천31바6336', '인천31바6591', '인천31바6594', '인천31바6664', '인천31바6664', '인천31바6968', '인천31바7108', '서울31바2227', '서울31바7266', '인천31바7417', '인천31바7445', '인천31바7755', '인천31바7944', '인천31바7950', '인천31바8107', '인천31바8125', '인천31바8152', '인천31바8162', '인천31바8229', '인천31바8240', '인천31바8246', '인천31바8246', '인천32바1068', '인천32바1271', '인천32바1295', '인천32바1328', '인천32바1653', '인천32바1711', '인천32바1777', '인천32바1910', '인천32바2110', '인천32바2239', '인천32바2416', '인천70바3824', '인천70바3824', '인천70바3825', '인천70바3825', '인천70바3825', '인천70바5007', '인천70바5051', '인천70바5051', '인천70바5051', '인천70바5051', '인천70바5055', '인천70바5901', '인천70바6022', '인천70바6022', '인천71바3923', '인천71바4433', '인천71바4433', '인천71바4751', '인천71바4751', '인천71바4751', '인천71바4751', '인천71바4751', '인천71바4751', '인천71바4751', '전천71바5757', '인천70바5757', '경기73바6162', '인천71바6168', '인천82바6168', '인천75사1706', '인천74바1469', '경기71아1469', '인천72바1583', '인천72바1784', '인천72바1784', '인천72바1784', '인천72바1784', '인천72바1784', '인천72바1784', '인천72바1784', '인천72바1784', '인천72바1784', '인천72바1784', '인천72바1784', '인천72바1784', '인천72바1784', '인천72바1784', '인천72바1784', '인천72바1803', '인천72바1868', '인천72바1901', '인천72바1901', '인천72바1901', '인천73바9941', '인천73아1100', '인천73아1298', '인천73아1419', '인천74바1234', '인천8바1283', '인천74사1158', '인천73아1008', '인천71아2022', '인천83아2121', '인천83아2121', '인천75아2209', '경기86아2404', '인천78아2304', '인천78바1137', '인천78바1137', '인천78바1138', '인천78바1138', '인천78바1138', '인천78바1140', '인천78바1140', '인천78바1140', '인천78바1144', '인천78바1147', '인천78바1148', '인천78바1149', '인천78바1153', '인천78바1154', '인천78바1154', '인천78바1157', '인천78바1157', '인천78바1158', '인천78바1159', '인천78바1159', '인천78바1159', '인천78바1160', '인천78바1160', '인천78바1160', '인천78바1165', '인천78바1167', '인천78바1168', '인천78바1168', '인천78바1174', '인천78바1298', '인천78바1298', '인천73바1916', '인천78바1916', '인천80바8523', '경기80바8652', '인천81바4438', '인천81바4438', '인천81바4909', '인천81바5007', '인천82바2070', '인천82바2070', '인천82바2298', '인천82바2852', '인천82바2852', '인천82바2852', '인천82바2872', '인천82바3009', '인천81바3952', '인천81바3952', '인천82바3981', '인천82바3981', '인천81바4472', '인천82배1069', '경기82배1079', '인천82배1466', '인천82배1466', '인천83바2431', '인천83바3528', '인천83바4704', '인천83바4704', '인천83바4704', '인천83바4704', '인천84바4178', '인천84바4537', '인천84배1010', '인천84배1010', '인천84배1010', '인천84배1450', '인천83배1479', '인천84배1505', '인천84배1603', '인천84배1603', '인천84배1603', '인천84배1603', '인천84배1603', '인천84배1785', '인천84배1844', '인천84배1928', '인천84배1958', '인천84배1958', '인천85바1482', '인천85배1054', '인천85배1054', '인천85배1112', '인천85배1112', '인천85배1112', '인천85배1112', '인천85배1112', '인천85배1157', '인천85배1157', '인천85배1369', '인천85바1498', '인천85배1498', '인천83배1498', '인천85배1764', '인천85배1774', '인천85배1774', '인천85배1787', '인천85배1787', '인천85배1787', '인천85사4075', '인천85아7141', '인천86바1134', '인천86바1282', '인천86바3430', '인천86배1004', '인천86배1004', '인천86배1026', '인천86배1226', '인천86배1283', '인천86배1283', '인천86사2001', '인천87배1088', '경기87배1088', '인천94바6098', '인천94바6098', '인천99아3337', '인천99아3337', '인천9아4488', '인천부평아2190', '인천부평아2190', '인천연수나2733', '인울연수나2733', '전남82바5101', '전북73바1507', '전북73바1507', '전북73바1507', '전북71바8753', '충남84사2044', '충북80배1659', '충북8아1511', '서울82배1703', '충북98아1703']\n"
          ]
        }
      ]
    },
    {
      "cell_type": "code",
      "source": [
        "val_dataset.y"
      ],
      "metadata": {
        "colab": {
          "base_uri": "https://localhost:8080/"
        },
        "id": "8CXFLTnGkEZ4",
        "outputId": "52cb192a-8ba5-4c38-b27b-5410a754575b"
      },
      "execution_count": null,
      "outputs": [
        {
          "output_type": "execute_result",
          "data": {
            "text/plain": [
              "array(['01가3733', '01거0598', '01거0608', ..., '충북88아1511', '충북92아1703',\n",
              "       '충북92아1703'], dtype='<U11')"
            ]
          },
          "metadata": {},
          "execution_count": 40
        }
      ]
    },
    {
      "cell_type": "code",
      "source": [
        "pred_arr = np.array(eval_preds)\n",
        "print(pred_arr[pred_arr!=val_dataset.y][:10])\n",
        "print(val_dataset.y[pred_arr!=val_dataset.y][:10])"
      ],
      "metadata": {
        "colab": {
          "base_uri": "https://localhost:8080/"
        },
        "id": "YkrGswtNlRKn",
        "outputId": "46a57c33-879a-423d-9550-bd56a3395acd"
      },
      "execution_count": null,
      "outputs": [
        {
          "output_type": "stream",
          "name": "stdout",
          "text": [
            "['08마8385' '01머7076' '01무0999' '30무4955' '01무6981' '06수3454' '06노8771'\n",
            " '06노7212' '02호8951' '08조5884']\n",
            "['01고8385' '01더7076' '01루0999' '01부4156' '01우6981' '02노3454' '02루8771'\n",
            " '02오7212' '02오8951' '02우5884']\n"
          ]
        }
      ]
    },
    {
      "cell_type": "code",
      "source": [
        "imgs = val_dataset.X[pred_arr!=val_dataset.y]\n",
        "\n",
        "import matplotlib.pyplot as plt\n",
        "\n",
        "for i in range(10):\n",
        "  plt.subplot(5, 2, i+1)\n",
        "  plt.imshow(imgs[i])\n",
        "plt.show()"
      ],
      "metadata": {
        "colab": {
          "base_uri": "https://localhost:8080/",
          "height": 434
        },
        "id": "yrAAhA7GnHSi",
        "outputId": "377867f5-7b6d-4edb-c133-c1d180fc192d"
      },
      "execution_count": null,
      "outputs": [
        {
          "output_type": "display_data",
          "data": {
            "text/plain": [
              "<Figure size 640x480 with 10 Axes>"
            ],
            "image/png": "[encoded data removed]"
          },
          "metadata": {}
        }
      ]
    }
  ],
  "metadata": {
    "colab": {
      "gpuType": "T4",
      "provenance": [],
      "mount_file_id": "13Ah2fHXyRS8z-JUViMqQKSLpohCzl7jQ",
      "authorship_tag": "ABX9TyOfwTzc1K9uyQEPpN+R+66h",
      "include_colab_link": true
    },
    "kernelspec": {
      "display_name": "Python 3",
      "name": "python3"
    },
    "language_info": {
      "name": "python"
    },
    "accelerator": "GPU"
  },
  "nbformat": 4,
  "nbformat_minor": 0
}